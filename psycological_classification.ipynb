{
 "cells": [
  {
   "cell_type": "markdown",
   "metadata": {
    "id": "ehEZL4-fLweY"
   },
   "source": [
    "**Problem statement**\n",
    "* Use relevant machine learning model to predict whether a person is willing for work/study from office or work/study from home"
   ]
  },
  {
   "cell_type": "code",
   "execution_count": 1,
   "metadata": {
    "id": "nRUpNH48bIE_"
   },
   "outputs": [],
   "source": [
    "# import basic libraries\n",
    "import numpy as np\n",
    "import pandas as pd\n",
    "import seaborn as sns\n",
    "import matplotlib.pyplot as plt\n",
    "import warnings\n",
    "warnings.filterwarnings('ignore')"
   ]
  },
  {
   "cell_type": "code",
   "execution_count": 2,
   "metadata": {
    "id": "qtOQE2nfbcx8"
   },
   "outputs": [],
   "source": [
    "# load the data\n",
    "data=pd.read_csv('psyco.csv')"
   ]
  },
  {
   "cell_type": "code",
   "execution_count": 3,
   "metadata": {
    "colab": {
     "base_uri": "https://localhost:8080/",
     "height": 446
    },
    "id": "jmYMuO9Yb4Jm",
    "outputId": "0b20054d-88ba-4598-c3aa-41e6aa904bef"
   },
   "outputs": [
    {
     "data": {
      "text/html": [
       "\n",
       "  <div id=\"df-b9e1e098-c711-4679-88f5-1e5e2fb96a41\" class=\"colab-df-container\">\n",
       "    <div>\n",
       "<style scoped>\n",
       "    .dataframe tbody tr th:only-of-type {\n",
       "        vertical-align: middle;\n",
       "    }\n",
       "\n",
       "    .dataframe tbody tr th {\n",
       "        vertical-align: top;\n",
       "    }\n",
       "\n",
       "    .dataframe thead th {\n",
       "        text-align: right;\n",
       "    }\n",
       "</style>\n",
       "<table border=\"1\" class=\"dataframe\">\n",
       "  <thead>\n",
       "    <tr style=\"text-align: right;\">\n",
       "      <th></th>\n",
       "      <th>age</th>\n",
       "      <th>gender</th>\n",
       "      <th>occupation</th>\n",
       "      <th>line_of_work</th>\n",
       "      <th>time_bp</th>\n",
       "      <th>time_dp</th>\n",
       "      <th>travel_time</th>\n",
       "      <th>easeof_online</th>\n",
       "      <th>home_env</th>\n",
       "      <th>prod_inc</th>\n",
       "      <th>...</th>\n",
       "      <th>fam_connect</th>\n",
       "      <th>relaxed</th>\n",
       "      <th>self_time</th>\n",
       "      <th>like_hw</th>\n",
       "      <th>dislike_hw</th>\n",
       "      <th>prefer</th>\n",
       "      <th>certaindays_hw</th>\n",
       "      <th>Unnamed: 19</th>\n",
       "      <th>time_bp.1</th>\n",
       "      <th>travel+work</th>\n",
       "    </tr>\n",
       "  </thead>\n",
       "  <tbody>\n",
       "    <tr>\n",
       "      <th>0</th>\n",
       "      <td>19-25</td>\n",
       "      <td>Male</td>\n",
       "      <td>Student in College</td>\n",
       "      <td>NaN</td>\n",
       "      <td>7</td>\n",
       "      <td>5</td>\n",
       "      <td>0.5</td>\n",
       "      <td>3</td>\n",
       "      <td>3</td>\n",
       "      <td>0.0</td>\n",
       "      <td>...</td>\n",
       "      <td>1.0</td>\n",
       "      <td>-0.5</td>\n",
       "      <td>-0.5</td>\n",
       "      <td>100</td>\n",
       "      <td>1</td>\n",
       "      <td>Complete Physical Attendance</td>\n",
       "      <td>Yes</td>\n",
       "      <td>NaN</td>\n",
       "      <td>7</td>\n",
       "      <td>NaN</td>\n",
       "    </tr>\n",
       "    <tr>\n",
       "      <th>1</th>\n",
       "      <td>Dec-18</td>\n",
       "      <td>Male</td>\n",
       "      <td>Student in School</td>\n",
       "      <td>NaN</td>\n",
       "      <td>7</td>\n",
       "      <td>11</td>\n",
       "      <td>0.5</td>\n",
       "      <td>4</td>\n",
       "      <td>2</td>\n",
       "      <td>-0.5</td>\n",
       "      <td>...</td>\n",
       "      <td>1.0</td>\n",
       "      <td>1.0</td>\n",
       "      <td>1.0</td>\n",
       "      <td>1111</td>\n",
       "      <td>1110</td>\n",
       "      <td>Complete Physical Attendance</td>\n",
       "      <td>No</td>\n",
       "      <td>NaN</td>\n",
       "      <td>7</td>\n",
       "      <td>NaN</td>\n",
       "    </tr>\n",
       "    <tr>\n",
       "      <th>2</th>\n",
       "      <td>19-25</td>\n",
       "      <td>Male</td>\n",
       "      <td>Student in College</td>\n",
       "      <td>NaN</td>\n",
       "      <td>7</td>\n",
       "      <td>7</td>\n",
       "      <td>1.5</td>\n",
       "      <td>2</td>\n",
       "      <td>2</td>\n",
       "      <td>1.0</td>\n",
       "      <td>...</td>\n",
       "      <td>0.5</td>\n",
       "      <td>0.5</td>\n",
       "      <td>0.5</td>\n",
       "      <td>1100</td>\n",
       "      <td>111</td>\n",
       "      <td>Complete Physical Attendance</td>\n",
       "      <td>Yes</td>\n",
       "      <td>NaN</td>\n",
       "      <td>7</td>\n",
       "      <td>NaN</td>\n",
       "    </tr>\n",
       "    <tr>\n",
       "      <th>3</th>\n",
       "      <td>19-25</td>\n",
       "      <td>Male</td>\n",
       "      <td>Student in College</td>\n",
       "      <td>NaN</td>\n",
       "      <td>7</td>\n",
       "      <td>7</td>\n",
       "      <td>1.5</td>\n",
       "      <td>3</td>\n",
       "      <td>1</td>\n",
       "      <td>0.0</td>\n",
       "      <td>...</td>\n",
       "      <td>0.0</td>\n",
       "      <td>-1.0</td>\n",
       "      <td>-0.5</td>\n",
       "      <td>100</td>\n",
       "      <td>1111</td>\n",
       "      <td>Complete Physical Attendance</td>\n",
       "      <td>Yes</td>\n",
       "      <td>NaN</td>\n",
       "      <td>7</td>\n",
       "      <td>NaN</td>\n",
       "    </tr>\n",
       "    <tr>\n",
       "      <th>4</th>\n",
       "      <td>19-25</td>\n",
       "      <td>Female</td>\n",
       "      <td>Student in College</td>\n",
       "      <td>NaN</td>\n",
       "      <td>7</td>\n",
       "      <td>7</td>\n",
       "      <td>1.5</td>\n",
       "      <td>2</td>\n",
       "      <td>2</td>\n",
       "      <td>0.0</td>\n",
       "      <td>...</td>\n",
       "      <td>0.0</td>\n",
       "      <td>0.5</td>\n",
       "      <td>0.0</td>\n",
       "      <td>1010</td>\n",
       "      <td>1000</td>\n",
       "      <td>Complete Physical Attendance</td>\n",
       "      <td>Yes</td>\n",
       "      <td>NaN</td>\n",
       "      <td>7</td>\n",
       "      <td>NaN</td>\n",
       "    </tr>\n",
       "  </tbody>\n",
       "</table>\n",
       "<p>5 rows × 22 columns</p>\n",
       "</div>\n",
       "    <div class=\"colab-df-buttons\">\n",
       "\n",
       "  <div class=\"colab-df-container\">\n",
       "    <button class=\"colab-df-convert\" onclick=\"convertToInteractive('df-b9e1e098-c711-4679-88f5-1e5e2fb96a41')\"\n",
       "            title=\"Convert this dataframe to an interactive table.\"\n",
       "            style=\"display:none;\">\n",
       "\n",
       "  <svg xmlns=\"http://www.w3.org/2000/svg\" height=\"24px\" viewBox=\"0 -960 960 960\">\n",
       "    <path d=\"M120-120v-720h720v720H120Zm60-500h600v-160H180v160Zm220 220h160v-160H400v160Zm0 220h160v-160H400v160ZM180-400h160v-160H180v160Zm440 0h160v-160H620v160ZM180-180h160v-160H180v160Zm440 0h160v-160H620v160Z\"/>\n",
       "  </svg>\n",
       "    </button>\n",
       "\n",
       "  <style>\n",
       "    .colab-df-container {\n",
       "      display:flex;\n",
       "      gap: 12px;\n",
       "    }\n",
       "\n",
       "    .colab-df-convert {\n",
       "      background-color: #E8F0FE;\n",
       "      border: none;\n",
       "      border-radius: 50%;\n",
       "      cursor: pointer;\n",
       "      display: none;\n",
       "      fill: #1967D2;\n",
       "      height: 32px;\n",
       "      padding: 0 0 0 0;\n",
       "      width: 32px;\n",
       "    }\n",
       "\n",
       "    .colab-df-convert:hover {\n",
       "      background-color: #E2EBFA;\n",
       "      box-shadow: 0px 1px 2px rgba(60, 64, 67, 0.3), 0px 1px 3px 1px rgba(60, 64, 67, 0.15);\n",
       "      fill: #174EA6;\n",
       "    }\n",
       "\n",
       "    .colab-df-buttons div {\n",
       "      margin-bottom: 4px;\n",
       "    }\n",
       "\n",
       "    [theme=dark] .colab-df-convert {\n",
       "      background-color: #3B4455;\n",
       "      fill: #D2E3FC;\n",
       "    }\n",
       "\n",
       "    [theme=dark] .colab-df-convert:hover {\n",
       "      background-color: #434B5C;\n",
       "      box-shadow: 0px 1px 3px 1px rgba(0, 0, 0, 0.15);\n",
       "      filter: drop-shadow(0px 1px 2px rgba(0, 0, 0, 0.3));\n",
       "      fill: #FFFFFF;\n",
       "    }\n",
       "  </style>\n",
       "\n",
       "    <script>\n",
       "      const buttonEl =\n",
       "        document.querySelector('#df-b9e1e098-c711-4679-88f5-1e5e2fb96a41 button.colab-df-convert');\n",
       "      buttonEl.style.display =\n",
       "        google.colab.kernel.accessAllowed ? 'block' : 'none';\n",
       "\n",
       "      async function convertToInteractive(key) {\n",
       "        const element = document.querySelector('#df-b9e1e098-c711-4679-88f5-1e5e2fb96a41');\n",
       "        const dataTable =\n",
       "          await google.colab.kernel.invokeFunction('convertToInteractive',\n",
       "                                                    [key], {});\n",
       "        if (!dataTable) return;\n",
       "\n",
       "        const docLinkHtml = 'Like what you see? Visit the ' +\n",
       "          '<a target=\"_blank\" href=https://colab.research.google.com/notebooks/data_table.ipynb>data table notebook</a>'\n",
       "          + ' to learn more about interactive tables.';\n",
       "        element.innerHTML = '';\n",
       "        dataTable['output_type'] = 'display_data';\n",
       "        await google.colab.output.renderOutput(dataTable, element);\n",
       "        const docLink = document.createElement('div');\n",
       "        docLink.innerHTML = docLinkHtml;\n",
       "        element.appendChild(docLink);\n",
       "      }\n",
       "    </script>\n",
       "  </div>\n",
       "\n",
       "\n",
       "<div id=\"df-e5b1db61-30f1-4170-b921-2571ba644958\">\n",
       "  <button class=\"colab-df-quickchart\" onclick=\"quickchart('df-e5b1db61-30f1-4170-b921-2571ba644958')\"\n",
       "            title=\"Suggest charts.\"\n",
       "            style=\"display:none;\">\n",
       "\n",
       "<svg xmlns=\"http://www.w3.org/2000/svg\" height=\"24px\"viewBox=\"0 0 24 24\"\n",
       "     width=\"24px\">\n",
       "    <g>\n",
       "        <path d=\"M19 3H5c-1.1 0-2 .9-2 2v14c0 1.1.9 2 2 2h14c1.1 0 2-.9 2-2V5c0-1.1-.9-2-2-2zM9 17H7v-7h2v7zm4 0h-2V7h2v10zm4 0h-2v-4h2v4z\"/>\n",
       "    </g>\n",
       "</svg>\n",
       "  </button>\n",
       "\n",
       "<style>\n",
       "  .colab-df-quickchart {\n",
       "    background-color: #E8F0FE;\n",
       "    border: none;\n",
       "    border-radius: 50%;\n",
       "    cursor: pointer;\n",
       "    display: none;\n",
       "    fill: #1967D2;\n",
       "    height: 32px;\n",
       "    padding: 0 0 0 0;\n",
       "    width: 32px;\n",
       "  }\n",
       "\n",
       "  .colab-df-quickchart:hover {\n",
       "    background-color: #E2EBFA;\n",
       "    box-shadow: 0px 1px 2px rgba(60, 64, 67, 0.3), 0px 1px 3px 1px rgba(60, 64, 67, 0.15);\n",
       "    fill: #174EA6;\n",
       "  }\n",
       "\n",
       "  [theme=dark] .colab-df-quickchart {\n",
       "    background-color: #3B4455;\n",
       "    fill: #D2E3FC;\n",
       "  }\n",
       "\n",
       "  [theme=dark] .colab-df-quickchart:hover {\n",
       "    background-color: #434B5C;\n",
       "    box-shadow: 0px 1px 3px 1px rgba(0, 0, 0, 0.15);\n",
       "    filter: drop-shadow(0px 1px 2px rgba(0, 0, 0, 0.3));\n",
       "    fill: #FFFFFF;\n",
       "  }\n",
       "</style>\n",
       "\n",
       "  <script>\n",
       "    async function quickchart(key) {\n",
       "      const charts = await google.colab.kernel.invokeFunction(\n",
       "          'suggestCharts', [key], {});\n",
       "    }\n",
       "    (() => {\n",
       "      let quickchartButtonEl =\n",
       "        document.querySelector('#df-e5b1db61-30f1-4170-b921-2571ba644958 button');\n",
       "      quickchartButtonEl.style.display =\n",
       "        google.colab.kernel.accessAllowed ? 'block' : 'none';\n",
       "    })();\n",
       "  </script>\n",
       "</div>\n",
       "    </div>\n",
       "  </div>\n"
      ],
      "text/plain": [
       "      age  gender          occupation line_of_work  time_bp  time_dp  \\\n",
       "0   19-25    Male  Student in College          NaN        7        5   \n",
       "1  Dec-18    Male   Student in School          NaN        7       11   \n",
       "2   19-25    Male  Student in College          NaN        7        7   \n",
       "3   19-25    Male  Student in College          NaN        7        7   \n",
       "4   19-25  Female  Student in College          NaN        7        7   \n",
       "\n",
       "   travel_time  easeof_online  home_env  prod_inc  ...  fam_connect  relaxed  \\\n",
       "0          0.5              3         3       0.0  ...          1.0     -0.5   \n",
       "1          0.5              4         2      -0.5  ...          1.0      1.0   \n",
       "2          1.5              2         2       1.0  ...          0.5      0.5   \n",
       "3          1.5              3         1       0.0  ...          0.0     -1.0   \n",
       "4          1.5              2         2       0.0  ...          0.0      0.5   \n",
       "\n",
       "   self_time  like_hw  dislike_hw                        prefer  \\\n",
       "0       -0.5      100           1  Complete Physical Attendance   \n",
       "1        1.0     1111        1110  Complete Physical Attendance   \n",
       "2        0.5     1100         111  Complete Physical Attendance   \n",
       "3       -0.5      100        1111  Complete Physical Attendance   \n",
       "4        0.0     1010        1000  Complete Physical Attendance   \n",
       "\n",
       "   certaindays_hw Unnamed: 19 time_bp.1  travel+work  \n",
       "0             Yes         NaN         7          NaN  \n",
       "1              No         NaN         7          NaN  \n",
       "2             Yes         NaN         7          NaN  \n",
       "3             Yes         NaN         7          NaN  \n",
       "4             Yes         NaN         7          NaN  \n",
       "\n",
       "[5 rows x 22 columns]"
      ]
     },
     "execution_count": 3,
     "metadata": {},
     "output_type": "execute_result"
    }
   ],
   "source": [
    "data.head()"
   ]
  },
  {
   "cell_type": "code",
   "execution_count": 4,
   "metadata": {
    "colab": {
     "base_uri": "https://localhost:8080/"
    },
    "id": "bxNXBazncALo",
    "outputId": "0a2860ae-8464-43cc-8597-0b2cd7b65a8f"
   },
   "outputs": [
    {
     "data": {
      "text/plain": [
       "(1175, 22)"
      ]
     },
     "execution_count": 4,
     "metadata": {},
     "output_type": "execute_result"
    }
   ],
   "source": [
    "data.shape"
   ]
  },
  {
   "cell_type": "code",
   "execution_count": 5,
   "metadata": {
    "colab": {
     "base_uri": "https://localhost:8080/"
    },
    "id": "Z6qDjqYucNPp",
    "outputId": "51cb88dd-6eaa-4141-9a1b-db2fe5161b6d"
   },
   "outputs": [
    {
     "data": {
      "text/plain": [
       "Index(['age', 'gender', 'occupation', 'line_of_work', 'time_bp', 'time_dp',\n",
       "       'travel_time', 'easeof_online', 'home_env', 'prod_inc', 'sleep_bal',\n",
       "       'new_skill', 'fam_connect', 'relaxed', 'self_time', 'like_hw',\n",
       "       'dislike_hw', 'prefer', 'certaindays_hw', 'Unnamed: 19', 'time_bp.1',\n",
       "       'travel+work'],\n",
       "      dtype='object')"
      ]
     },
     "execution_count": 5,
     "metadata": {},
     "output_type": "execute_result"
    }
   ],
   "source": [
    "data.columns"
   ]
  },
  {
   "cell_type": "code",
   "execution_count": 6,
   "metadata": {
    "colab": {
     "base_uri": "https://localhost:8080/"
    },
    "id": "rAze4nS8cRmr",
    "outputId": "10edbabb-87c2-45d4-df91-fc8aef047d68"
   },
   "outputs": [
    {
     "name": "stdout",
     "output_type": "stream",
     "text": [
      "<class 'pandas.core.frame.DataFrame'>\n",
      "RangeIndex: 1175 entries, 0 to 1174\n",
      "Data columns (total 22 columns):\n",
      " #   Column          Non-Null Count  Dtype  \n",
      "---  ------          --------------  -----  \n",
      " 0   age             1175 non-null   object \n",
      " 1   gender          1175 non-null   object \n",
      " 2   occupation      1175 non-null   object \n",
      " 3   line_of_work    479 non-null    object \n",
      " 4   time_bp         1175 non-null   int64  \n",
      " 5   time_dp         1175 non-null   int64  \n",
      " 6   travel_time     1175 non-null   float64\n",
      " 7   easeof_online   1175 non-null   int64  \n",
      " 8   home_env        1175 non-null   int64  \n",
      " 9   prod_inc        1175 non-null   float64\n",
      " 10  sleep_bal       1175 non-null   float64\n",
      " 11  new_skill       1175 non-null   float64\n",
      " 12  fam_connect     1175 non-null   float64\n",
      " 13  relaxed         1175 non-null   float64\n",
      " 14  self_time       1175 non-null   float64\n",
      " 15  like_hw         1175 non-null   int64  \n",
      " 16  dislike_hw      1175 non-null   int64  \n",
      " 17  prefer          1175 non-null   object \n",
      " 18  certaindays_hw  1175 non-null   object \n",
      " 19  Unnamed: 19     0 non-null      float64\n",
      " 20  time_bp.1       1175 non-null   int64  \n",
      " 21  travel+work     0 non-null      float64\n",
      "dtypes: float64(9), int64(7), object(6)\n",
      "memory usage: 202.1+ KB\n"
     ]
    }
   ],
   "source": [
    "data.info()"
   ]
  },
  {
   "cell_type": "code",
   "execution_count": 7,
   "metadata": {
    "id": "9qVS9P39cy16"
   },
   "outputs": [],
   "source": [
    "data.drop(['Unnamed: 19'],axis=1,inplace=True)"
   ]
  },
  {
   "cell_type": "code",
   "execution_count": 8,
   "metadata": {
    "id": "FqH5_UmsdGfO"
   },
   "outputs": [],
   "source": [
    "data.drop('travel+work',axis=1,inplace=True)"
   ]
  },
  {
   "cell_type": "code",
   "execution_count": 9,
   "metadata": {
    "colab": {
     "base_uri": "https://localhost:8080/"
    },
    "id": "RDT0H0e2dSuy",
    "outputId": "3ef82af7-3f58-4d21-833a-5c5ce83721c6"
   },
   "outputs": [
    {
     "data": {
      "text/plain": [
       "Index(['age', 'gender', 'occupation', 'line_of_work', 'time_bp', 'time_dp',\n",
       "       'travel_time', 'easeof_online', 'home_env', 'prod_inc', 'sleep_bal',\n",
       "       'new_skill', 'fam_connect', 'relaxed', 'self_time', 'like_hw',\n",
       "       'dislike_hw', 'prefer', 'certaindays_hw', 'time_bp.1'],\n",
       "      dtype='object')"
      ]
     },
     "execution_count": 9,
     "metadata": {},
     "output_type": "execute_result"
    }
   ],
   "source": [
    "data.columns"
   ]
  },
  {
   "cell_type": "code",
   "execution_count": 10,
   "metadata": {
    "id": "L0IkcuiZdf3r"
   },
   "outputs": [],
   "source": [
    "num_col=data.select_dtypes(include=('int64','float64'))"
   ]
  },
  {
   "cell_type": "code",
   "execution_count": 11,
   "metadata": {
    "colab": {
     "base_uri": "https://localhost:8080/"
    },
    "id": "oy4vKKPxdw6l",
    "outputId": "a217da5b-fed5-4e4a-efc1-25874d216d76"
   },
   "outputs": [
    {
     "data": {
      "text/plain": [
       "Index(['time_bp', 'time_dp', 'travel_time', 'easeof_online', 'home_env',\n",
       "       'prod_inc', 'sleep_bal', 'new_skill', 'fam_connect', 'relaxed',\n",
       "       'self_time', 'like_hw', 'dislike_hw', 'time_bp.1'],\n",
       "      dtype='object')"
      ]
     },
     "execution_count": 11,
     "metadata": {},
     "output_type": "execute_result"
    }
   ],
   "source": [
    "num_col.columns"
   ]
  },
  {
   "cell_type": "code",
   "execution_count": 12,
   "metadata": {
    "id": "eLCLTBlydy3w"
   },
   "outputs": [],
   "source": [
    "cat_col=data.select_dtypes(include='O')"
   ]
  },
  {
   "cell_type": "code",
   "execution_count": 13,
   "metadata": {
    "colab": {
     "base_uri": "https://localhost:8080/"
    },
    "id": "vYa5yyiWd7jl",
    "outputId": "d6304383-c670-48bb-9c6d-d3ad2b5a6548"
   },
   "outputs": [
    {
     "data": {
      "text/plain": [
       "Index(['age', 'gender', 'occupation', 'line_of_work', 'prefer',\n",
       "       'certaindays_hw'],\n",
       "      dtype='object')"
      ]
     },
     "execution_count": 13,
     "metadata": {},
     "output_type": "execute_result"
    }
   ],
   "source": [
    "cat_col.columns"
   ]
  },
  {
   "cell_type": "code",
   "execution_count": 14,
   "metadata": {
    "colab": {
     "base_uri": "https://localhost:8080/"
    },
    "id": "m1pg5MQfd9lp",
    "outputId": "f36a7208-fc27-4f68-ec7e-94f0d3399a0e"
   },
   "outputs": [
    {
     "name": "stdout",
     "output_type": "stream",
     "text": [
      "age ['19-25' 'Dec-18' '33-40' '60+' '26-32' '40-50' '50-60']\n",
      "age 19-25     345\n",
      "26-32     261\n",
      "40-50     181\n",
      "50-60     170\n",
      "33-40     102\n",
      "Dec-18     74\n",
      "60+        42\n",
      "Name: age, dtype: int64\n",
      "gender ['Male' 'Female' 'Prefer not to say']\n",
      "gender Male                 649\n",
      "Female               518\n",
      "Prefer not to say      8\n",
      "Name: gender, dtype: int64\n",
      "occupation ['Student in College' 'Student in School' 'Working Professional'\n",
      " 'Entrepreneur' 'Retired/Senior Citizen' 'Homemaker'\n",
      " 'Currently Out of Work'\n",
      " 'Medical Professional aiding efforts against COVID-19']\n",
      "occupation Working Professional                                    479\n",
      "Student in College                                      358\n",
      "Entrepreneur                                            119\n",
      "Homemaker                                                82\n",
      "Medical Professional aiding efforts against COVID-19     73\n",
      "Currently Out of Work                                    44\n",
      "Student in School                                        18\n",
      "Retired/Senior Citizen                                    2\n",
      "Name: occupation, dtype: int64\n",
      "line_of_work [nan 'Teaching' 'Engineering' 'Management' 'APSPDCL ' 'Architecture'\n",
      " 'Architect' 'Other' 'Government Employee']\n",
      "line_of_work Teaching               217\n",
      "Engineering            116\n",
      "Management              66\n",
      "Other                   40\n",
      "Government Employee     35\n",
      "Architect                3\n",
      "APSPDCL                  1\n",
      "Architecture             1\n",
      "Name: line_of_work, dtype: int64\n",
      "prefer ['Complete Physical Attendance' 'Work/study from home']\n",
      "prefer Complete Physical Attendance    836\n",
      "Work/study from home            339\n",
      "Name: prefer, dtype: int64\n",
      "certaindays_hw ['Yes' 'No' 'Maybe']\n",
      "certaindays_hw Yes      568\n",
      "No       309\n",
      "Maybe    298\n",
      "Name: certaindays_hw, dtype: int64\n"
     ]
    }
   ],
   "source": [
    "for i in cat_col:\n",
    "  print(i,data[i].unique())\n",
    "  print(i,data[i].value_counts())"
   ]
  },
  {
   "cell_type": "markdown",
   "metadata": {
    "id": "Lrefj5fWej4Y"
   },
   "source": [
    "**Exploratory Data Analysis**"
   ]
  },
  {
   "cell_type": "code",
   "execution_count": 15,
   "metadata": {
    "colab": {
     "base_uri": "https://localhost:8080/",
     "height": 510
    },
    "id": "Py5Th7gLeNDg",
    "outputId": "314a736e-4e47-4731-813e-9fb4d5c7a432"
   },
   "outputs": [
    {
     "data": {
      "image/png": "[encoded data removed]",
      "text/plain": [
       "<Figure size 2000x800 with 14 Axes>"
      ]
     },
     "metadata": {},
     "output_type": "display_data"
    }
   ],
   "source": [
    "# Univariate Analysis\n",
    "# numerical columns\n",
    "plt.figure(figsize=(20,8))\n",
    "plotnumber=1\n",
    "for i in num_col:\n",
    "  if plotnumber<=14:\n",
    "\n",
    "    ax=plt.subplot(3,5,plotnumber)\n",
    "    sns.countplot(x=data[i],hue=data['prefer'])\n",
    "  plotnumber+=1\n",
    "plt.tight_layout()\n"
   ]
  },
  {
   "cell_type": "code",
   "execution_count": 16,
   "metadata": {
    "colab": {
     "base_uri": "https://localhost:8080/",
     "height": 513
    },
    "id": "twIVNz0fe37a",
    "outputId": "ae7846d1-8234-4213-a088-6bdcef63626c"
   },
   "outputs": [
    {
     "data": {
      "image/png": "[encoded data removed]",
      "text/plain": [
       "<Figure size 2000x800 with 5 Axes>"
      ]
     },
     "metadata": {},
     "output_type": "display_data"
    }
   ],
   "source": [
    "# Categorical columns\n",
    "plt.figure(figsize=(20,8))\n",
    "plotnumber=1\n",
    "for i in cat_col.drop('prefer',axis=1):\n",
    "  if plotnumber<=6:\n",
    "\n",
    "    ax=plt.subplot(3,2,plotnumber)\n",
    "    sns.countplot(x=data[i],hue=data['prefer'])\n",
    "  plotnumber+=1\n",
    "plt.tight_layout()\n"
   ]
  },
  {
   "cell_type": "markdown",
   "metadata": {
    "id": "gpYoyABbiF1J"
   },
   "source": [
    "**Datapreprocessing**"
   ]
  },
  {
   "cell_type": "code",
   "execution_count": 17,
   "metadata": {
    "colab": {
     "base_uri": "https://localhost:8080/"
    },
    "id": "uP9Br9aTgOjO",
    "outputId": "f96e8aa1-b1a0-40fa-8a51-5e983dc25fef"
   },
   "outputs": [
    {
     "data": {
      "text/plain": [
       "696"
      ]
     },
     "execution_count": 17,
     "metadata": {},
     "output_type": "execute_result"
    }
   ],
   "source": [
    "# Handle the missing values\n",
    "data['line_of_work'].isnull().sum()"
   ]
  },
  {
   "cell_type": "code",
   "execution_count": 18,
   "metadata": {
    "colab": {
     "base_uri": "https://localhost:8080/"
    },
    "id": "y4osrMJBiaAf",
    "outputId": "a52db88c-4e6d-4f2b-db52-0e5a609cb3c8"
   },
   "outputs": [
    {
     "data": {
      "text/plain": [
       "Teaching               217\n",
       "Engineering            116\n",
       "Management              66\n",
       "Other                   40\n",
       "Government Employee     35\n",
       "Architect                3\n",
       "APSPDCL                  1\n",
       "Architecture             1\n",
       "Name: line_of_work, dtype: int64"
      ]
     },
     "execution_count": 18,
     "metadata": {},
     "output_type": "execute_result"
    }
   ],
   "source": [
    "data['line_of_work'].value_counts()"
   ]
  },
  {
   "cell_type": "code",
   "execution_count": 19,
   "metadata": {
    "id": "zxbigrDqiozq"
   },
   "outputs": [],
   "source": [
    "data.loc[data['line_of_work'].isnull()==True,'line_of_work']='Teaching'"
   ]
  },
  {
   "cell_type": "code",
   "execution_count": 20,
   "metadata": {
    "colab": {
     "base_uri": "https://localhost:8080/"
    },
    "id": "ZOz54pMujM9v",
    "outputId": "bfa4587e-f580-41fd-c229-973423f92cc6"
   },
   "outputs": [
    {
     "data": {
      "text/plain": [
       "0"
      ]
     },
     "execution_count": 20,
     "metadata": {},
     "output_type": "execute_result"
    }
   ],
   "source": [
    "data['line_of_work'].isnull().sum()"
   ]
  },
  {
   "cell_type": "markdown",
   "metadata": {
    "id": "XTuMf1c1lhmz"
   },
   "source": [
    "**Converting categorical into numerical**"
   ]
  },
  {
   "cell_type": "code",
   "execution_count": 21,
   "metadata": {
    "colab": {
     "base_uri": "https://localhost:8080/"
    },
    "id": "Y3Q5FwjzkWbf",
    "outputId": "dc53e683-fc22-44ea-b72e-e408de0bb0b8"
   },
   "outputs": [
    {
     "data": {
      "text/plain": [
       "array(['19-25', 'Dec-18', '33-40', '60+', '26-32', '40-50', '50-60'],\n",
       "      dtype=object)"
      ]
     },
     "execution_count": 21,
     "metadata": {},
     "output_type": "execute_result"
    }
   ],
   "source": [
    "data['age'].unique()"
   ]
  },
  {
   "cell_type": "code",
   "execution_count": 22,
   "metadata": {
    "colab": {
     "base_uri": "https://localhost:8080/",
     "height": 466
    },
    "id": "TMQCJAGjluWQ",
    "outputId": "b76d9196-3e01-4af4-c996-fb0e2632ba40"
   },
   "outputs": [
    {
     "data": {
      "text/plain": [
       "<Axes: xlabel='age', ylabel='count'>"
      ]
     },
     "execution_count": 22,
     "metadata": {},
     "output_type": "execute_result"
    },
    {
     "data": {
      "image/png": "[encoded data removed]",
      "text/plain": [
       "<Figure size 640x480 with 1 Axes>"
      ]
     },
     "metadata": {},
     "output_type": "display_data"
    }
   ],
   "source": [
    "sns.countplot(x=data['age'],hue=data['prefer'])"
   ]
  },
  {
   "cell_type": "code",
   "execution_count": 23,
   "metadata": {
    "id": "7Rk8Ry6Ll5K_"
   },
   "outputs": [],
   "source": [
    "data['age']=data['age'].map({'26-32':6,'19-25':5,'40-50':4,'50-60':3,'Dec-18':2,'33-40':1,'60+':0})"
   ]
  },
  {
   "cell_type": "code",
   "execution_count": 24,
   "metadata": {
    "colab": {
     "base_uri": "https://localhost:8080/"
    },
    "id": "NmDJOgBnpEKT",
    "outputId": "d26e83c9-ded2-4ab3-c4a5-a0ade4a9a61c"
   },
   "outputs": [
    {
     "data": {
      "text/plain": [
       "array(['Male', 'Female', 'Prefer not to say'], dtype=object)"
      ]
     },
     "execution_count": 24,
     "metadata": {},
     "output_type": "execute_result"
    }
   ],
   "source": [
    "data.gender.unique()"
   ]
  },
  {
   "cell_type": "code",
   "execution_count": 25,
   "metadata": {
    "colab": {
     "base_uri": "https://localhost:8080/",
     "height": 466
    },
    "id": "pb05ZjJspPU7",
    "outputId": "da32067e-7ba8-497a-def3-f02fec1ce697"
   },
   "outputs": [
    {
     "data": {
      "text/plain": [
       "<Axes: xlabel='gender', ylabel='count'>"
      ]
     },
     "execution_count": 25,
     "metadata": {},
     "output_type": "execute_result"
    },
    {
     "data": {
      "image/png": "[encoded data removed]",
      "text/plain": [
       "<Figure size 640x480 with 1 Axes>"
      ]
     },
     "metadata": {},
     "output_type": "display_data"
    }
   ],
   "source": [
    "sns.countplot(x=data['gender'],hue=data['prefer'])"
   ]
  },
  {
   "cell_type": "code",
   "execution_count": 26,
   "metadata": {
    "id": "HGs6bJw_pXgr"
   },
   "outputs": [],
   "source": [
    "data.gender=data.gender.map({'Male':1,'Female':2,'Prefer not to say':0})"
   ]
  },
  {
   "cell_type": "code",
   "execution_count": 27,
   "metadata": {
    "colab": {
     "base_uri": "https://localhost:8080/"
    },
    "id": "c3P9LxKHpySM",
    "outputId": "5f3a7a50-a245-403f-ba40-ba439e2b365a"
   },
   "outputs": [
    {
     "data": {
      "text/plain": [
       "array(['Student in College', 'Student in School', 'Working Professional',\n",
       "       'Entrepreneur', 'Retired/Senior Citizen', 'Homemaker',\n",
       "       'Currently Out of Work',\n",
       "       'Medical Professional aiding efforts against COVID-19'],\n",
       "      dtype=object)"
      ]
     },
     "execution_count": 27,
     "metadata": {},
     "output_type": "execute_result"
    }
   ],
   "source": [
    "#occupaation\n",
    "data.occupation.unique()"
   ]
  },
  {
   "cell_type": "code",
   "execution_count": 28,
   "metadata": {
    "colab": {
     "base_uri": "https://localhost:8080/",
     "height": 641
    },
    "id": "sSyY7D_zp8OE",
    "outputId": "f6779c85-83b3-4ced-8c4c-1e573164576d"
   },
   "outputs": [
    {
     "data": {
      "image/png": "[encoded data removed]",
      "text/plain": [
       "<Figure size 2000x1000 with 1 Axes>"
      ]
     },
     "metadata": {},
     "output_type": "display_data"
    }
   ],
   "source": [
    "plt.figure(figsize=(20,10))\n",
    "sns.countplot(x=data['occupation'],hue=data['prefer'])\n",
    "plt.tight_layout()"
   ]
  },
  {
   "cell_type": "code",
   "execution_count": 29,
   "metadata": {
    "id": "z3-1Ggp3qDBq"
   },
   "outputs": [],
   "source": [
    "data.occupation=data.occupation.map({'Working Professional':7,'Student in College':6,'Entrepreneur':5,'Homemaker':4,'Student in School':3,'Currently Out of Work':2,'Medical Professional aiding efforts against COVID-19':1,'Retired/Senior Citizen':0})"
   ]
  },
  {
   "cell_type": "code",
   "execution_count": 30,
   "metadata": {
    "colab": {
     "base_uri": "https://localhost:8080/"
    },
    "id": "guh6cigYrWWM",
    "outputId": "b36d53b1-40df-4a18-9358-08f8b0e2bbc3"
   },
   "outputs": [
    {
     "data": {
      "text/plain": [
       "array(['Teaching', 'Engineering', 'Management', 'APSPDCL ',\n",
       "       'Architecture', 'Architect', 'Other', 'Government Employee'],\n",
       "      dtype=object)"
      ]
     },
     "execution_count": 30,
     "metadata": {},
     "output_type": "execute_result"
    }
   ],
   "source": [
    "#line_of_work\n",
    "data['line_of_work'].unique()"
   ]
  },
  {
   "cell_type": "code",
   "execution_count": 31,
   "metadata": {
    "colab": {
     "base_uri": "https://localhost:8080/",
     "height": 635
    },
    "id": "pydud1YwrkV4",
    "outputId": "0fc89ef1-fc9c-4796-f71a-0e021e3cd17d"
   },
   "outputs": [
    {
     "data": {
      "image/png": "[encoded data removed]",
      "text/plain": [
       "<Figure size 2000x1000 with 1 Axes>"
      ]
     },
     "metadata": {},
     "output_type": "display_data"
    }
   ],
   "source": [
    "plt.figure(figsize=(20,10))\n",
    "sns.countplot(x=data['line_of_work'],hue=data['prefer'])\n",
    "plt.tight_layout()"
   ]
  },
  {
   "cell_type": "code",
   "execution_count": 32,
   "metadata": {
    "id": "ZRryDld3rtzE"
   },
   "outputs": [],
   "source": [
    "data['line_of_work']=data['line_of_work'].map({'Teaching':7,'Engineering':6,'Management':5,'Other':4,'Government Employee':3,'Architect':2,'Architecture':1,'APSPDCL':0})"
   ]
  },
  {
   "cell_type": "code",
   "execution_count": 33,
   "metadata": {
    "colab": {
     "base_uri": "https://localhost:8080/"
    },
    "id": "CYb_oftFskTf",
    "outputId": "6e2e5910-8021-4a14-b6c4-58d71dc74c9f"
   },
   "outputs": [
    {
     "data": {
      "text/plain": [
       "Complete Physical Attendance    836\n",
       "Work/study from home            339\n",
       "Name: prefer, dtype: int64"
      ]
     },
     "execution_count": 33,
     "metadata": {},
     "output_type": "execute_result"
    }
   ],
   "source": [
    "data.prefer.value_counts()"
   ]
  },
  {
   "cell_type": "code",
   "execution_count": 34,
   "metadata": {
    "id": "SOVeV-uWsycz"
   },
   "outputs": [],
   "source": [
    "data.prefer=data.prefer.map({'Complete Physical Attendance':0,'Work/study from home':1})"
   ]
  },
  {
   "cell_type": "code",
   "execution_count": 35,
   "metadata": {
    "colab": {
     "base_uri": "https://localhost:8080/"
    },
    "id": "r5I3mjcItThz",
    "outputId": "1d265f62-b056-474b-d327-83a895aef323"
   },
   "outputs": [
    {
     "data": {
      "text/plain": [
       "array(['Yes', 'No', 'Maybe'], dtype=object)"
      ]
     },
     "execution_count": 35,
     "metadata": {},
     "output_type": "execute_result"
    }
   ],
   "source": [
    "data.certaindays_hw.unique()"
   ]
  },
  {
   "cell_type": "code",
   "execution_count": 36,
   "metadata": {
    "colab": {
     "base_uri": "https://localhost:8080/",
     "height": 467
    },
    "id": "e4PwpT5ztVSt",
    "outputId": "e6f877ac-8b2f-4730-fe31-baca633d2f82"
   },
   "outputs": [
    {
     "data": {
      "text/plain": [
       "<Axes: xlabel='certaindays_hw', ylabel='count'>"
      ]
     },
     "execution_count": 36,
     "metadata": {},
     "output_type": "execute_result"
    },
    {
     "data": {
      "image/png": "[encoded data removed]",
      "text/plain": [
       "<Figure size 640x480 with 1 Axes>"
      ]
     },
     "metadata": {},
     "output_type": "display_data"
    }
   ],
   "source": [
    "sns.countplot(x=data['certaindays_hw'],hue=data['prefer'])"
   ]
  },
  {
   "cell_type": "code",
   "execution_count": 37,
   "metadata": {
    "id": "_pgsKUi7trlr"
   },
   "outputs": [],
   "source": [
    "data['certaindays_hw']=data['certaindays_hw'].map({'No':0,'Maybe':1,'Yes':2})"
   ]
  },
  {
   "cell_type": "code",
   "execution_count": 38,
   "metadata": {
    "colab": {
     "base_uri": "https://localhost:8080/",
     "height": 226
    },
    "id": "dqBTmRbtuF5G",
    "outputId": "2e0bfd78-4562-43cb-9767-0324ae76119d"
   },
   "outputs": [
    {
     "data": {
      "text/html": [
       "\n",
       "  <div id=\"df-750782b2-a53f-4b35-acef-176153d3fb23\" class=\"colab-df-container\">\n",
       "    <div>\n",
       "<style scoped>\n",
       "    .dataframe tbody tr th:only-of-type {\n",
       "        vertical-align: middle;\n",
       "    }\n",
       "\n",
       "    .dataframe tbody tr th {\n",
       "        vertical-align: top;\n",
       "    }\n",
       "\n",
       "    .dataframe thead th {\n",
       "        text-align: right;\n",
       "    }\n",
       "</style>\n",
       "<table border=\"1\" class=\"dataframe\">\n",
       "  <thead>\n",
       "    <tr style=\"text-align: right;\">\n",
       "      <th></th>\n",
       "      <th>age</th>\n",
       "      <th>gender</th>\n",
       "      <th>occupation</th>\n",
       "      <th>line_of_work</th>\n",
       "      <th>time_bp</th>\n",
       "      <th>time_dp</th>\n",
       "      <th>travel_time</th>\n",
       "      <th>easeof_online</th>\n",
       "      <th>home_env</th>\n",
       "      <th>prod_inc</th>\n",
       "      <th>sleep_bal</th>\n",
       "      <th>new_skill</th>\n",
       "      <th>fam_connect</th>\n",
       "      <th>relaxed</th>\n",
       "      <th>self_time</th>\n",
       "      <th>like_hw</th>\n",
       "      <th>dislike_hw</th>\n",
       "      <th>prefer</th>\n",
       "      <th>certaindays_hw</th>\n",
       "      <th>time_bp.1</th>\n",
       "    </tr>\n",
       "  </thead>\n",
       "  <tbody>\n",
       "    <tr>\n",
       "      <th>0</th>\n",
       "      <td>5</td>\n",
       "      <td>1</td>\n",
       "      <td>6</td>\n",
       "      <td>7.0</td>\n",
       "      <td>7</td>\n",
       "      <td>5</td>\n",
       "      <td>0.5</td>\n",
       "      <td>3</td>\n",
       "      <td>3</td>\n",
       "      <td>0.0</td>\n",
       "      <td>0.0</td>\n",
       "      <td>0.5</td>\n",
       "      <td>1.0</td>\n",
       "      <td>-0.5</td>\n",
       "      <td>-0.5</td>\n",
       "      <td>100</td>\n",
       "      <td>1</td>\n",
       "      <td>0</td>\n",
       "      <td>2</td>\n",
       "      <td>7</td>\n",
       "    </tr>\n",
       "    <tr>\n",
       "      <th>1</th>\n",
       "      <td>2</td>\n",
       "      <td>1</td>\n",
       "      <td>3</td>\n",
       "      <td>7.0</td>\n",
       "      <td>7</td>\n",
       "      <td>11</td>\n",
       "      <td>0.5</td>\n",
       "      <td>4</td>\n",
       "      <td>2</td>\n",
       "      <td>-0.5</td>\n",
       "      <td>0.5</td>\n",
       "      <td>-1.0</td>\n",
       "      <td>1.0</td>\n",
       "      <td>1.0</td>\n",
       "      <td>1.0</td>\n",
       "      <td>1111</td>\n",
       "      <td>1110</td>\n",
       "      <td>0</td>\n",
       "      <td>0</td>\n",
       "      <td>7</td>\n",
       "    </tr>\n",
       "    <tr>\n",
       "      <th>2</th>\n",
       "      <td>5</td>\n",
       "      <td>1</td>\n",
       "      <td>6</td>\n",
       "      <td>7.0</td>\n",
       "      <td>7</td>\n",
       "      <td>7</td>\n",
       "      <td>1.5</td>\n",
       "      <td>2</td>\n",
       "      <td>2</td>\n",
       "      <td>1.0</td>\n",
       "      <td>0.0</td>\n",
       "      <td>0.5</td>\n",
       "      <td>0.5</td>\n",
       "      <td>0.5</td>\n",
       "      <td>0.5</td>\n",
       "      <td>1100</td>\n",
       "      <td>111</td>\n",
       "      <td>0</td>\n",
       "      <td>2</td>\n",
       "      <td>7</td>\n",
       "    </tr>\n",
       "    <tr>\n",
       "      <th>3</th>\n",
       "      <td>5</td>\n",
       "      <td>1</td>\n",
       "      <td>6</td>\n",
       "      <td>7.0</td>\n",
       "      <td>7</td>\n",
       "      <td>7</td>\n",
       "      <td>1.5</td>\n",
       "      <td>3</td>\n",
       "      <td>1</td>\n",
       "      <td>0.0</td>\n",
       "      <td>1.0</td>\n",
       "      <td>0.5</td>\n",
       "      <td>0.0</td>\n",
       "      <td>-1.0</td>\n",
       "      <td>-0.5</td>\n",
       "      <td>100</td>\n",
       "      <td>1111</td>\n",
       "      <td>0</td>\n",
       "      <td>2</td>\n",
       "      <td>7</td>\n",
       "    </tr>\n",
       "    <tr>\n",
       "      <th>4</th>\n",
       "      <td>5</td>\n",
       "      <td>2</td>\n",
       "      <td>6</td>\n",
       "      <td>7.0</td>\n",
       "      <td>7</td>\n",
       "      <td>7</td>\n",
       "      <td>1.5</td>\n",
       "      <td>2</td>\n",
       "      <td>2</td>\n",
       "      <td>0.0</td>\n",
       "      <td>0.0</td>\n",
       "      <td>0.0</td>\n",
       "      <td>0.0</td>\n",
       "      <td>0.5</td>\n",
       "      <td>0.0</td>\n",
       "      <td>1010</td>\n",
       "      <td>1000</td>\n",
       "      <td>0</td>\n",
       "      <td>2</td>\n",
       "      <td>7</td>\n",
       "    </tr>\n",
       "  </tbody>\n",
       "</table>\n",
       "</div>\n",
       "    <div class=\"colab-df-buttons\">\n",
       "\n",
       "  <div class=\"colab-df-container\">\n",
       "    <button class=\"colab-df-convert\" onclick=\"convertToInteractive('df-750782b2-a53f-4b35-acef-176153d3fb23')\"\n",
       "            title=\"Convert this dataframe to an interactive table.\"\n",
       "            style=\"display:none;\">\n",
       "\n",
       "  <svg xmlns=\"http://www.w3.org/2000/svg\" height=\"24px\" viewBox=\"0 -960 960 960\">\n",
       "    <path d=\"M120-120v-720h720v720H120Zm60-500h600v-160H180v160Zm220 220h160v-160H400v160Zm0 220h160v-160H400v160ZM180-400h160v-160H180v160Zm440 0h160v-160H620v160ZM180-180h160v-160H180v160Zm440 0h160v-160H620v160Z\"/>\n",
       "  </svg>\n",
       "    </button>\n",
       "\n",
       "  <style>\n",
       "    .colab-df-container {\n",
       "      display:flex;\n",
       "      gap: 12px;\n",
       "    }\n",
       "\n",
       "    .colab-df-convert {\n",
       "      background-color: #E8F0FE;\n",
       "      border: none;\n",
       "      border-radius: 50%;\n",
       "      cursor: pointer;\n",
       "      display: none;\n",
       "      fill: #1967D2;\n",
       "      height: 32px;\n",
       "      padding: 0 0 0 0;\n",
       "      width: 32px;\n",
       "    }\n",
       "\n",
       "    .colab-df-convert:hover {\n",
       "      background-color: #E2EBFA;\n",
       "      box-shadow: 0px 1px 2px rgba(60, 64, 67, 0.3), 0px 1px 3px 1px rgba(60, 64, 67, 0.15);\n",
       "      fill: #174EA6;\n",
       "    }\n",
       "\n",
       "    .colab-df-buttons div {\n",
       "      margin-bottom: 4px;\n",
       "    }\n",
       "\n",
       "    [theme=dark] .colab-df-convert {\n",
       "      background-color: #3B4455;\n",
       "      fill: #D2E3FC;\n",
       "    }\n",
       "\n",
       "    [theme=dark] .colab-df-convert:hover {\n",
       "      background-color: #434B5C;\n",
       "      box-shadow: 0px 1px 3px 1px rgba(0, 0, 0, 0.15);\n",
       "      filter: drop-shadow(0px 1px 2px rgba(0, 0, 0, 0.3));\n",
       "      fill: #FFFFFF;\n",
       "    }\n",
       "  </style>\n",
       "\n",
       "    <script>\n",
       "      const buttonEl =\n",
       "        document.querySelector('#df-750782b2-a53f-4b35-acef-176153d3fb23 button.colab-df-convert');\n",
       "      buttonEl.style.display =\n",
       "        google.colab.kernel.accessAllowed ? 'block' : 'none';\n",
       "\n",
       "      async function convertToInteractive(key) {\n",
       "        const element = document.querySelector('#df-750782b2-a53f-4b35-acef-176153d3fb23');\n",
       "        const dataTable =\n",
       "          await google.colab.kernel.invokeFunction('convertToInteractive',\n",
       "                                                    [key], {});\n",
       "        if (!dataTable) return;\n",
       "\n",
       "        const docLinkHtml = 'Like what you see? Visit the ' +\n",
       "          '<a target=\"_blank\" href=https://colab.research.google.com/notebooks/data_table.ipynb>data table notebook</a>'\n",
       "          + ' to learn more about interactive tables.';\n",
       "        element.innerHTML = '';\n",
       "        dataTable['output_type'] = 'display_data';\n",
       "        await google.colab.output.renderOutput(dataTable, element);\n",
       "        const docLink = document.createElement('div');\n",
       "        docLink.innerHTML = docLinkHtml;\n",
       "        element.appendChild(docLink);\n",
       "      }\n",
       "    </script>\n",
       "  </div>\n",
       "\n",
       "\n",
       "<div id=\"df-3cac5b94-3b16-4e9d-85c3-7db2b648cdd7\">\n",
       "  <button class=\"colab-df-quickchart\" onclick=\"quickchart('df-3cac5b94-3b16-4e9d-85c3-7db2b648cdd7')\"\n",
       "            title=\"Suggest charts.\"\n",
       "            style=\"display:none;\">\n",
       "\n",
       "<svg xmlns=\"http://www.w3.org/2000/svg\" height=\"24px\"viewBox=\"0 0 24 24\"\n",
       "     width=\"24px\">\n",
       "    <g>\n",
       "        <path d=\"M19 3H5c-1.1 0-2 .9-2 2v14c0 1.1.9 2 2 2h14c1.1 0 2-.9 2-2V5c0-1.1-.9-2-2-2zM9 17H7v-7h2v7zm4 0h-2V7h2v10zm4 0h-2v-4h2v4z\"/>\n",
       "    </g>\n",
       "</svg>\n",
       "  </button>\n",
       "\n",
       "<style>\n",
       "  .colab-df-quickchart {\n",
       "    background-color: #E8F0FE;\n",
       "    border: none;\n",
       "    border-radius: 50%;\n",
       "    cursor: pointer;\n",
       "    display: none;\n",
       "    fill: #1967D2;\n",
       "    height: 32px;\n",
       "    padding: 0 0 0 0;\n",
       "    width: 32px;\n",
       "  }\n",
       "\n",
       "  .colab-df-quickchart:hover {\n",
       "    background-color: #E2EBFA;\n",
       "    box-shadow: 0px 1px 2px rgba(60, 64, 67, 0.3), 0px 1px 3px 1px rgba(60, 64, 67, 0.15);\n",
       "    fill: #174EA6;\n",
       "  }\n",
       "\n",
       "  [theme=dark] .colab-df-quickchart {\n",
       "    background-color: #3B4455;\n",
       "    fill: #D2E3FC;\n",
       "  }\n",
       "\n",
       "  [theme=dark] .colab-df-quickchart:hover {\n",
       "    background-color: #434B5C;\n",
       "    box-shadow: 0px 1px 3px 1px rgba(0, 0, 0, 0.15);\n",
       "    filter: drop-shadow(0px 1px 2px rgba(0, 0, 0, 0.3));\n",
       "    fill: #FFFFFF;\n",
       "  }\n",
       "</style>\n",
       "\n",
       "  <script>\n",
       "    async function quickchart(key) {\n",
       "      const charts = await google.colab.kernel.invokeFunction(\n",
       "          'suggestCharts', [key], {});\n",
       "    }\n",
       "    (() => {\n",
       "      let quickchartButtonEl =\n",
       "        document.querySelector('#df-3cac5b94-3b16-4e9d-85c3-7db2b648cdd7 button');\n",
       "      quickchartButtonEl.style.display =\n",
       "        google.colab.kernel.accessAllowed ? 'block' : 'none';\n",
       "    })();\n",
       "  </script>\n",
       "</div>\n",
       "    </div>\n",
       "  </div>\n"
      ],
      "text/plain": [
       "   age  gender  occupation  line_of_work  time_bp  time_dp  travel_time  \\\n",
       "0    5       1           6           7.0        7        5          0.5   \n",
       "1    2       1           3           7.0        7       11          0.5   \n",
       "2    5       1           6           7.0        7        7          1.5   \n",
       "3    5       1           6           7.0        7        7          1.5   \n",
       "4    5       2           6           7.0        7        7          1.5   \n",
       "\n",
       "   easeof_online  home_env  prod_inc  sleep_bal  new_skill  fam_connect  \\\n",
       "0              3         3       0.0        0.0        0.5          1.0   \n",
       "1              4         2      -0.5        0.5       -1.0          1.0   \n",
       "2              2         2       1.0        0.0        0.5          0.5   \n",
       "3              3         1       0.0        1.0        0.5          0.0   \n",
       "4              2         2       0.0        0.0        0.0          0.0   \n",
       "\n",
       "   relaxed  self_time  like_hw  dislike_hw  prefer  certaindays_hw  time_bp.1  \n",
       "0     -0.5       -0.5      100           1       0               2          7  \n",
       "1      1.0        1.0     1111        1110       0               0          7  \n",
       "2      0.5        0.5     1100         111       0               2          7  \n",
       "3     -1.0       -0.5      100        1111       0               2          7  \n",
       "4      0.5        0.0     1010        1000       0               2          7  "
      ]
     },
     "execution_count": 38,
     "metadata": {},
     "output_type": "execute_result"
    }
   ],
   "source": [
    "data.head()"
   ]
  },
  {
   "cell_type": "markdown",
   "metadata": {
    "id": "FUjkQtbuuPvd"
   },
   "source": [
    "## Check for outliers"
   ]
  },
  {
   "cell_type": "code",
   "execution_count": 39,
   "metadata": {
    "colab": {
     "base_uri": "https://localhost:8080/",
     "height": 807
    },
    "id": "ZvQDXyIXuHjn",
    "outputId": "dcc6e88a-ed06-427b-865f-01f612c7e401"
   },
   "outputs": [
    {
     "data": {
      "image/png": "[encoded data removed]",
      "text/plain": [
       "<Figure size 1000x800 with 14 Axes>"
      ]
     },
     "metadata": {},
     "output_type": "display_data"
    }
   ],
   "source": [
    "plt.figure(figsize=(10,8))\n",
    "plotnumber=1\n",
    "for i in num_col:\n",
    "  if plotnumber<=14:\n",
    "    ax=plt.subplot(5,3,plotnumber)\n",
    "    sns.boxplot(data=data,x=data[i])\n",
    "  plotnumber+=1\n",
    "plt.tight_layout()"
   ]
  },
  {
   "cell_type": "markdown",
   "metadata": {
    "id": "GRxp0ElYvTHa"
   },
   "source": [
    "##Scaling"
   ]
  },
  {
   "cell_type": "code",
   "execution_count": 40,
   "metadata": {
    "id": "voKpkw65vAiD"
   },
   "outputs": [],
   "source": [
    "from sklearn.preprocessing import MinMaxScaler\n",
    "scaling=MinMaxScaler()\n",
    "data[['like_hw','dislike_hw']]=scaling.fit_transform(data[['like_hw','dislike_hw']])"
   ]
  },
  {
   "cell_type": "code",
   "execution_count": 41,
   "metadata": {
    "colab": {
     "base_uri": "https://localhost:8080/",
     "height": 226
    },
    "id": "iPuYZmNGwBTM",
    "outputId": "6d5546c9-7db1-4a77-fd87-f2ed66932abc"
   },
   "outputs": [
    {
     "data": {
      "text/html": [
       "\n",
       "  <div id=\"df-26f52af5-244e-4d15-b1d8-c84a08dc2290\" class=\"colab-df-container\">\n",
       "    <div>\n",
       "<style scoped>\n",
       "    .dataframe tbody tr th:only-of-type {\n",
       "        vertical-align: middle;\n",
       "    }\n",
       "\n",
       "    .dataframe tbody tr th {\n",
       "        vertical-align: top;\n",
       "    }\n",
       "\n",
       "    .dataframe thead th {\n",
       "        text-align: right;\n",
       "    }\n",
       "</style>\n",
       "<table border=\"1\" class=\"dataframe\">\n",
       "  <thead>\n",
       "    <tr style=\"text-align: right;\">\n",
       "      <th></th>\n",
       "      <th>age</th>\n",
       "      <th>gender</th>\n",
       "      <th>occupation</th>\n",
       "      <th>line_of_work</th>\n",
       "      <th>time_bp</th>\n",
       "      <th>time_dp</th>\n",
       "      <th>travel_time</th>\n",
       "      <th>easeof_online</th>\n",
       "      <th>home_env</th>\n",
       "      <th>prod_inc</th>\n",
       "      <th>sleep_bal</th>\n",
       "      <th>new_skill</th>\n",
       "      <th>fam_connect</th>\n",
       "      <th>relaxed</th>\n",
       "      <th>self_time</th>\n",
       "      <th>like_hw</th>\n",
       "      <th>dislike_hw</th>\n",
       "      <th>prefer</th>\n",
       "      <th>certaindays_hw</th>\n",
       "      <th>time_bp.1</th>\n",
       "    </tr>\n",
       "  </thead>\n",
       "  <tbody>\n",
       "    <tr>\n",
       "      <th>0</th>\n",
       "      <td>5</td>\n",
       "      <td>1</td>\n",
       "      <td>6</td>\n",
       "      <td>7.0</td>\n",
       "      <td>7</td>\n",
       "      <td>5</td>\n",
       "      <td>0.5</td>\n",
       "      <td>3</td>\n",
       "      <td>3</td>\n",
       "      <td>0.0</td>\n",
       "      <td>0.0</td>\n",
       "      <td>0.5</td>\n",
       "      <td>1.0</td>\n",
       "      <td>-0.5</td>\n",
       "      <td>-0.5</td>\n",
       "      <td>0.089189</td>\n",
       "      <td>0.000000</td>\n",
       "      <td>0</td>\n",
       "      <td>2</td>\n",
       "      <td>7</td>\n",
       "    </tr>\n",
       "    <tr>\n",
       "      <th>1</th>\n",
       "      <td>2</td>\n",
       "      <td>1</td>\n",
       "      <td>3</td>\n",
       "      <td>7.0</td>\n",
       "      <td>7</td>\n",
       "      <td>11</td>\n",
       "      <td>0.5</td>\n",
       "      <td>4</td>\n",
       "      <td>2</td>\n",
       "      <td>-0.5</td>\n",
       "      <td>0.5</td>\n",
       "      <td>-1.0</td>\n",
       "      <td>1.0</td>\n",
       "      <td>1.0</td>\n",
       "      <td>1.0</td>\n",
       "      <td>1.000000</td>\n",
       "      <td>0.999099</td>\n",
       "      <td>0</td>\n",
       "      <td>0</td>\n",
       "      <td>7</td>\n",
       "    </tr>\n",
       "    <tr>\n",
       "      <th>2</th>\n",
       "      <td>5</td>\n",
       "      <td>1</td>\n",
       "      <td>6</td>\n",
       "      <td>7.0</td>\n",
       "      <td>7</td>\n",
       "      <td>7</td>\n",
       "      <td>1.5</td>\n",
       "      <td>2</td>\n",
       "      <td>2</td>\n",
       "      <td>1.0</td>\n",
       "      <td>0.0</td>\n",
       "      <td>0.5</td>\n",
       "      <td>0.5</td>\n",
       "      <td>0.5</td>\n",
       "      <td>0.5</td>\n",
       "      <td>0.990090</td>\n",
       "      <td>0.099099</td>\n",
       "      <td>0</td>\n",
       "      <td>2</td>\n",
       "      <td>7</td>\n",
       "    </tr>\n",
       "    <tr>\n",
       "      <th>3</th>\n",
       "      <td>5</td>\n",
       "      <td>1</td>\n",
       "      <td>6</td>\n",
       "      <td>7.0</td>\n",
       "      <td>7</td>\n",
       "      <td>7</td>\n",
       "      <td>1.5</td>\n",
       "      <td>3</td>\n",
       "      <td>1</td>\n",
       "      <td>0.0</td>\n",
       "      <td>1.0</td>\n",
       "      <td>0.5</td>\n",
       "      <td>0.0</td>\n",
       "      <td>-1.0</td>\n",
       "      <td>-0.5</td>\n",
       "      <td>0.089189</td>\n",
       "      <td>1.000000</td>\n",
       "      <td>0</td>\n",
       "      <td>2</td>\n",
       "      <td>7</td>\n",
       "    </tr>\n",
       "    <tr>\n",
       "      <th>4</th>\n",
       "      <td>5</td>\n",
       "      <td>2</td>\n",
       "      <td>6</td>\n",
       "      <td>7.0</td>\n",
       "      <td>7</td>\n",
       "      <td>7</td>\n",
       "      <td>1.5</td>\n",
       "      <td>2</td>\n",
       "      <td>2</td>\n",
       "      <td>0.0</td>\n",
       "      <td>0.0</td>\n",
       "      <td>0.0</td>\n",
       "      <td>0.0</td>\n",
       "      <td>0.5</td>\n",
       "      <td>0.0</td>\n",
       "      <td>0.909009</td>\n",
       "      <td>0.900000</td>\n",
       "      <td>0</td>\n",
       "      <td>2</td>\n",
       "      <td>7</td>\n",
       "    </tr>\n",
       "  </tbody>\n",
       "</table>\n",
       "</div>\n",
       "    <div class=\"colab-df-buttons\">\n",
       "\n",
       "  <div class=\"colab-df-container\">\n",
       "    <button class=\"colab-df-convert\" onclick=\"convertToInteractive('df-26f52af5-244e-4d15-b1d8-c84a08dc2290')\"\n",
       "            title=\"Convert this dataframe to an interactive table.\"\n",
       "            style=\"display:none;\">\n",
       "\n",
       "  <svg xmlns=\"http://www.w3.org/2000/svg\" height=\"24px\" viewBox=\"0 -960 960 960\">\n",
       "    <path d=\"M120-120v-720h720v720H120Zm60-500h600v-160H180v160Zm220 220h160v-160H400v160Zm0 220h160v-160H400v160ZM180-400h160v-160H180v160Zm440 0h160v-160H620v160ZM180-180h160v-160H180v160Zm440 0h160v-160H620v160Z\"/>\n",
       "  </svg>\n",
       "    </button>\n",
       "\n",
       "  <style>\n",
       "    .colab-df-container {\n",
       "      display:flex;\n",
       "      gap: 12px;\n",
       "    }\n",
       "\n",
       "    .colab-df-convert {\n",
       "      background-color: #E8F0FE;\n",
       "      border: none;\n",
       "      border-radius: 50%;\n",
       "      cursor: pointer;\n",
       "      display: none;\n",
       "      fill: #1967D2;\n",
       "      height: 32px;\n",
       "      padding: 0 0 0 0;\n",
       "      width: 32px;\n",
       "    }\n",
       "\n",
       "    .colab-df-convert:hover {\n",
       "      background-color: #E2EBFA;\n",
       "      box-shadow: 0px 1px 2px rgba(60, 64, 67, 0.3), 0px 1px 3px 1px rgba(60, 64, 67, 0.15);\n",
       "      fill: #174EA6;\n",
       "    }\n",
       "\n",
       "    .colab-df-buttons div {\n",
       "      margin-bottom: 4px;\n",
       "    }\n",
       "\n",
       "    [theme=dark] .colab-df-convert {\n",
       "      background-color: #3B4455;\n",
       "      fill: #D2E3FC;\n",
       "    }\n",
       "\n",
       "    [theme=dark] .colab-df-convert:hover {\n",
       "      background-color: #434B5C;\n",
       "      box-shadow: 0px 1px 3px 1px rgba(0, 0, 0, 0.15);\n",
       "      filter: drop-shadow(0px 1px 2px rgba(0, 0, 0, 0.3));\n",
       "      fill: #FFFFFF;\n",
       "    }\n",
       "  </style>\n",
       "\n",
       "    <script>\n",
       "      const buttonEl =\n",
       "        document.querySelector('#df-26f52af5-244e-4d15-b1d8-c84a08dc2290 button.colab-df-convert');\n",
       "      buttonEl.style.display =\n",
       "        google.colab.kernel.accessAllowed ? 'block' : 'none';\n",
       "\n",
       "      async function convertToInteractive(key) {\n",
       "        const element = document.querySelector('#df-26f52af5-244e-4d15-b1d8-c84a08dc2290');\n",
       "        const dataTable =\n",
       "          await google.colab.kernel.invokeFunction('convertToInteractive',\n",
       "                                                    [key], {});\n",
       "        if (!dataTable) return;\n",
       "\n",
       "        const docLinkHtml = 'Like what you see? Visit the ' +\n",
       "          '<a target=\"_blank\" href=https://colab.research.google.com/notebooks/data_table.ipynb>data table notebook</a>'\n",
       "          + ' to learn more about interactive tables.';\n",
       "        element.innerHTML = '';\n",
       "        dataTable['output_type'] = 'display_data';\n",
       "        await google.colab.output.renderOutput(dataTable, element);\n",
       "        const docLink = document.createElement('div');\n",
       "        docLink.innerHTML = docLinkHtml;\n",
       "        element.appendChild(docLink);\n",
       "      }\n",
       "    </script>\n",
       "  </div>\n",
       "\n",
       "\n",
       "<div id=\"df-cc4db904-d9c0-4732-9e38-b612a7e54d7c\">\n",
       "  <button class=\"colab-df-quickchart\" onclick=\"quickchart('df-cc4db904-d9c0-4732-9e38-b612a7e54d7c')\"\n",
       "            title=\"Suggest charts.\"\n",
       "            style=\"display:none;\">\n",
       "\n",
       "<svg xmlns=\"http://www.w3.org/2000/svg\" height=\"24px\"viewBox=\"0 0 24 24\"\n",
       "     width=\"24px\">\n",
       "    <g>\n",
       "        <path d=\"M19 3H5c-1.1 0-2 .9-2 2v14c0 1.1.9 2 2 2h14c1.1 0 2-.9 2-2V5c0-1.1-.9-2-2-2zM9 17H7v-7h2v7zm4 0h-2V7h2v10zm4 0h-2v-4h2v4z\"/>\n",
       "    </g>\n",
       "</svg>\n",
       "  </button>\n",
       "\n",
       "<style>\n",
       "  .colab-df-quickchart {\n",
       "    background-color: #E8F0FE;\n",
       "    border: none;\n",
       "    border-radius: 50%;\n",
       "    cursor: pointer;\n",
       "    display: none;\n",
       "    fill: #1967D2;\n",
       "    height: 32px;\n",
       "    padding: 0 0 0 0;\n",
       "    width: 32px;\n",
       "  }\n",
       "\n",
       "  .colab-df-quickchart:hover {\n",
       "    background-color: #E2EBFA;\n",
       "    box-shadow: 0px 1px 2px rgba(60, 64, 67, 0.3), 0px 1px 3px 1px rgba(60, 64, 67, 0.15);\n",
       "    fill: #174EA6;\n",
       "  }\n",
       "\n",
       "  [theme=dark] .colab-df-quickchart {\n",
       "    background-color: #3B4455;\n",
       "    fill: #D2E3FC;\n",
       "  }\n",
       "\n",
       "  [theme=dark] .colab-df-quickchart:hover {\n",
       "    background-color: #434B5C;\n",
       "    box-shadow: 0px 1px 3px 1px rgba(0, 0, 0, 0.15);\n",
       "    filter: drop-shadow(0px 1px 2px rgba(0, 0, 0, 0.3));\n",
       "    fill: #FFFFFF;\n",
       "  }\n",
       "</style>\n",
       "\n",
       "  <script>\n",
       "    async function quickchart(key) {\n",
       "      const charts = await google.colab.kernel.invokeFunction(\n",
       "          'suggestCharts', [key], {});\n",
       "    }\n",
       "    (() => {\n",
       "      let quickchartButtonEl =\n",
       "        document.querySelector('#df-cc4db904-d9c0-4732-9e38-b612a7e54d7c button');\n",
       "      quickchartButtonEl.style.display =\n",
       "        google.colab.kernel.accessAllowed ? 'block' : 'none';\n",
       "    })();\n",
       "  </script>\n",
       "</div>\n",
       "    </div>\n",
       "  </div>\n"
      ],
      "text/plain": [
       "   age  gender  occupation  line_of_work  time_bp  time_dp  travel_time  \\\n",
       "0    5       1           6           7.0        7        5          0.5   \n",
       "1    2       1           3           7.0        7       11          0.5   \n",
       "2    5       1           6           7.0        7        7          1.5   \n",
       "3    5       1           6           7.0        7        7          1.5   \n",
       "4    5       2           6           7.0        7        7          1.5   \n",
       "\n",
       "   easeof_online  home_env  prod_inc  sleep_bal  new_skill  fam_connect  \\\n",
       "0              3         3       0.0        0.0        0.5          1.0   \n",
       "1              4         2      -0.5        0.5       -1.0          1.0   \n",
       "2              2         2       1.0        0.0        0.5          0.5   \n",
       "3              3         1       0.0        1.0        0.5          0.0   \n",
       "4              2         2       0.0        0.0        0.0          0.0   \n",
       "\n",
       "   relaxed  self_time   like_hw  dislike_hw  prefer  certaindays_hw  time_bp.1  \n",
       "0     -0.5       -0.5  0.089189    0.000000       0               2          7  \n",
       "1      1.0        1.0  1.000000    0.999099       0               0          7  \n",
       "2      0.5        0.5  0.990090    0.099099       0               2          7  \n",
       "3     -1.0       -0.5  0.089189    1.000000       0               2          7  \n",
       "4      0.5        0.0  0.909009    0.900000       0               2          7  "
      ]
     },
     "execution_count": 41,
     "metadata": {},
     "output_type": "execute_result"
    }
   ],
   "source": [
    "data.head()"
   ]
  },
  {
   "cell_type": "code",
   "execution_count": 42,
   "metadata": {
    "colab": {
     "base_uri": "https://localhost:8080/"
    },
    "id": "6n8VJr-AwDER",
    "outputId": "6017b291-9c97-478a-ac23-b362be4488ec"
   },
   "outputs": [
    {
     "data": {
      "text/plain": [
       "array([3, 2, 1, 4, 5])"
      ]
     },
     "execution_count": 42,
     "metadata": {},
     "output_type": "execute_result"
    }
   ],
   "source": [
    "data['home_env'].unique()"
   ]
  },
  {
   "cell_type": "markdown",
   "metadata": {
    "id": "cGBOyckUwyYO"
   },
   "source": [
    "##Model Creation"
   ]
  },
  {
   "cell_type": "code",
   "execution_count": 43,
   "metadata": {
    "id": "afcER8ovwT4R"
   },
   "outputs": [],
   "source": [
    "from sklearn.model_selection import train_test_split\n",
    "x=data.drop('prefer',axis=1)\n",
    "y=data.prefer\n",
    "x_train,x_test,y_train,y_test=train_test_split(x,y,test_size=0.30,random_state=40)"
   ]
  },
  {
   "cell_type": "code",
   "execution_count": 44,
   "metadata": {
    "colab": {
     "base_uri": "https://localhost:8080/"
    },
    "id": "a3VhuaQOxHHa",
    "outputId": "b80c0d93-c034-46f6-9dc0-b8ce9c93af8e"
   },
   "outputs": [
    {
     "data": {
      "text/plain": [
       "(822, 19)"
      ]
     },
     "execution_count": 44,
     "metadata": {},
     "output_type": "execute_result"
    }
   ],
   "source": [
    "x_train.shape"
   ]
  },
  {
   "cell_type": "code",
   "execution_count": 45,
   "metadata": {
    "colab": {
     "base_uri": "https://localhost:8080/"
    },
    "id": "-ToXkrqexVCr",
    "outputId": "dda1e561-b58c-4fef-e19e-bfd0e642e8a5"
   },
   "outputs": [
    {
     "data": {
      "text/plain": [
       "0    577\n",
       "1    245\n",
       "Name: prefer, dtype: int64"
      ]
     },
     "execution_count": 45,
     "metadata": {},
     "output_type": "execute_result"
    }
   ],
   "source": [
    "y_train.value_counts()"
   ]
  },
  {
   "cell_type": "code",
   "execution_count": 46,
   "metadata": {
    "id": "aJ6jyHbqxaAo"
   },
   "outputs": [],
   "source": [
    "from imblearn.over_sampling import SMOTE\n",
    "smote=SMOTE()\n",
    "x_smote,y_smote=smote.fit_resample(x_train,y_train)"
   ]
  },
  {
   "cell_type": "code",
   "execution_count": 47,
   "metadata": {
    "colab": {
     "base_uri": "https://localhost:8080/"
    },
    "id": "-HYkov41ykSj",
    "outputId": "e843683b-96b7-4be5-ee62-e547bdaef7cc"
   },
   "outputs": [
    {
     "name": "stdout",
     "output_type": "stream",
     "text": [
      "Actual classes Counter({0: 577, 1: 245})\n",
      "Smote classes Counter({0: 577, 1: 577})\n"
     ]
    }
   ],
   "source": [
    "from collections import Counter\n",
    "print('Actual classes',Counter(y_train))\n",
    "print('Smote classes', Counter(y_smote))"
   ]
  },
  {
   "cell_type": "markdown",
   "metadata": {
    "id": "-ee-8dOWy-ak"
   },
   "source": [
    "##Logistic Regression"
   ]
  },
  {
   "cell_type": "code",
   "execution_count": 48,
   "metadata": {
    "colab": {
     "base_uri": "https://localhost:8080/",
     "height": 75
    },
    "id": "uTyyo1T-y2GO",
    "outputId": "82aa2554-f478-435c-86ca-64753e9a7bb2"
   },
   "outputs": [
    {
     "data": {
      "text/html": [
       "<style>#sk-container-id-1 {color: black;background-color: white;}#sk-container-id-1 pre{padding: 0;}#sk-container-id-1 div.sk-toggleable {background-color: white;}#sk-container-id-1 label.sk-toggleable__label {cursor: pointer;display: block;width: 100%;margin-bottom: 0;padding: 0.3em;box-sizing: border-box;text-align: center;}#sk-container-id-1 label.sk-toggleable__label-arrow:before {content: \"▸\";float: left;margin-right: 0.25em;color: #696969;}#sk-container-id-1 label.sk-toggleable__label-arrow:hover:before {color: black;}#sk-container-id-1 div.sk-estimator:hover label.sk-toggleable__label-arrow:before {color: black;}#sk-container-id-1 div.sk-toggleable__content {max-height: 0;max-width: 0;overflow: hidden;text-align: left;background-color: #f0f8ff;}#sk-container-id-1 div.sk-toggleable__content pre {margin: 0.2em;color: black;border-radius: 0.25em;background-color: #f0f8ff;}#sk-container-id-1 input.sk-toggleable__control:checked~div.sk-toggleable__content {max-height: 200px;max-width: 100%;overflow: auto;}#sk-container-id-1 input.sk-toggleable__control:checked~label.sk-toggleable__label-arrow:before {content: \"▾\";}#sk-container-id-1 div.sk-estimator input.sk-toggleable__control:checked~label.sk-toggleable__label {background-color: #d4ebff;}#sk-container-id-1 div.sk-label input.sk-toggleable__control:checked~label.sk-toggleable__label {background-color: #d4ebff;}#sk-container-id-1 input.sk-hidden--visually {border: 0;clip: rect(1px 1px 1px 1px);clip: rect(1px, 1px, 1px, 1px);height: 1px;margin: -1px;overflow: hidden;padding: 0;position: absolute;width: 1px;}#sk-container-id-1 div.sk-estimator {font-family: monospace;background-color: #f0f8ff;border: 1px dotted black;border-radius: 0.25em;box-sizing: border-box;margin-bottom: 0.5em;}#sk-container-id-1 div.sk-estimator:hover {background-color: #d4ebff;}#sk-container-id-1 div.sk-parallel-item::after {content: \"\";width: 100%;border-bottom: 1px solid gray;flex-grow: 1;}#sk-container-id-1 div.sk-label:hover label.sk-toggleable__label {background-color: #d4ebff;}#sk-container-id-1 div.sk-serial::before {content: \"\";position: absolute;border-left: 1px solid gray;box-sizing: border-box;top: 0;bottom: 0;left: 50%;z-index: 0;}#sk-container-id-1 div.sk-serial {display: flex;flex-direction: column;align-items: center;background-color: white;padding-right: 0.2em;padding-left: 0.2em;position: relative;}#sk-container-id-1 div.sk-item {position: relative;z-index: 1;}#sk-container-id-1 div.sk-parallel {display: flex;align-items: stretch;justify-content: center;background-color: white;position: relative;}#sk-container-id-1 div.sk-item::before, #sk-container-id-1 div.sk-parallel-item::before {content: \"\";position: absolute;border-left: 1px solid gray;box-sizing: border-box;top: 0;bottom: 0;left: 50%;z-index: -1;}#sk-container-id-1 div.sk-parallel-item {display: flex;flex-direction: column;z-index: 1;position: relative;background-color: white;}#sk-container-id-1 div.sk-parallel-item:first-child::after {align-self: flex-end;width: 50%;}#sk-container-id-1 div.sk-parallel-item:last-child::after {align-self: flex-start;width: 50%;}#sk-container-id-1 div.sk-parallel-item:only-child::after {width: 0;}#sk-container-id-1 div.sk-dashed-wrapped {border: 1px dashed gray;margin: 0 0.4em 0.5em 0.4em;box-sizing: border-box;padding-bottom: 0.4em;background-color: white;}#sk-container-id-1 div.sk-label label {font-family: monospace;font-weight: bold;display: inline-block;line-height: 1.2em;}#sk-container-id-1 div.sk-label-container {text-align: center;}#sk-container-id-1 div.sk-container {/* jupyter's `normalize.less` sets `[hidden] { display: none; }` but bootstrap.min.css set `[hidden] { display: none !important; }` so we also need the `!important` here to be able to override the default hidden behavior on the sphinx rendered scikit-learn.org. See: https://github.com/scikit-learn/scikit-learn/issues/21755 */display: inline-block !important;position: relative;}#sk-container-id-1 div.sk-text-repr-fallback {display: none;}</style><div id=\"sk-container-id-1\" class=\"sk-top-container\"><div class=\"sk-text-repr-fallback\"><pre>LogisticRegression()</pre><b>In a Jupyter environment, please rerun this cell to show the HTML representation or trust the notebook. <br />On GitHub, the HTML representation is unable to render, please try loading this page with nbviewer.org.</b></div><div class=\"sk-container\" hidden><div class=\"sk-item\"><div class=\"sk-estimator sk-toggleable\"><input class=\"sk-toggleable__control sk-hidden--visually\" id=\"sk-estimator-id-1\" type=\"checkbox\" checked><label for=\"sk-estimator-id-1\" class=\"sk-toggleable__label sk-toggleable__label-arrow\">LogisticRegression</label><div class=\"sk-toggleable__content\"><pre>LogisticRegression()</pre></div></div></div></div></div>"
      ],
      "text/plain": [
       "LogisticRegression()"
      ]
     },
     "execution_count": 48,
     "metadata": {},
     "output_type": "execute_result"
    }
   ],
   "source": [
    "from sklearn.linear_model import LogisticRegression\n",
    "LR=LogisticRegression()\n",
    "LR.fit(x_smote,y_smote)"
   ]
  },
  {
   "cell_type": "code",
   "execution_count": 49,
   "metadata": {
    "id": "42nObOO6zV7S"
   },
   "outputs": [],
   "source": [
    "x_test.loc[x_test['line_of_work'].isnull()==True,'line_of_work']=7"
   ]
  },
  {
   "cell_type": "code",
   "execution_count": 50,
   "metadata": {
    "id": "6iUT2f36za-K"
   },
   "outputs": [],
   "source": [
    "y_pred=LR.predict(x_test)"
   ]
  },
  {
   "cell_type": "markdown",
   "metadata": {
    "id": "-jAqNqXn1lhe"
   },
   "source": [
    "##Evaluation"
   ]
  },
  {
   "cell_type": "code",
   "execution_count": 51,
   "metadata": {
    "colab": {
     "base_uri": "https://localhost:8080/"
    },
    "id": "OCohg79W1B9e",
    "outputId": "c5f6e7e0-3294-4af1-fe91-4a7829d4201b"
   },
   "outputs": [
    {
     "data": {
      "text/plain": [
       "0.830028328611898"
      ]
     },
     "execution_count": 51,
     "metadata": {},
     "output_type": "execute_result"
    }
   ],
   "source": [
    "from sklearn.metrics import classification_report,accuracy_score,f1_score\n",
    "accuracy_score(y_test,y_pred)"
   ]
  },
  {
   "cell_type": "code",
   "execution_count": 52,
   "metadata": {
    "colab": {
     "base_uri": "https://localhost:8080/"
    },
    "id": "4OskyxTB106d",
    "outputId": "5d818ddc-eb75-460a-cd5c-491d58eebe5e"
   },
   "outputs": [
    {
     "data": {
      "text/plain": [
       "0.7058823529411765"
      ]
     },
     "execution_count": 52,
     "metadata": {},
     "output_type": "execute_result"
    }
   ],
   "source": [
    "f1_score(y_test,y_pred)"
   ]
  },
  {
   "cell_type": "code",
   "execution_count": 53,
   "metadata": {
    "colab": {
     "base_uri": "https://localhost:8080/",
     "height": 143
    },
    "id": "E6vny5Zg15aw",
    "outputId": "2f72786c-051e-4541-adf8-70a4b23cd610"
   },
   "outputs": [
    {
     "data": {
      "text/html": [
       "\n",
       "  <div id=\"df-69cf002b-94be-44db-9100-9cf8dc1202a5\" class=\"colab-df-container\">\n",
       "    <div>\n",
       "<style scoped>\n",
       "    .dataframe tbody tr th:only-of-type {\n",
       "        vertical-align: middle;\n",
       "    }\n",
       "\n",
       "    .dataframe tbody tr th {\n",
       "        vertical-align: top;\n",
       "    }\n",
       "\n",
       "    .dataframe thead th {\n",
       "        text-align: right;\n",
       "    }\n",
       "</style>\n",
       "<table border=\"1\" class=\"dataframe\">\n",
       "  <thead>\n",
       "    <tr style=\"text-align: right;\">\n",
       "      <th>col_0</th>\n",
       "      <th>0</th>\n",
       "      <th>1</th>\n",
       "    </tr>\n",
       "    <tr>\n",
       "      <th>prefer</th>\n",
       "      <th></th>\n",
       "      <th></th>\n",
       "    </tr>\n",
       "  </thead>\n",
       "  <tbody>\n",
       "    <tr>\n",
       "      <th>0</th>\n",
       "      <td>221</td>\n",
       "      <td>38</td>\n",
       "    </tr>\n",
       "    <tr>\n",
       "      <th>1</th>\n",
       "      <td>22</td>\n",
       "      <td>72</td>\n",
       "    </tr>\n",
       "  </tbody>\n",
       "</table>\n",
       "</div>\n",
       "    <div class=\"colab-df-buttons\">\n",
       "\n",
       "  <div class=\"colab-df-container\">\n",
       "    <button class=\"colab-df-convert\" onclick=\"convertToInteractive('df-69cf002b-94be-44db-9100-9cf8dc1202a5')\"\n",
       "            title=\"Convert this dataframe to an interactive table.\"\n",
       "            style=\"display:none;\">\n",
       "\n",
       "  <svg xmlns=\"http://www.w3.org/2000/svg\" height=\"24px\" viewBox=\"0 -960 960 960\">\n",
       "    <path d=\"M120-120v-720h720v720H120Zm60-500h600v-160H180v160Zm220 220h160v-160H400v160Zm0 220h160v-160H400v160ZM180-400h160v-160H180v160Zm440 0h160v-160H620v160ZM180-180h160v-160H180v160Zm440 0h160v-160H620v160Z\"/>\n",
       "  </svg>\n",
       "    </button>\n",
       "\n",
       "  <style>\n",
       "    .colab-df-container {\n",
       "      display:flex;\n",
       "      gap: 12px;\n",
       "    }\n",
       "\n",
       "    .colab-df-convert {\n",
       "      background-color: #E8F0FE;\n",
       "      border: none;\n",
       "      border-radius: 50%;\n",
       "      cursor: pointer;\n",
       "      display: none;\n",
       "      fill: #1967D2;\n",
       "      height: 32px;\n",
       "      padding: 0 0 0 0;\n",
       "      width: 32px;\n",
       "    }\n",
       "\n",
       "    .colab-df-convert:hover {\n",
       "      background-color: #E2EBFA;\n",
       "      box-shadow: 0px 1px 2px rgba(60, 64, 67, 0.3), 0px 1px 3px 1px rgba(60, 64, 67, 0.15);\n",
       "      fill: #174EA6;\n",
       "    }\n",
       "\n",
       "    .colab-df-buttons div {\n",
       "      margin-bottom: 4px;\n",
       "    }\n",
       "\n",
       "    [theme=dark] .colab-df-convert {\n",
       "      background-color: #3B4455;\n",
       "      fill: #D2E3FC;\n",
       "    }\n",
       "\n",
       "    [theme=dark] .colab-df-convert:hover {\n",
       "      background-color: #434B5C;\n",
       "      box-shadow: 0px 1px 3px 1px rgba(0, 0, 0, 0.15);\n",
       "      filter: drop-shadow(0px 1px 2px rgba(0, 0, 0, 0.3));\n",
       "      fill: #FFFFFF;\n",
       "    }\n",
       "  </style>\n",
       "\n",
       "    <script>\n",
       "      const buttonEl =\n",
       "        document.querySelector('#df-69cf002b-94be-44db-9100-9cf8dc1202a5 button.colab-df-convert');\n",
       "      buttonEl.style.display =\n",
       "        google.colab.kernel.accessAllowed ? 'block' : 'none';\n",
       "\n",
       "      async function convertToInteractive(key) {\n",
       "        const element = document.querySelector('#df-69cf002b-94be-44db-9100-9cf8dc1202a5');\n",
       "        const dataTable =\n",
       "          await google.colab.kernel.invokeFunction('convertToInteractive',\n",
       "                                                    [key], {});\n",
       "        if (!dataTable) return;\n",
       "\n",
       "        const docLinkHtml = 'Like what you see? Visit the ' +\n",
       "          '<a target=\"_blank\" href=https://colab.research.google.com/notebooks/data_table.ipynb>data table notebook</a>'\n",
       "          + ' to learn more about interactive tables.';\n",
       "        element.innerHTML = '';\n",
       "        dataTable['output_type'] = 'display_data';\n",
       "        await google.colab.output.renderOutput(dataTable, element);\n",
       "        const docLink = document.createElement('div');\n",
       "        docLink.innerHTML = docLinkHtml;\n",
       "        element.appendChild(docLink);\n",
       "      }\n",
       "    </script>\n",
       "  </div>\n",
       "\n",
       "\n",
       "<div id=\"df-73a63ba5-7300-4524-89ae-79859dab7bcb\">\n",
       "  <button class=\"colab-df-quickchart\" onclick=\"quickchart('df-73a63ba5-7300-4524-89ae-79859dab7bcb')\"\n",
       "            title=\"Suggest charts.\"\n",
       "            style=\"display:none;\">\n",
       "\n",
       "<svg xmlns=\"http://www.w3.org/2000/svg\" height=\"24px\"viewBox=\"0 0 24 24\"\n",
       "     width=\"24px\">\n",
       "    <g>\n",
       "        <path d=\"M19 3H5c-1.1 0-2 .9-2 2v14c0 1.1.9 2 2 2h14c1.1 0 2-.9 2-2V5c0-1.1-.9-2-2-2zM9 17H7v-7h2v7zm4 0h-2V7h2v10zm4 0h-2v-4h2v4z\"/>\n",
       "    </g>\n",
       "</svg>\n",
       "  </button>\n",
       "\n",
       "<style>\n",
       "  .colab-df-quickchart {\n",
       "    background-color: #E8F0FE;\n",
       "    border: none;\n",
       "    border-radius: 50%;\n",
       "    cursor: pointer;\n",
       "    display: none;\n",
       "    fill: #1967D2;\n",
       "    height: 32px;\n",
       "    padding: 0 0 0 0;\n",
       "    width: 32px;\n",
       "  }\n",
       "\n",
       "  .colab-df-quickchart:hover {\n",
       "    background-color: #E2EBFA;\n",
       "    box-shadow: 0px 1px 2px rgba(60, 64, 67, 0.3), 0px 1px 3px 1px rgba(60, 64, 67, 0.15);\n",
       "    fill: #174EA6;\n",
       "  }\n",
       "\n",
       "  [theme=dark] .colab-df-quickchart {\n",
       "    background-color: #3B4455;\n",
       "    fill: #D2E3FC;\n",
       "  }\n",
       "\n",
       "  [theme=dark] .colab-df-quickchart:hover {\n",
       "    background-color: #434B5C;\n",
       "    box-shadow: 0px 1px 3px 1px rgba(0, 0, 0, 0.15);\n",
       "    filter: drop-shadow(0px 1px 2px rgba(0, 0, 0, 0.3));\n",
       "    fill: #FFFFFF;\n",
       "  }\n",
       "</style>\n",
       "\n",
       "  <script>\n",
       "    async function quickchart(key) {\n",
       "      const charts = await google.colab.kernel.invokeFunction(\n",
       "          'suggestCharts', [key], {});\n",
       "    }\n",
       "    (() => {\n",
       "      let quickchartButtonEl =\n",
       "        document.querySelector('#df-73a63ba5-7300-4524-89ae-79859dab7bcb button');\n",
       "      quickchartButtonEl.style.display =\n",
       "        google.colab.kernel.accessAllowed ? 'block' : 'none';\n",
       "    })();\n",
       "  </script>\n",
       "</div>\n",
       "    </div>\n",
       "  </div>\n"
      ],
      "text/plain": [
       "col_0     0   1\n",
       "prefer         \n",
       "0       221  38\n",
       "1        22  72"
      ]
     },
     "execution_count": 53,
     "metadata": {},
     "output_type": "execute_result"
    }
   ],
   "source": [
    "pd.crosstab(y_test,y_pred)"
   ]
  },
  {
   "cell_type": "markdown",
   "metadata": {
    "id": "dtvZm07R2F_4"
   },
   "source": [
    "##KNN Classifier"
   ]
  },
  {
   "cell_type": "code",
   "execution_count": 54,
   "metadata": {
    "colab": {
     "base_uri": "https://localhost:8080/",
     "height": 75
    },
    "id": "iP2ld7TC196V",
    "outputId": "fca34d07-3fd2-4f83-8810-4cbc17af4ab0"
   },
   "outputs": [
    {
     "data": {
      "text/html": [
       "<style>#sk-container-id-2 {color: black;background-color: white;}#sk-container-id-2 pre{padding: 0;}#sk-container-id-2 div.sk-toggleable {background-color: white;}#sk-container-id-2 label.sk-toggleable__label {cursor: pointer;display: block;width: 100%;margin-bottom: 0;padding: 0.3em;box-sizing: border-box;text-align: center;}#sk-container-id-2 label.sk-toggleable__label-arrow:before {content: \"▸\";float: left;margin-right: 0.25em;color: #696969;}#sk-container-id-2 label.sk-toggleable__label-arrow:hover:before {color: black;}#sk-container-id-2 div.sk-estimator:hover label.sk-toggleable__label-arrow:before {color: black;}#sk-container-id-2 div.sk-toggleable__content {max-height: 0;max-width: 0;overflow: hidden;text-align: left;background-color: #f0f8ff;}#sk-container-id-2 div.sk-toggleable__content pre {margin: 0.2em;color: black;border-radius: 0.25em;background-color: #f0f8ff;}#sk-container-id-2 input.sk-toggleable__control:checked~div.sk-toggleable__content {max-height: 200px;max-width: 100%;overflow: auto;}#sk-container-id-2 input.sk-toggleable__control:checked~label.sk-toggleable__label-arrow:before {content: \"▾\";}#sk-container-id-2 div.sk-estimator input.sk-toggleable__control:checked~label.sk-toggleable__label {background-color: #d4ebff;}#sk-container-id-2 div.sk-label input.sk-toggleable__control:checked~label.sk-toggleable__label {background-color: #d4ebff;}#sk-container-id-2 input.sk-hidden--visually {border: 0;clip: rect(1px 1px 1px 1px);clip: rect(1px, 1px, 1px, 1px);height: 1px;margin: -1px;overflow: hidden;padding: 0;position: absolute;width: 1px;}#sk-container-id-2 div.sk-estimator {font-family: monospace;background-color: #f0f8ff;border: 1px dotted black;border-radius: 0.25em;box-sizing: border-box;margin-bottom: 0.5em;}#sk-container-id-2 div.sk-estimator:hover {background-color: #d4ebff;}#sk-container-id-2 div.sk-parallel-item::after {content: \"\";width: 100%;border-bottom: 1px solid gray;flex-grow: 1;}#sk-container-id-2 div.sk-label:hover label.sk-toggleable__label {background-color: #d4ebff;}#sk-container-id-2 div.sk-serial::before {content: \"\";position: absolute;border-left: 1px solid gray;box-sizing: border-box;top: 0;bottom: 0;left: 50%;z-index: 0;}#sk-container-id-2 div.sk-serial {display: flex;flex-direction: column;align-items: center;background-color: white;padding-right: 0.2em;padding-left: 0.2em;position: relative;}#sk-container-id-2 div.sk-item {position: relative;z-index: 1;}#sk-container-id-2 div.sk-parallel {display: flex;align-items: stretch;justify-content: center;background-color: white;position: relative;}#sk-container-id-2 div.sk-item::before, #sk-container-id-2 div.sk-parallel-item::before {content: \"\";position: absolute;border-left: 1px solid gray;box-sizing: border-box;top: 0;bottom: 0;left: 50%;z-index: -1;}#sk-container-id-2 div.sk-parallel-item {display: flex;flex-direction: column;z-index: 1;position: relative;background-color: white;}#sk-container-id-2 div.sk-parallel-item:first-child::after {align-self: flex-end;width: 50%;}#sk-container-id-2 div.sk-parallel-item:last-child::after {align-self: flex-start;width: 50%;}#sk-container-id-2 div.sk-parallel-item:only-child::after {width: 0;}#sk-container-id-2 div.sk-dashed-wrapped {border: 1px dashed gray;margin: 0 0.4em 0.5em 0.4em;box-sizing: border-box;padding-bottom: 0.4em;background-color: white;}#sk-container-id-2 div.sk-label label {font-family: monospace;font-weight: bold;display: inline-block;line-height: 1.2em;}#sk-container-id-2 div.sk-label-container {text-align: center;}#sk-container-id-2 div.sk-container {/* jupyter's `normalize.less` sets `[hidden] { display: none; }` but bootstrap.min.css set `[hidden] { display: none !important; }` so we also need the `!important` here to be able to override the default hidden behavior on the sphinx rendered scikit-learn.org. See: https://github.com/scikit-learn/scikit-learn/issues/21755 */display: inline-block !important;position: relative;}#sk-container-id-2 div.sk-text-repr-fallback {display: none;}</style><div id=\"sk-container-id-2\" class=\"sk-top-container\"><div class=\"sk-text-repr-fallback\"><pre>KNeighborsClassifier()</pre><b>In a Jupyter environment, please rerun this cell to show the HTML representation or trust the notebook. <br />On GitHub, the HTML representation is unable to render, please try loading this page with nbviewer.org.</b></div><div class=\"sk-container\" hidden><div class=\"sk-item\"><div class=\"sk-estimator sk-toggleable\"><input class=\"sk-toggleable__control sk-hidden--visually\" id=\"sk-estimator-id-2\" type=\"checkbox\" checked><label for=\"sk-estimator-id-2\" class=\"sk-toggleable__label sk-toggleable__label-arrow\">KNeighborsClassifier</label><div class=\"sk-toggleable__content\"><pre>KNeighborsClassifier()</pre></div></div></div></div></div>"
      ],
      "text/plain": [
       "KNeighborsClassifier()"
      ]
     },
     "execution_count": 54,
     "metadata": {},
     "output_type": "execute_result"
    }
   ],
   "source": [
    "from sklearn.neighbors import KNeighborsClassifier\n",
    "KNN=KNeighborsClassifier()\n",
    "KNN.fit(x_smote,y_smote)"
   ]
  },
  {
   "cell_type": "code",
   "execution_count": 55,
   "metadata": {
    "id": "VjORv4Cc2TUr"
   },
   "outputs": [],
   "source": [
    "y_pred=KNN.predict(x_test)"
   ]
  },
  {
   "cell_type": "code",
   "execution_count": 56,
   "metadata": {
    "colab": {
     "base_uri": "https://localhost:8080/"
    },
    "id": "aArJxw8M2xe4",
    "outputId": "22b90f27-1109-4448-9b89-425a92cc1954"
   },
   "outputs": [
    {
     "data": {
      "text/plain": [
       "0.8980169971671388"
      ]
     },
     "execution_count": 56,
     "metadata": {},
     "output_type": "execute_result"
    }
   ],
   "source": [
    "accuracy_score(y_test,y_pred)"
   ]
  },
  {
   "cell_type": "code",
   "execution_count": 57,
   "metadata": {
    "id": "X66HfKpu21zE"
   },
   "outputs": [],
   "source": [
    "error_rate=[]\n",
    "for i in range(3,14):\n",
    "  KNN=KNeighborsClassifier(n_neighbors=i)\n",
    "  KNN.fit(x_smote,y_smote)\n",
    "  pred_i=KNN.predict(x_test)\n",
    "  error_rate.append(np.mean(y_test != pred_i))"
   ]
  },
  {
   "cell_type": "code",
   "execution_count": 58,
   "metadata": {
    "colab": {
     "base_uri": "https://localhost:8080/",
     "height": 581
    },
    "id": "opsgTHKK35Ct",
    "outputId": "b364668a-b307-4d23-d645-653f3a2276ec"
   },
   "outputs": [
    {
     "data": {
      "text/plain": [
       "Text(0, 0.5, 'Error Rate')"
      ]
     },
     "execution_count": 58,
     "metadata": {},
     "output_type": "execute_result"
    },
    {
     "data": {
      "image/png": "[encoded data removed]",
      "text/plain": [
       "<Figure size 1000x600 with 1 Axes>"
      ]
     },
     "metadata": {},
     "output_type": "display_data"
    }
   ],
   "source": [
    "plt.figure(figsize=(10,6))\n",
    "plt.plot(range(3,14),error_rate,color='blue', linestyle='dashed',\n",
    "         marker='o',markerfacecolor='red', markersize=10)\n",
    "plt.title('Error Rate vs. K Value')\n",
    "plt.xlabel('K')\n",
    "plt.ylabel('Error Rate')"
   ]
  },
  {
   "cell_type": "code",
   "execution_count": 59,
   "metadata": {
    "colab": {
     "base_uri": "https://localhost:8080/",
     "height": 394
    },
    "id": "fFASRq-J4D4R",
    "outputId": "7bf0362b-242c-429e-fbda-15fa0a20da32"
   },
   "outputs": [
    {
     "data": {
      "text/html": [
       "\n",
       "  <div id=\"df-030285ec-bafe-45a5-83cc-b3a3d27ecc73\" class=\"colab-df-container\">\n",
       "    <div>\n",
       "<style scoped>\n",
       "    .dataframe tbody tr th:only-of-type {\n",
       "        vertical-align: middle;\n",
       "    }\n",
       "\n",
       "    .dataframe tbody tr th {\n",
       "        vertical-align: top;\n",
       "    }\n",
       "\n",
       "    .dataframe thead th {\n",
       "        text-align: right;\n",
       "    }\n",
       "</style>\n",
       "<table border=\"1\" class=\"dataframe\">\n",
       "  <thead>\n",
       "    <tr style=\"text-align: right;\">\n",
       "      <th></th>\n",
       "      <th>0</th>\n",
       "    </tr>\n",
       "  </thead>\n",
       "  <tbody>\n",
       "    <tr>\n",
       "      <th>3</th>\n",
       "      <td>0.101983</td>\n",
       "    </tr>\n",
       "    <tr>\n",
       "      <th>4</th>\n",
       "      <td>0.087819</td>\n",
       "    </tr>\n",
       "    <tr>\n",
       "      <th>5</th>\n",
       "      <td>0.101983</td>\n",
       "    </tr>\n",
       "    <tr>\n",
       "      <th>6</th>\n",
       "      <td>0.099150</td>\n",
       "    </tr>\n",
       "    <tr>\n",
       "      <th>7</th>\n",
       "      <td>0.118980</td>\n",
       "    </tr>\n",
       "    <tr>\n",
       "      <th>8</th>\n",
       "      <td>0.107649</td>\n",
       "    </tr>\n",
       "    <tr>\n",
       "      <th>9</th>\n",
       "      <td>0.118980</td>\n",
       "    </tr>\n",
       "    <tr>\n",
       "      <th>10</th>\n",
       "      <td>0.110482</td>\n",
       "    </tr>\n",
       "    <tr>\n",
       "      <th>11</th>\n",
       "      <td>0.130312</td>\n",
       "    </tr>\n",
       "    <tr>\n",
       "      <th>12</th>\n",
       "      <td>0.130312</td>\n",
       "    </tr>\n",
       "    <tr>\n",
       "      <th>13</th>\n",
       "      <td>0.133144</td>\n",
       "    </tr>\n",
       "  </tbody>\n",
       "</table>\n",
       "</div>\n",
       "    <div class=\"colab-df-buttons\">\n",
       "\n",
       "  <div class=\"colab-df-container\">\n",
       "    <button class=\"colab-df-convert\" onclick=\"convertToInteractive('df-030285ec-bafe-45a5-83cc-b3a3d27ecc73')\"\n",
       "            title=\"Convert this dataframe to an interactive table.\"\n",
       "            style=\"display:none;\">\n",
       "\n",
       "  <svg xmlns=\"http://www.w3.org/2000/svg\" height=\"24px\" viewBox=\"0 -960 960 960\">\n",
       "    <path d=\"M120-120v-720h720v720H120Zm60-500h600v-160H180v160Zm220 220h160v-160H400v160Zm0 220h160v-160H400v160ZM180-400h160v-160H180v160Zm440 0h160v-160H620v160ZM180-180h160v-160H180v160Zm440 0h160v-160H620v160Z\"/>\n",
       "  </svg>\n",
       "    </button>\n",
       "\n",
       "  <style>\n",
       "    .colab-df-container {\n",
       "      display:flex;\n",
       "      gap: 12px;\n",
       "    }\n",
       "\n",
       "    .colab-df-convert {\n",
       "      background-color: #E8F0FE;\n",
       "      border: none;\n",
       "      border-radius: 50%;\n",
       "      cursor: pointer;\n",
       "      display: none;\n",
       "      fill: #1967D2;\n",
       "      height: 32px;\n",
       "      padding: 0 0 0 0;\n",
       "      width: 32px;\n",
       "    }\n",
       "\n",
       "    .colab-df-convert:hover {\n",
       "      background-color: #E2EBFA;\n",
       "      box-shadow: 0px 1px 2px rgba(60, 64, 67, 0.3), 0px 1px 3px 1px rgba(60, 64, 67, 0.15);\n",
       "      fill: #174EA6;\n",
       "    }\n",
       "\n",
       "    .colab-df-buttons div {\n",
       "      margin-bottom: 4px;\n",
       "    }\n",
       "\n",
       "    [theme=dark] .colab-df-convert {\n",
       "      background-color: #3B4455;\n",
       "      fill: #D2E3FC;\n",
       "    }\n",
       "\n",
       "    [theme=dark] .colab-df-convert:hover {\n",
       "      background-color: #434B5C;\n",
       "      box-shadow: 0px 1px 3px 1px rgba(0, 0, 0, 0.15);\n",
       "      filter: drop-shadow(0px 1px 2px rgba(0, 0, 0, 0.3));\n",
       "      fill: #FFFFFF;\n",
       "    }\n",
       "  </style>\n",
       "\n",
       "    <script>\n",
       "      const buttonEl =\n",
       "        document.querySelector('#df-030285ec-bafe-45a5-83cc-b3a3d27ecc73 button.colab-df-convert');\n",
       "      buttonEl.style.display =\n",
       "        google.colab.kernel.accessAllowed ? 'block' : 'none';\n",
       "\n",
       "      async function convertToInteractive(key) {\n",
       "        const element = document.querySelector('#df-030285ec-bafe-45a5-83cc-b3a3d27ecc73');\n",
       "        const dataTable =\n",
       "          await google.colab.kernel.invokeFunction('convertToInteractive',\n",
       "                                                    [key], {});\n",
       "        if (!dataTable) return;\n",
       "\n",
       "        const docLinkHtml = 'Like what you see? Visit the ' +\n",
       "          '<a target=\"_blank\" href=https://colab.research.google.com/notebooks/data_table.ipynb>data table notebook</a>'\n",
       "          + ' to learn more about interactive tables.';\n",
       "        element.innerHTML = '';\n",
       "        dataTable['output_type'] = 'display_data';\n",
       "        await google.colab.output.renderOutput(dataTable, element);\n",
       "        const docLink = document.createElement('div');\n",
       "        docLink.innerHTML = docLinkHtml;\n",
       "        element.appendChild(docLink);\n",
       "      }\n",
       "    </script>\n",
       "  </div>\n",
       "\n",
       "\n",
       "<div id=\"df-b7914289-536c-4059-9880-9254a92999fd\">\n",
       "  <button class=\"colab-df-quickchart\" onclick=\"quickchart('df-b7914289-536c-4059-9880-9254a92999fd')\"\n",
       "            title=\"Suggest charts.\"\n",
       "            style=\"display:none;\">\n",
       "\n",
       "<svg xmlns=\"http://www.w3.org/2000/svg\" height=\"24px\"viewBox=\"0 0 24 24\"\n",
       "     width=\"24px\">\n",
       "    <g>\n",
       "        <path d=\"M19 3H5c-1.1 0-2 .9-2 2v14c0 1.1.9 2 2 2h14c1.1 0 2-.9 2-2V5c0-1.1-.9-2-2-2zM9 17H7v-7h2v7zm4 0h-2V7h2v10zm4 0h-2v-4h2v4z\"/>\n",
       "    </g>\n",
       "</svg>\n",
       "  </button>\n",
       "\n",
       "<style>\n",
       "  .colab-df-quickchart {\n",
       "    background-color: #E8F0FE;\n",
       "    border: none;\n",
       "    border-radius: 50%;\n",
       "    cursor: pointer;\n",
       "    display: none;\n",
       "    fill: #1967D2;\n",
       "    height: 32px;\n",
       "    padding: 0 0 0 0;\n",
       "    width: 32px;\n",
       "  }\n",
       "\n",
       "  .colab-df-quickchart:hover {\n",
       "    background-color: #E2EBFA;\n",
       "    box-shadow: 0px 1px 2px rgba(60, 64, 67, 0.3), 0px 1px 3px 1px rgba(60, 64, 67, 0.15);\n",
       "    fill: #174EA6;\n",
       "  }\n",
       "\n",
       "  [theme=dark] .colab-df-quickchart {\n",
       "    background-color: #3B4455;\n",
       "    fill: #D2E3FC;\n",
       "  }\n",
       "\n",
       "  [theme=dark] .colab-df-quickchart:hover {\n",
       "    background-color: #434B5C;\n",
       "    box-shadow: 0px 1px 3px 1px rgba(0, 0, 0, 0.15);\n",
       "    filter: drop-shadow(0px 1px 2px rgba(0, 0, 0, 0.3));\n",
       "    fill: #FFFFFF;\n",
       "  }\n",
       "</style>\n",
       "\n",
       "  <script>\n",
       "    async function quickchart(key) {\n",
       "      const charts = await google.colab.kernel.invokeFunction(\n",
       "          'suggestCharts', [key], {});\n",
       "    }\n",
       "    (() => {\n",
       "      let quickchartButtonEl =\n",
       "        document.querySelector('#df-b7914289-536c-4059-9880-9254a92999fd button');\n",
       "      quickchartButtonEl.style.display =\n",
       "        google.colab.kernel.accessAllowed ? 'block' : 'none';\n",
       "    })();\n",
       "  </script>\n",
       "</div>\n",
       "    </div>\n",
       "  </div>\n"
      ],
      "text/plain": [
       "           0\n",
       "3   0.101983\n",
       "4   0.087819\n",
       "5   0.101983\n",
       "6   0.099150\n",
       "7   0.118980\n",
       "8   0.107649\n",
       "9   0.118980\n",
       "10  0.110482\n",
       "11  0.130312\n",
       "12  0.130312\n",
       "13  0.133144"
      ]
     },
     "execution_count": 59,
     "metadata": {},
     "output_type": "execute_result"
    }
   ],
   "source": [
    "table=pd.DataFrame(error_rate,index=(range(3,14)))\n",
    "table"
   ]
  },
  {
   "cell_type": "code",
   "execution_count": 60,
   "metadata": {
    "id": "KOy2HSfF4gRz"
   },
   "outputs": [],
   "source": [
    "KNN=KNeighborsClassifier(n_neighbors=4)\n",
    "KNN.fit(x_smote,y_smote)\n",
    "y_pred=KNN.predict(x_test)"
   ]
  },
  {
   "cell_type": "code",
   "execution_count": 61,
   "metadata": {
    "colab": {
     "base_uri": "https://localhost:8080/"
    },
    "id": "cDF0cbWD5ftN",
    "outputId": "c78e64e4-0f79-4a29-9b95-884adcf4e9c8"
   },
   "outputs": [
    {
     "data": {
      "text/plain": [
       "0.9121813031161473"
      ]
     },
     "execution_count": 61,
     "metadata": {},
     "output_type": "execute_result"
    }
   ],
   "source": [
    "accuracy_score(y_test,y_pred)"
   ]
  },
  {
   "cell_type": "code",
   "execution_count": 62,
   "metadata": {
    "colab": {
     "base_uri": "https://localhost:8080/",
     "height": 143
    },
    "id": "8BFGbWi25i7G",
    "outputId": "1c967b49-c80a-4b02-f84c-b3f96d842bc8"
   },
   "outputs": [
    {
     "data": {
      "text/html": [
       "\n",
       "  <div id=\"df-efb38008-ee01-49f7-955d-6936d987ca9f\" class=\"colab-df-container\">\n",
       "    <div>\n",
       "<style scoped>\n",
       "    .dataframe tbody tr th:only-of-type {\n",
       "        vertical-align: middle;\n",
       "    }\n",
       "\n",
       "    .dataframe tbody tr th {\n",
       "        vertical-align: top;\n",
       "    }\n",
       "\n",
       "    .dataframe thead th {\n",
       "        text-align: right;\n",
       "    }\n",
       "</style>\n",
       "<table border=\"1\" class=\"dataframe\">\n",
       "  <thead>\n",
       "    <tr style=\"text-align: right;\">\n",
       "      <th>col_0</th>\n",
       "      <th>0</th>\n",
       "      <th>1</th>\n",
       "    </tr>\n",
       "    <tr>\n",
       "      <th>prefer</th>\n",
       "      <th></th>\n",
       "      <th></th>\n",
       "    </tr>\n",
       "  </thead>\n",
       "  <tbody>\n",
       "    <tr>\n",
       "      <th>0</th>\n",
       "      <td>249</td>\n",
       "      <td>10</td>\n",
       "    </tr>\n",
       "    <tr>\n",
       "      <th>1</th>\n",
       "      <td>21</td>\n",
       "      <td>73</td>\n",
       "    </tr>\n",
       "  </tbody>\n",
       "</table>\n",
       "</div>\n",
       "    <div class=\"colab-df-buttons\">\n",
       "\n",
       "  <div class=\"colab-df-container\">\n",
       "    <button class=\"colab-df-convert\" onclick=\"convertToInteractive('df-efb38008-ee01-49f7-955d-6936d987ca9f')\"\n",
       "            title=\"Convert this dataframe to an interactive table.\"\n",
       "            style=\"display:none;\">\n",
       "\n",
       "  <svg xmlns=\"http://www.w3.org/2000/svg\" height=\"24px\" viewBox=\"0 -960 960 960\">\n",
       "    <path d=\"M120-120v-720h720v720H120Zm60-500h600v-160H180v160Zm220 220h160v-160H400v160Zm0 220h160v-160H400v160ZM180-400h160v-160H180v160Zm440 0h160v-160H620v160ZM180-180h160v-160H180v160Zm440 0h160v-160H620v160Z\"/>\n",
       "  </svg>\n",
       "    </button>\n",
       "\n",
       "  <style>\n",
       "    .colab-df-container {\n",
       "      display:flex;\n",
       "      gap: 12px;\n",
       "    }\n",
       "\n",
       "    .colab-df-convert {\n",
       "      background-color: #E8F0FE;\n",
       "      border: none;\n",
       "      border-radius: 50%;\n",
       "      cursor: pointer;\n",
       "      display: none;\n",
       "      fill: #1967D2;\n",
       "      height: 32px;\n",
       "      padding: 0 0 0 0;\n",
       "      width: 32px;\n",
       "    }\n",
       "\n",
       "    .colab-df-convert:hover {\n",
       "      background-color: #E2EBFA;\n",
       "      box-shadow: 0px 1px 2px rgba(60, 64, 67, 0.3), 0px 1px 3px 1px rgba(60, 64, 67, 0.15);\n",
       "      fill: #174EA6;\n",
       "    }\n",
       "\n",
       "    .colab-df-buttons div {\n",
       "      margin-bottom: 4px;\n",
       "    }\n",
       "\n",
       "    [theme=dark] .colab-df-convert {\n",
       "      background-color: #3B4455;\n",
       "      fill: #D2E3FC;\n",
       "    }\n",
       "\n",
       "    [theme=dark] .colab-df-convert:hover {\n",
       "      background-color: #434B5C;\n",
       "      box-shadow: 0px 1px 3px 1px rgba(0, 0, 0, 0.15);\n",
       "      filter: drop-shadow(0px 1px 2px rgba(0, 0, 0, 0.3));\n",
       "      fill: #FFFFFF;\n",
       "    }\n",
       "  </style>\n",
       "\n",
       "    <script>\n",
       "      const buttonEl =\n",
       "        document.querySelector('#df-efb38008-ee01-49f7-955d-6936d987ca9f button.colab-df-convert');\n",
       "      buttonEl.style.display =\n",
       "        google.colab.kernel.accessAllowed ? 'block' : 'none';\n",
       "\n",
       "      async function convertToInteractive(key) {\n",
       "        const element = document.querySelector('#df-efb38008-ee01-49f7-955d-6936d987ca9f');\n",
       "        const dataTable =\n",
       "          await google.colab.kernel.invokeFunction('convertToInteractive',\n",
       "                                                    [key], {});\n",
       "        if (!dataTable) return;\n",
       "\n",
       "        const docLinkHtml = 'Like what you see? Visit the ' +\n",
       "          '<a target=\"_blank\" href=https://colab.research.google.com/notebooks/data_table.ipynb>data table notebook</a>'\n",
       "          + ' to learn more about interactive tables.';\n",
       "        element.innerHTML = '';\n",
       "        dataTable['output_type'] = 'display_data';\n",
       "        await google.colab.output.renderOutput(dataTable, element);\n",
       "        const docLink = document.createElement('div');\n",
       "        docLink.innerHTML = docLinkHtml;\n",
       "        element.appendChild(docLink);\n",
       "      }\n",
       "    </script>\n",
       "  </div>\n",
       "\n",
       "\n",
       "<div id=\"df-4e0c8c11-8956-4ff9-a44f-d5ce8b86cc27\">\n",
       "  <button class=\"colab-df-quickchart\" onclick=\"quickchart('df-4e0c8c11-8956-4ff9-a44f-d5ce8b86cc27')\"\n",
       "            title=\"Suggest charts.\"\n",
       "            style=\"display:none;\">\n",
       "\n",
       "<svg xmlns=\"http://www.w3.org/2000/svg\" height=\"24px\"viewBox=\"0 0 24 24\"\n",
       "     width=\"24px\">\n",
       "    <g>\n",
       "        <path d=\"M19 3H5c-1.1 0-2 .9-2 2v14c0 1.1.9 2 2 2h14c1.1 0 2-.9 2-2V5c0-1.1-.9-2-2-2zM9 17H7v-7h2v7zm4 0h-2V7h2v10zm4 0h-2v-4h2v4z\"/>\n",
       "    </g>\n",
       "</svg>\n",
       "  </button>\n",
       "\n",
       "<style>\n",
       "  .colab-df-quickchart {\n",
       "    background-color: #E8F0FE;\n",
       "    border: none;\n",
       "    border-radius: 50%;\n",
       "    cursor: pointer;\n",
       "    display: none;\n",
       "    fill: #1967D2;\n",
       "    height: 32px;\n",
       "    padding: 0 0 0 0;\n",
       "    width: 32px;\n",
       "  }\n",
       "\n",
       "  .colab-df-quickchart:hover {\n",
       "    background-color: #E2EBFA;\n",
       "    box-shadow: 0px 1px 2px rgba(60, 64, 67, 0.3), 0px 1px 3px 1px rgba(60, 64, 67, 0.15);\n",
       "    fill: #174EA6;\n",
       "  }\n",
       "\n",
       "  [theme=dark] .colab-df-quickchart {\n",
       "    background-color: #3B4455;\n",
       "    fill: #D2E3FC;\n",
       "  }\n",
       "\n",
       "  [theme=dark] .colab-df-quickchart:hover {\n",
       "    background-color: #434B5C;\n",
       "    box-shadow: 0px 1px 3px 1px rgba(0, 0, 0, 0.15);\n",
       "    filter: drop-shadow(0px 1px 2px rgba(0, 0, 0, 0.3));\n",
       "    fill: #FFFFFF;\n",
       "  }\n",
       "</style>\n",
       "\n",
       "  <script>\n",
       "    async function quickchart(key) {\n",
       "      const charts = await google.colab.kernel.invokeFunction(\n",
       "          'suggestCharts', [key], {});\n",
       "    }\n",
       "    (() => {\n",
       "      let quickchartButtonEl =\n",
       "        document.querySelector('#df-4e0c8c11-8956-4ff9-a44f-d5ce8b86cc27 button');\n",
       "      quickchartButtonEl.style.display =\n",
       "        google.colab.kernel.accessAllowed ? 'block' : 'none';\n",
       "    })();\n",
       "  </script>\n",
       "</div>\n",
       "    </div>\n",
       "  </div>\n"
      ],
      "text/plain": [
       "col_0     0   1\n",
       "prefer         \n",
       "0       249  10\n",
       "1        21  73"
      ]
     },
     "execution_count": 62,
     "metadata": {},
     "output_type": "execute_result"
    }
   ],
   "source": [
    "pd.crosstab(y_test,y_pred)"
   ]
  },
  {
   "cell_type": "markdown",
   "metadata": {
    "id": "wXtFvES23VO6"
   },
   "source": [
    "##Support vector machine"
   ]
  },
  {
   "cell_type": "code",
   "execution_count": 66,
   "metadata": {
    "id": "qNNVMeUa3UWq"
   },
   "outputs": [],
   "source": [
    "from sklearn.svm import SVC\n",
    "svclassifier=SVC()\n",
    "svclassifier.fit(x_smote,y_smote)\n",
    "y_pred=svclassifier.predict(x_test)"
   ]
  },
  {
   "cell_type": "code",
   "execution_count": 67,
   "metadata": {
    "colab": {
     "base_uri": "https://localhost:8080/"
    },
    "id": "6rAACPV934gC",
    "outputId": "d06766a4-3bcd-48a7-cfe5-3856e2346986"
   },
   "outputs": [
    {
     "data": {
      "text/plain": [
       "0.8696883852691218"
      ]
     },
     "execution_count": 67,
     "metadata": {},
     "output_type": "execute_result"
    }
   ],
   "source": [
    "# Evaluation\n",
    "accuracy_score(y_test,y_pred)"
   ]
  },
  {
   "cell_type": "markdown",
   "metadata": {
    "id": "zXkcGHB-4N6J"
   },
   "source": [
    "##Hyperparameter tuning"
   ]
  },
  {
   "cell_type": "code",
   "execution_count": 72,
   "metadata": {
    "id": "LPa7wPgI6MIs"
   },
   "outputs": [],
   "source": [
    "x.loc[x['line_of_work'].isnull()==True,'line_of_work']=7"
   ]
  },
  {
   "cell_type": "code",
   "execution_count": 77,
   "metadata": {
    "colab": {
     "base_uri": "https://localhost:8080/",
     "height": 1000
    },
    "id": "eHjQ-dwn4RQ-",
    "outputId": "d57278e4-064a-4df2-9a36-6bde22ce2457"
   },
   "outputs": [
    {
     "name": "stdout",
     "output_type": "stream",
     "text": [
      "Fitting 3 folds for each of 272 candidates, totalling 816 fits\n",
      "[CV] END ....................C=50, gamma=0.1, random_state=3; total time=   0.0s\n",
      "[CV] END ....................C=50, gamma=0.1, random_state=3; total time=   0.0s\n",
      "[CV] END ....................C=50, gamma=0.1, random_state=3; total time=   0.0s\n",
      "[CV] END ....................C=50, gamma=0.1, random_state=4; total time=   0.0s\n",
      "[CV] END ....................C=50, gamma=0.1, random_state=4; total time=   0.0s\n",
      "[CV] END ....................C=50, gamma=0.1, random_state=4; total time=   0.0s\n",
      "[CV] END ....................C=50, gamma=0.1, random_state=5; total time=   0.0s\n",
      "[CV] END ....................C=50, gamma=0.1, random_state=5; total time=   0.0s\n",
      "[CV] END ....................C=50, gamma=0.1, random_state=5; total time=   0.0s\n",
      "[CV] END ....................C=50, gamma=0.1, random_state=6; total time=   0.0s\n",
      "[CV] END ....................C=50, gamma=0.1, random_state=6; total time=   0.0s\n",
      "[CV] END ....................C=50, gamma=0.1, random_state=6; total time=   0.0s\n",
      "[CV] END ....................C=50, gamma=0.1, random_state=7; total time=   0.0s\n",
      "[CV] END ....................C=50, gamma=0.1, random_state=7; total time=   0.0s\n",
      "[CV] END ....................C=50, gamma=0.1, random_state=7; total time=   0.0s\n",
      "[CV] END ....................C=50, gamma=0.1, random_state=8; total time=   0.0s\n",
      "[CV] END ....................C=50, gamma=0.1, random_state=8; total time=   0.0s\n",
      "[CV] END ....................C=50, gamma=0.1, random_state=8; total time=   0.0s\n",
      "[CV] END ....................C=50, gamma=0.1, random_state=9; total time=   0.0s\n",
      "[CV] END ....................C=50, gamma=0.1, random_state=9; total time=   0.0s\n",
      "[CV] END ....................C=50, gamma=0.1, random_state=9; total time=   0.0s\n",
      "[CV] END ...................C=50, gamma=0.1, random_state=10; total time=   0.0s\n",
      "[CV] END ...................C=50, gamma=0.1, random_state=10; total time=   0.0s\n",
      "[CV] END ...................C=50, gamma=0.1, random_state=10; total time=   0.0s\n",
      "[CV] END ...................C=50, gamma=0.1, random_state=11; total time=   0.0s\n",
      "[CV] END ...................C=50, gamma=0.1, random_state=11; total time=   0.0s\n",
      "[CV] END ...................C=50, gamma=0.1, random_state=11; total time=   0.0s\n",
      "[CV] END ...................C=50, gamma=0.1, random_state=12; total time=   0.0s\n",
      "[CV] END ...................C=50, gamma=0.1, random_state=12; total time=   0.0s\n",
      "[CV] END ...................C=50, gamma=0.1, random_state=12; total time=   0.0s\n",
      "[CV] END ...................C=50, gamma=0.1, random_state=13; total time=   0.0s\n",
      "[CV] END ...................C=50, gamma=0.1, random_state=13; total time=   0.0s\n",
      "[CV] END ...................C=50, gamma=0.1, random_state=13; total time=   0.0s\n",
      "[CV] END ...................C=50, gamma=0.1, random_state=14; total time=   0.0s\n",
      "[CV] END ...................C=50, gamma=0.1, random_state=14; total time=   0.0s\n",
      "[CV] END ...................C=50, gamma=0.1, random_state=14; total time=   0.0s\n",
      "[CV] END ...................C=50, gamma=0.1, random_state=15; total time=   0.0s\n",
      "[CV] END ...................C=50, gamma=0.1, random_state=15; total time=   0.0s\n",
      "[CV] END ...................C=50, gamma=0.1, random_state=15; total time=   0.0s\n",
      "[CV] END ...................C=50, gamma=0.1, random_state=16; total time=   0.0s\n",
      "[CV] END ...................C=50, gamma=0.1, random_state=16; total time=   0.0s\n",
      "[CV] END ...................C=50, gamma=0.1, random_state=16; total time=   0.0s\n",
      "[CV] END ...................C=50, gamma=0.1, random_state=17; total time=   0.0s\n",
      "[CV] END ...................C=50, gamma=0.1, random_state=17; total time=   0.0s\n",
      "[CV] END ...................C=50, gamma=0.1, random_state=17; total time=   0.0s\n",
      "[CV] END ...................C=50, gamma=0.1, random_state=18; total time=   0.0s\n",
      "[CV] END ...................C=50, gamma=0.1, random_state=18; total time=   0.0s\n",
      "[CV] END ...................C=50, gamma=0.1, random_state=18; total time=   0.0s\n",
      "[CV] END ...................C=50, gamma=0.1, random_state=19; total time=   0.0s\n",
      "[CV] END ...................C=50, gamma=0.1, random_state=19; total time=   0.0s\n",
      "[CV] END ...................C=50, gamma=0.1, random_state=19; total time=   0.0s\n",
      "[CV] END ...................C=50, gamma=0.01, random_state=3; total time=   0.0s\n",
      "[CV] END ...................C=50, gamma=0.01, random_state=3; total time=   0.0s\n",
      "[CV] END ...................C=50, gamma=0.01, random_state=3; total time=   0.0s\n",
      "[CV] END ...................C=50, gamma=0.01, random_state=4; total time=   0.0s\n",
      "[CV] END ...................C=50, gamma=0.01, random_state=4; total time=   0.0s\n",
      "[CV] END ...................C=50, gamma=0.01, random_state=4; total time=   0.0s\n",
      "[CV] END ...................C=50, gamma=0.01, random_state=5; total time=   0.0s\n",
      "[CV] END ...................C=50, gamma=0.01, random_state=5; total time=   0.0s\n",
      "[CV] END ...................C=50, gamma=0.01, random_state=5; total time=   0.0s\n",
      "[CV] END ...................C=50, gamma=0.01, random_state=6; total time=   0.0s\n",
      "[CV] END ...................C=50, gamma=0.01, random_state=6; total time=   0.0s\n",
      "[CV] END ...................C=50, gamma=0.01, random_state=6; total time=   0.0s\n",
      "[CV] END ...................C=50, gamma=0.01, random_state=7; total time=   0.0s\n",
      "[CV] END ...................C=50, gamma=0.01, random_state=7; total time=   0.0s\n",
      "[CV] END ...................C=50, gamma=0.01, random_state=7; total time=   0.0s\n",
      "[CV] END ...................C=50, gamma=0.01, random_state=8; total time=   0.0s\n",
      "[CV] END ...................C=50, gamma=0.01, random_state=8; total time=   0.0s\n",
      "[CV] END ...................C=50, gamma=0.01, random_state=8; total time=   0.0s\n",
      "[CV] END ...................C=50, gamma=0.01, random_state=9; total time=   0.0s\n",
      "[CV] END ...................C=50, gamma=0.01, random_state=9; total time=   0.0s\n",
      "[CV] END ...................C=50, gamma=0.01, random_state=9; total time=   0.0s\n",
      "[CV] END ..................C=50, gamma=0.01, random_state=10; total time=   0.0s\n",
      "[CV] END ..................C=50, gamma=0.01, random_state=10; total time=   0.0s\n",
      "[CV] END ..................C=50, gamma=0.01, random_state=10; total time=   0.0s\n",
      "[CV] END ..................C=50, gamma=0.01, random_state=11; total time=   0.0s\n",
      "[CV] END ..................C=50, gamma=0.01, random_state=11; total time=   0.0s\n",
      "[CV] END ..................C=50, gamma=0.01, random_state=11; total time=   0.0s\n",
      "[CV] END ..................C=50, gamma=0.01, random_state=12; total time=   0.0s\n",
      "[CV] END ..................C=50, gamma=0.01, random_state=12; total time=   0.0s\n",
      "[CV] END ..................C=50, gamma=0.01, random_state=12; total time=   0.0s\n",
      "[CV] END ..................C=50, gamma=0.01, random_state=13; total time=   0.0s\n",
      "[CV] END ..................C=50, gamma=0.01, random_state=13; total time=   0.0s\n",
      "[CV] END ..................C=50, gamma=0.01, random_state=13; total time=   0.0s\n",
      "[CV] END ..................C=50, gamma=0.01, random_state=14; total time=   0.0s\n",
      "[CV] END ..................C=50, gamma=0.01, random_state=14; total time=   0.0s\n",
      "[CV] END ..................C=50, gamma=0.01, random_state=14; total time=   0.0s\n",
      "[CV] END ..................C=50, gamma=0.01, random_state=15; total time=   0.0s\n",
      "[CV] END ..................C=50, gamma=0.01, random_state=15; total time=   0.0s\n",
      "[CV] END ..................C=50, gamma=0.01, random_state=15; total time=   0.0s\n",
      "[CV] END ..................C=50, gamma=0.01, random_state=16; total time=   0.0s\n",
      "[CV] END ..................C=50, gamma=0.01, random_state=16; total time=   0.0s\n",
      "[CV] END ..................C=50, gamma=0.01, random_state=16; total time=   0.0s\n",
      "[CV] END ..................C=50, gamma=0.01, random_state=17; total time=   0.0s\n",
      "[CV] END ..................C=50, gamma=0.01, random_state=17; total time=   0.0s\n",
      "[CV] END ..................C=50, gamma=0.01, random_state=17; total time=   0.0s\n",
      "[CV] END ..................C=50, gamma=0.01, random_state=18; total time=   0.0s\n",
      "[CV] END ..................C=50, gamma=0.01, random_state=18; total time=   0.0s\n",
      "[CV] END ..................C=50, gamma=0.01, random_state=18; total time=   0.0s\n",
      "[CV] END ..................C=50, gamma=0.01, random_state=19; total time=   0.0s\n",
      "[CV] END ..................C=50, gamma=0.01, random_state=19; total time=   0.0s\n",
      "[CV] END ..................C=50, gamma=0.01, random_state=19; total time=   0.0s\n",
      "[CV] END ..................C=50, gamma=0.001, random_state=3; total time=   0.0s\n",
      "[CV] END ..................C=50, gamma=0.001, random_state=3; total time=   0.0s\n",
      "[CV] END ..................C=50, gamma=0.001, random_state=3; total time=   0.0s\n",
      "[CV] END ..................C=50, gamma=0.001, random_state=4; total time=   0.0s\n",
      "[CV] END ..................C=50, gamma=0.001, random_state=4; total time=   0.0s\n",
      "[CV] END ..................C=50, gamma=0.001, random_state=4; total time=   0.0s\n",
      "[CV] END ..................C=50, gamma=0.001, random_state=5; total time=   0.0s\n",
      "[CV] END ..................C=50, gamma=0.001, random_state=5; total time=   0.0s\n",
      "[CV] END ..................C=50, gamma=0.001, random_state=5; total time=   0.0s\n",
      "[CV] END ..................C=50, gamma=0.001, random_state=6; total time=   0.0s\n",
      "[CV] END ..................C=50, gamma=0.001, random_state=6; total time=   0.0s\n",
      "[CV] END ..................C=50, gamma=0.001, random_state=6; total time=   0.0s\n",
      "[CV] END ..................C=50, gamma=0.001, random_state=7; total time=   0.0s\n",
      "[CV] END ..................C=50, gamma=0.001, random_state=7; total time=   0.0s\n",
      "[CV] END ..................C=50, gamma=0.001, random_state=7; total time=   0.0s\n",
      "[CV] END ..................C=50, gamma=0.001, random_state=8; total time=   0.0s\n",
      "[CV] END ..................C=50, gamma=0.001, random_state=8; total time=   0.0s\n",
      "[CV] END ..................C=50, gamma=0.001, random_state=8; total time=   0.0s\n",
      "[CV] END ..................C=50, gamma=0.001, random_state=9; total time=   0.0s\n",
      "[CV] END ..................C=50, gamma=0.001, random_state=9; total time=   0.0s\n",
      "[CV] END ..................C=50, gamma=0.001, random_state=9; total time=   0.0s\n",
      "[CV] END .................C=50, gamma=0.001, random_state=10; total time=   0.0s\n",
      "[CV] END .................C=50, gamma=0.001, random_state=10; total time=   0.0s\n",
      "[CV] END .................C=50, gamma=0.001, random_state=10; total time=   0.0s\n",
      "[CV] END .................C=50, gamma=0.001, random_state=11; total time=   0.0s\n",
      "[CV] END .................C=50, gamma=0.001, random_state=11; total time=   0.0s\n",
      "[CV] END .................C=50, gamma=0.001, random_state=11; total time=   0.0s\n",
      "[CV] END .................C=50, gamma=0.001, random_state=12; total time=   0.0s\n",
      "[CV] END .................C=50, gamma=0.001, random_state=12; total time=   0.0s\n",
      "[CV] END .................C=50, gamma=0.001, random_state=12; total time=   0.0s\n",
      "[CV] END .................C=50, gamma=0.001, random_state=13; total time=   0.0s\n",
      "[CV] END .................C=50, gamma=0.001, random_state=13; total time=   0.0s\n",
      "[CV] END .................C=50, gamma=0.001, random_state=13; total time=   0.0s\n",
      "[CV] END .................C=50, gamma=0.001, random_state=14; total time=   0.0s\n",
      "[CV] END .................C=50, gamma=0.001, random_state=14; total time=   0.0s\n",
      "[CV] END .................C=50, gamma=0.001, random_state=14; total time=   0.0s\n",
      "[CV] END .................C=50, gamma=0.001, random_state=15; total time=   0.0s\n",
      "[CV] END .................C=50, gamma=0.001, random_state=15; total time=   0.0s\n",
      "[CV] END .................C=50, gamma=0.001, random_state=15; total time=   0.0s\n",
      "[CV] END .................C=50, gamma=0.001, random_state=16; total time=   0.0s\n",
      "[CV] END .................C=50, gamma=0.001, random_state=16; total time=   0.0s\n",
      "[CV] END .................C=50, gamma=0.001, random_state=16; total time=   0.0s\n",
      "[CV] END .................C=50, gamma=0.001, random_state=17; total time=   0.0s\n",
      "[CV] END .................C=50, gamma=0.001, random_state=17; total time=   0.0s\n",
      "[CV] END .................C=50, gamma=0.001, random_state=17; total time=   0.0s\n",
      "[CV] END .................C=50, gamma=0.001, random_state=18; total time=   0.0s\n",
      "[CV] END .................C=50, gamma=0.001, random_state=18; total time=   0.0s\n",
      "[CV] END .................C=50, gamma=0.001, random_state=18; total time=   0.0s\n",
      "[CV] END .................C=50, gamma=0.001, random_state=19; total time=   0.0s\n",
      "[CV] END .................C=50, gamma=0.001, random_state=19; total time=   0.0s\n",
      "[CV] END .................C=50, gamma=0.001, random_state=19; total time=   0.0s\n",
      "[CV] END .................C=50, gamma=0.0001, random_state=3; total time=   0.0s\n",
      "[CV] END .................C=50, gamma=0.0001, random_state=3; total time=   0.0s\n",
      "[CV] END .................C=50, gamma=0.0001, random_state=3; total time=   0.0s\n",
      "[CV] END .................C=50, gamma=0.0001, random_state=4; total time=   0.0s\n",
      "[CV] END .................C=50, gamma=0.0001, random_state=4; total time=   0.0s\n",
      "[CV] END .................C=50, gamma=0.0001, random_state=4; total time=   0.0s\n",
      "[CV] END .................C=50, gamma=0.0001, random_state=5; total time=   0.0s\n",
      "[CV] END .................C=50, gamma=0.0001, random_state=5; total time=   0.0s\n",
      "[CV] END .................C=50, gamma=0.0001, random_state=5; total time=   0.0s\n",
      "[CV] END .................C=50, gamma=0.0001, random_state=6; total time=   0.0s\n",
      "[CV] END .................C=50, gamma=0.0001, random_state=6; total time=   0.0s\n",
      "[CV] END .................C=50, gamma=0.0001, random_state=6; total time=   0.0s\n",
      "[CV] END .................C=50, gamma=0.0001, random_state=7; total time=   0.0s\n",
      "[CV] END .................C=50, gamma=0.0001, random_state=7; total time=   0.0s\n",
      "[CV] END .................C=50, gamma=0.0001, random_state=7; total time=   0.0s\n",
      "[CV] END .................C=50, gamma=0.0001, random_state=8; total time=   0.0s\n",
      "[CV] END .................C=50, gamma=0.0001, random_state=8; total time=   0.0s\n",
      "[CV] END .................C=50, gamma=0.0001, random_state=8; total time=   0.0s\n",
      "[CV] END .................C=50, gamma=0.0001, random_state=9; total time=   0.0s\n",
      "[CV] END .................C=50, gamma=0.0001, random_state=9; total time=   0.0s\n",
      "[CV] END .................C=50, gamma=0.0001, random_state=9; total time=   0.0s\n",
      "[CV] END ................C=50, gamma=0.0001, random_state=10; total time=   0.0s\n",
      "[CV] END ................C=50, gamma=0.0001, random_state=10; total time=   0.0s\n",
      "[CV] END ................C=50, gamma=0.0001, random_state=10; total time=   0.0s\n",
      "[CV] END ................C=50, gamma=0.0001, random_state=11; total time=   0.0s\n",
      "[CV] END ................C=50, gamma=0.0001, random_state=11; total time=   0.0s\n",
      "[CV] END ................C=50, gamma=0.0001, random_state=11; total time=   0.0s\n",
      "[CV] END ................C=50, gamma=0.0001, random_state=12; total time=   0.0s\n",
      "[CV] END ................C=50, gamma=0.0001, random_state=12; total time=   0.0s\n",
      "[CV] END ................C=50, gamma=0.0001, random_state=12; total time=   0.0s\n",
      "[CV] END ................C=50, gamma=0.0001, random_state=13; total time=   0.0s\n",
      "[CV] END ................C=50, gamma=0.0001, random_state=13; total time=   0.0s\n",
      "[CV] END ................C=50, gamma=0.0001, random_state=13; total time=   0.0s\n",
      "[CV] END ................C=50, gamma=0.0001, random_state=14; total time=   0.0s\n",
      "[CV] END ................C=50, gamma=0.0001, random_state=14; total time=   0.0s\n",
      "[CV] END ................C=50, gamma=0.0001, random_state=14; total time=   0.0s\n",
      "[CV] END ................C=50, gamma=0.0001, random_state=15; total time=   0.0s\n",
      "[CV] END ................C=50, gamma=0.0001, random_state=15; total time=   0.0s\n",
      "[CV] END ................C=50, gamma=0.0001, random_state=15; total time=   0.0s\n",
      "[CV] END ................C=50, gamma=0.0001, random_state=16; total time=   0.0s\n",
      "[CV] END ................C=50, gamma=0.0001, random_state=16; total time=   0.0s\n",
      "[CV] END ................C=50, gamma=0.0001, random_state=16; total time=   0.0s\n",
      "[CV] END ................C=50, gamma=0.0001, random_state=17; total time=   0.0s\n",
      "[CV] END ................C=50, gamma=0.0001, random_state=17; total time=   0.0s\n",
      "[CV] END ................C=50, gamma=0.0001, random_state=17; total time=   0.0s\n",
      "[CV] END ................C=50, gamma=0.0001, random_state=18; total time=   0.0s\n",
      "[CV] END ................C=50, gamma=0.0001, random_state=18; total time=   0.0s\n",
      "[CV] END ................C=50, gamma=0.0001, random_state=18; total time=   0.0s\n",
      "[CV] END ................C=50, gamma=0.0001, random_state=19; total time=   0.0s\n",
      "[CV] END ................C=50, gamma=0.0001, random_state=19; total time=   0.0s\n",
      "[CV] END ................C=50, gamma=0.0001, random_state=19; total time=   0.0s\n",
      "[CV] END ....................C=60, gamma=0.1, random_state=3; total time=   0.0s\n",
      "[CV] END ....................C=60, gamma=0.1, random_state=3; total time=   0.0s\n",
      "[CV] END ....................C=60, gamma=0.1, random_state=3; total time=   0.0s\n",
      "[CV] END ....................C=60, gamma=0.1, random_state=4; total time=   0.0s\n",
      "[CV] END ....................C=60, gamma=0.1, random_state=4; total time=   0.0s\n",
      "[CV] END ....................C=60, gamma=0.1, random_state=4; total time=   0.0s\n",
      "[CV] END ....................C=60, gamma=0.1, random_state=5; total time=   0.0s\n",
      "[CV] END ....................C=60, gamma=0.1, random_state=5; total time=   0.0s\n",
      "[CV] END ....................C=60, gamma=0.1, random_state=5; total time=   0.0s\n",
      "[CV] END ....................C=60, gamma=0.1, random_state=6; total time=   0.0s\n",
      "[CV] END ....................C=60, gamma=0.1, random_state=6; total time=   0.0s\n",
      "[CV] END ....................C=60, gamma=0.1, random_state=6; total time=   0.0s\n",
      "[CV] END ....................C=60, gamma=0.1, random_state=7; total time=   0.0s\n",
      "[CV] END ....................C=60, gamma=0.1, random_state=7; total time=   0.0s\n",
      "[CV] END ....................C=60, gamma=0.1, random_state=7; total time=   0.0s\n",
      "[CV] END ....................C=60, gamma=0.1, random_state=8; total time=   0.0s\n",
      "[CV] END ....................C=60, gamma=0.1, random_state=8; total time=   0.0s\n",
      "[CV] END ....................C=60, gamma=0.1, random_state=8; total time=   0.0s\n",
      "[CV] END ....................C=60, gamma=0.1, random_state=9; total time=   0.0s\n",
      "[CV] END ....................C=60, gamma=0.1, random_state=9; total time=   0.0s\n",
      "[CV] END ....................C=60, gamma=0.1, random_state=9; total time=   0.0s\n",
      "[CV] END ...................C=60, gamma=0.1, random_state=10; total time=   0.0s\n",
      "[CV] END ...................C=60, gamma=0.1, random_state=10; total time=   0.0s\n",
      "[CV] END ...................C=60, gamma=0.1, random_state=10; total time=   0.0s\n",
      "[CV] END ...................C=60, gamma=0.1, random_state=11; total time=   0.0s\n",
      "[CV] END ...................C=60, gamma=0.1, random_state=11; total time=   0.0s\n",
      "[CV] END ...................C=60, gamma=0.1, random_state=11; total time=   0.0s\n",
      "[CV] END ...................C=60, gamma=0.1, random_state=12; total time=   0.0s\n",
      "[CV] END ...................C=60, gamma=0.1, random_state=12; total time=   0.0s\n",
      "[CV] END ...................C=60, gamma=0.1, random_state=12; total time=   0.0s\n",
      "[CV] END ...................C=60, gamma=0.1, random_state=13; total time=   0.0s\n",
      "[CV] END ...................C=60, gamma=0.1, random_state=13; total time=   0.0s\n",
      "[CV] END ...................C=60, gamma=0.1, random_state=13; total time=   0.0s\n",
      "[CV] END ...................C=60, gamma=0.1, random_state=14; total time=   0.0s\n",
      "[CV] END ...................C=60, gamma=0.1, random_state=14; total time=   0.0s\n",
      "[CV] END ...................C=60, gamma=0.1, random_state=14; total time=   0.0s\n",
      "[CV] END ...................C=60, gamma=0.1, random_state=15; total time=   0.0s\n",
      "[CV] END ...................C=60, gamma=0.1, random_state=15; total time=   0.0s\n",
      "[CV] END ...................C=60, gamma=0.1, random_state=15; total time=   0.0s\n",
      "[CV] END ...................C=60, gamma=0.1, random_state=16; total time=   0.0s\n",
      "[CV] END ...................C=60, gamma=0.1, random_state=16; total time=   0.0s\n",
      "[CV] END ...................C=60, gamma=0.1, random_state=16; total time=   0.0s\n",
      "[CV] END ...................C=60, gamma=0.1, random_state=17; total time=   0.0s\n",
      "[CV] END ...................C=60, gamma=0.1, random_state=17; total time=   0.0s\n",
      "[CV] END ...................C=60, gamma=0.1, random_state=17; total time=   0.0s\n",
      "[CV] END ...................C=60, gamma=0.1, random_state=18; total time=   0.0s\n",
      "[CV] END ...................C=60, gamma=0.1, random_state=18; total time=   0.0s\n",
      "[CV] END ...................C=60, gamma=0.1, random_state=18; total time=   0.0s\n",
      "[CV] END ...................C=60, gamma=0.1, random_state=19; total time=   0.0s\n",
      "[CV] END ...................C=60, gamma=0.1, random_state=19; total time=   0.0s\n",
      "[CV] END ...................C=60, gamma=0.1, random_state=19; total time=   0.0s\n",
      "[CV] END ...................C=60, gamma=0.01, random_state=3; total time=   0.0s\n",
      "[CV] END ...................C=60, gamma=0.01, random_state=3; total time=   0.0s\n",
      "[CV] END ...................C=60, gamma=0.01, random_state=3; total time=   0.0s\n",
      "[CV] END ...................C=60, gamma=0.01, random_state=4; total time=   0.0s\n",
      "[CV] END ...................C=60, gamma=0.01, random_state=4; total time=   0.0s\n",
      "[CV] END ...................C=60, gamma=0.01, random_state=4; total time=   0.0s\n",
      "[CV] END ...................C=60, gamma=0.01, random_state=5; total time=   0.0s\n",
      "[CV] END ...................C=60, gamma=0.01, random_state=5; total time=   0.0s\n",
      "[CV] END ...................C=60, gamma=0.01, random_state=5; total time=   0.0s\n",
      "[CV] END ...................C=60, gamma=0.01, random_state=6; total time=   0.0s\n",
      "[CV] END ...................C=60, gamma=0.01, random_state=6; total time=   0.0s\n",
      "[CV] END ...................C=60, gamma=0.01, random_state=6; total time=   0.0s\n",
      "[CV] END ...................C=60, gamma=0.01, random_state=7; total time=   0.0s\n",
      "[CV] END ...................C=60, gamma=0.01, random_state=7; total time=   0.0s\n",
      "[CV] END ...................C=60, gamma=0.01, random_state=7; total time=   0.0s\n",
      "[CV] END ...................C=60, gamma=0.01, random_state=8; total time=   0.0s\n",
      "[CV] END ...................C=60, gamma=0.01, random_state=8; total time=   0.0s\n",
      "[CV] END ...................C=60, gamma=0.01, random_state=8; total time=   0.0s\n",
      "[CV] END ...................C=60, gamma=0.01, random_state=9; total time=   0.0s\n",
      "[CV] END ...................C=60, gamma=0.01, random_state=9; total time=   0.0s\n",
      "[CV] END ...................C=60, gamma=0.01, random_state=9; total time=   0.0s\n",
      "[CV] END ..................C=60, gamma=0.01, random_state=10; total time=   0.0s\n",
      "[CV] END ..................C=60, gamma=0.01, random_state=10; total time=   0.0s\n",
      "[CV] END ..................C=60, gamma=0.01, random_state=10; total time=   0.0s\n",
      "[CV] END ..................C=60, gamma=0.01, random_state=11; total time=   0.0s\n",
      "[CV] END ..................C=60, gamma=0.01, random_state=11; total time=   0.0s\n",
      "[CV] END ..................C=60, gamma=0.01, random_state=11; total time=   0.0s\n",
      "[CV] END ..................C=60, gamma=0.01, random_state=12; total time=   0.0s\n",
      "[CV] END ..................C=60, gamma=0.01, random_state=12; total time=   0.0s\n",
      "[CV] END ..................C=60, gamma=0.01, random_state=12; total time=   0.0s\n",
      "[CV] END ..................C=60, gamma=0.01, random_state=13; total time=   0.0s\n",
      "[CV] END ..................C=60, gamma=0.01, random_state=13; total time=   0.0s\n",
      "[CV] END ..................C=60, gamma=0.01, random_state=13; total time=   0.0s\n",
      "[CV] END ..................C=60, gamma=0.01, random_state=14; total time=   0.0s\n",
      "[CV] END ..................C=60, gamma=0.01, random_state=14; total time=   0.0s\n",
      "[CV] END ..................C=60, gamma=0.01, random_state=14; total time=   0.0s\n",
      "[CV] END ..................C=60, gamma=0.01, random_state=15; total time=   0.0s\n",
      "[CV] END ..................C=60, gamma=0.01, random_state=15; total time=   0.0s\n",
      "[CV] END ..................C=60, gamma=0.01, random_state=15; total time=   0.1s\n",
      "[CV] END ..................C=60, gamma=0.01, random_state=16; total time=   0.0s\n",
      "[CV] END ..................C=60, gamma=0.01, random_state=16; total time=   0.1s\n",
      "[CV] END ..................C=60, gamma=0.01, random_state=16; total time=   0.1s\n",
      "[CV] END ..................C=60, gamma=0.01, random_state=17; total time=   0.0s\n",
      "[CV] END ..................C=60, gamma=0.01, random_state=17; total time=   0.1s\n",
      "[CV] END ..................C=60, gamma=0.01, random_state=17; total time=   0.1s\n",
      "[CV] END ..................C=60, gamma=0.01, random_state=18; total time=   0.0s\n",
      "[CV] END ..................C=60, gamma=0.01, random_state=18; total time=   0.1s\n",
      "[CV] END ..................C=60, gamma=0.01, random_state=18; total time=   0.1s\n",
      "[CV] END ..................C=60, gamma=0.01, random_state=19; total time=   0.0s\n",
      "[CV] END ..................C=60, gamma=0.01, random_state=19; total time=   0.1s\n",
      "[CV] END ..................C=60, gamma=0.01, random_state=19; total time=   0.1s\n",
      "[CV] END ..................C=60, gamma=0.001, random_state=3; total time=   0.0s\n",
      "[CV] END ..................C=60, gamma=0.001, random_state=3; total time=   0.1s\n",
      "[CV] END ..................C=60, gamma=0.001, random_state=3; total time=   0.1s\n",
      "[CV] END ..................C=60, gamma=0.001, random_state=4; total time=   0.0s\n",
      "[CV] END ..................C=60, gamma=0.001, random_state=4; total time=   0.1s\n",
      "[CV] END ..................C=60, gamma=0.001, random_state=4; total time=   0.1s\n",
      "[CV] END ..................C=60, gamma=0.001, random_state=5; total time=   0.0s\n",
      "[CV] END ..................C=60, gamma=0.001, random_state=5; total time=   0.1s\n",
      "[CV] END ..................C=60, gamma=0.001, random_state=5; total time=   0.1s\n",
      "[CV] END ..................C=60, gamma=0.001, random_state=6; total time=   0.0s\n",
      "[CV] END ..................C=60, gamma=0.001, random_state=6; total time=   0.1s\n",
      "[CV] END ..................C=60, gamma=0.001, random_state=6; total time=   0.1s\n",
      "[CV] END ..................C=60, gamma=0.001, random_state=7; total time=   0.0s\n",
      "[CV] END ..................C=60, gamma=0.001, random_state=7; total time=   0.1s\n",
      "[CV] END ..................C=60, gamma=0.001, random_state=7; total time=   0.1s\n",
      "[CV] END ..................C=60, gamma=0.001, random_state=8; total time=   0.0s\n",
      "[CV] END ..................C=60, gamma=0.001, random_state=8; total time=   0.1s\n",
      "[CV] END ..................C=60, gamma=0.001, random_state=8; total time=   0.1s\n",
      "[CV] END ..................C=60, gamma=0.001, random_state=9; total time=   0.0s\n",
      "[CV] END ..................C=60, gamma=0.001, random_state=9; total time=   0.1s\n",
      "[CV] END ..................C=60, gamma=0.001, random_state=9; total time=   0.1s\n",
      "[CV] END .................C=60, gamma=0.001, random_state=10; total time=   0.0s\n",
      "[CV] END .................C=60, gamma=0.001, random_state=10; total time=   0.1s\n",
      "[CV] END .................C=60, gamma=0.001, random_state=10; total time=   0.1s\n",
      "[CV] END .................C=60, gamma=0.001, random_state=11; total time=   0.0s\n",
      "[CV] END .................C=60, gamma=0.001, random_state=11; total time=   0.1s\n",
      "[CV] END .................C=60, gamma=0.001, random_state=11; total time=   0.1s\n",
      "[CV] END .................C=60, gamma=0.001, random_state=12; total time=   0.0s\n",
      "[CV] END .................C=60, gamma=0.001, random_state=12; total time=   0.1s\n",
      "[CV] END .................C=60, gamma=0.001, random_state=12; total time=   0.1s\n",
      "[CV] END .................C=60, gamma=0.001, random_state=13; total time=   0.0s\n",
      "[CV] END .................C=60, gamma=0.001, random_state=13; total time=   0.1s\n",
      "[CV] END .................C=60, gamma=0.001, random_state=13; total time=   0.1s\n",
      "[CV] END .................C=60, gamma=0.001, random_state=14; total time=   0.0s\n",
      "[CV] END .................C=60, gamma=0.001, random_state=14; total time=   0.1s\n",
      "[CV] END .................C=60, gamma=0.001, random_state=14; total time=   0.1s\n",
      "[CV] END .................C=60, gamma=0.001, random_state=15; total time=   0.0s\n",
      "[CV] END .................C=60, gamma=0.001, random_state=15; total time=   0.1s\n",
      "[CV] END .................C=60, gamma=0.001, random_state=15; total time=   0.1s\n",
      "[CV] END .................C=60, gamma=0.001, random_state=16; total time=   0.0s\n",
      "[CV] END .................C=60, gamma=0.001, random_state=16; total time=   0.1s\n",
      "[CV] END .................C=60, gamma=0.001, random_state=16; total time=   0.1s\n",
      "[CV] END .................C=60, gamma=0.001, random_state=17; total time=   0.0s\n",
      "[CV] END .................C=60, gamma=0.001, random_state=17; total time=   0.1s\n",
      "[CV] END .................C=60, gamma=0.001, random_state=17; total time=   0.1s\n",
      "[CV] END .................C=60, gamma=0.001, random_state=18; total time=   0.0s\n",
      "[CV] END .................C=60, gamma=0.001, random_state=18; total time=   0.1s\n",
      "[CV] END .................C=60, gamma=0.001, random_state=18; total time=   0.0s\n",
      "[CV] END .................C=60, gamma=0.001, random_state=19; total time=   0.0s\n",
      "[CV] END .................C=60, gamma=0.001, random_state=19; total time=   0.0s\n",
      "[CV] END .................C=60, gamma=0.001, random_state=19; total time=   0.0s\n",
      "[CV] END .................C=60, gamma=0.0001, random_state=3; total time=   0.0s\n",
      "[CV] END .................C=60, gamma=0.0001, random_state=3; total time=   0.0s\n",
      "[CV] END .................C=60, gamma=0.0001, random_state=3; total time=   0.0s\n",
      "[CV] END .................C=60, gamma=0.0001, random_state=4; total time=   0.0s\n",
      "[CV] END .................C=60, gamma=0.0001, random_state=4; total time=   0.0s\n",
      "[CV] END .................C=60, gamma=0.0001, random_state=4; total time=   0.0s\n",
      "[CV] END .................C=60, gamma=0.0001, random_state=5; total time=   0.0s\n",
      "[CV] END .................C=60, gamma=0.0001, random_state=5; total time=   0.0s\n",
      "[CV] END .................C=60, gamma=0.0001, random_state=5; total time=   0.0s\n",
      "[CV] END .................C=60, gamma=0.0001, random_state=6; total time=   0.0s\n",
      "[CV] END .................C=60, gamma=0.0001, random_state=6; total time=   0.0s\n",
      "[CV] END .................C=60, gamma=0.0001, random_state=6; total time=   0.0s\n",
      "[CV] END .................C=60, gamma=0.0001, random_state=7; total time=   0.0s\n",
      "[CV] END .................C=60, gamma=0.0001, random_state=7; total time=   0.0s\n",
      "[CV] END .................C=60, gamma=0.0001, random_state=7; total time=   0.0s\n",
      "[CV] END .................C=60, gamma=0.0001, random_state=8; total time=   0.0s\n",
      "[CV] END .................C=60, gamma=0.0001, random_state=8; total time=   0.0s\n",
      "[CV] END .................C=60, gamma=0.0001, random_state=8; total time=   0.0s\n",
      "[CV] END .................C=60, gamma=0.0001, random_state=9; total time=   0.0s\n",
      "[CV] END .................C=60, gamma=0.0001, random_state=9; total time=   0.0s\n",
      "[CV] END .................C=60, gamma=0.0001, random_state=9; total time=   0.0s\n",
      "[CV] END ................C=60, gamma=0.0001, random_state=10; total time=   0.0s\n",
      "[CV] END ................C=60, gamma=0.0001, random_state=10; total time=   0.0s\n",
      "[CV] END ................C=60, gamma=0.0001, random_state=10; total time=   0.0s\n",
      "[CV] END ................C=60, gamma=0.0001, random_state=11; total time=   0.0s\n",
      "[CV] END ................C=60, gamma=0.0001, random_state=11; total time=   0.0s\n",
      "[CV] END ................C=60, gamma=0.0001, random_state=11; total time=   0.0s\n",
      "[CV] END ................C=60, gamma=0.0001, random_state=12; total time=   0.0s\n",
      "[CV] END ................C=60, gamma=0.0001, random_state=12; total time=   0.0s\n",
      "[CV] END ................C=60, gamma=0.0001, random_state=12; total time=   0.0s\n",
      "[CV] END ................C=60, gamma=0.0001, random_state=13; total time=   0.0s\n",
      "[CV] END ................C=60, gamma=0.0001, random_state=13; total time=   0.0s\n",
      "[CV] END ................C=60, gamma=0.0001, random_state=13; total time=   0.0s\n",
      "[CV] END ................C=60, gamma=0.0001, random_state=14; total time=   0.0s\n",
      "[CV] END ................C=60, gamma=0.0001, random_state=14; total time=   0.0s\n",
      "[CV] END ................C=60, gamma=0.0001, random_state=14; total time=   0.0s\n",
      "[CV] END ................C=60, gamma=0.0001, random_state=15; total time=   0.0s\n",
      "[CV] END ................C=60, gamma=0.0001, random_state=15; total time=   0.0s\n",
      "[CV] END ................C=60, gamma=0.0001, random_state=15; total time=   0.0s\n",
      "[CV] END ................C=60, gamma=0.0001, random_state=16; total time=   0.0s\n",
      "[CV] END ................C=60, gamma=0.0001, random_state=16; total time=   0.0s\n",
      "[CV] END ................C=60, gamma=0.0001, random_state=16; total time=   0.0s\n",
      "[CV] END ................C=60, gamma=0.0001, random_state=17; total time=   0.0s\n",
      "[CV] END ................C=60, gamma=0.0001, random_state=17; total time=   0.0s\n",
      "[CV] END ................C=60, gamma=0.0001, random_state=17; total time=   0.0s\n",
      "[CV] END ................C=60, gamma=0.0001, random_state=18; total time=   0.0s\n",
      "[CV] END ................C=60, gamma=0.0001, random_state=18; total time=   0.0s\n",
      "[CV] END ................C=60, gamma=0.0001, random_state=18; total time=   0.0s\n",
      "[CV] END ................C=60, gamma=0.0001, random_state=19; total time=   0.0s\n",
      "[CV] END ................C=60, gamma=0.0001, random_state=19; total time=   0.0s\n",
      "[CV] END ................C=60, gamma=0.0001, random_state=19; total time=   0.0s\n",
      "[CV] END ....................C=70, gamma=0.1, random_state=3; total time=   0.0s\n",
      "[CV] END ....................C=70, gamma=0.1, random_state=3; total time=   0.0s\n",
      "[CV] END ....................C=70, gamma=0.1, random_state=3; total time=   0.0s\n",
      "[CV] END ....................C=70, gamma=0.1, random_state=4; total time=   0.0s\n",
      "[CV] END ....................C=70, gamma=0.1, random_state=4; total time=   0.0s\n",
      "[CV] END ....................C=70, gamma=0.1, random_state=4; total time=   0.0s\n",
      "[CV] END ....................C=70, gamma=0.1, random_state=5; total time=   0.0s\n",
      "[CV] END ....................C=70, gamma=0.1, random_state=5; total time=   0.0s\n",
      "[CV] END ....................C=70, gamma=0.1, random_state=5; total time=   0.0s\n",
      "[CV] END ....................C=70, gamma=0.1, random_state=6; total time=   0.0s\n",
      "[CV] END ....................C=70, gamma=0.1, random_state=6; total time=   0.0s\n",
      "[CV] END ....................C=70, gamma=0.1, random_state=6; total time=   0.0s\n",
      "[CV] END ....................C=70, gamma=0.1, random_state=7; total time=   0.0s\n",
      "[CV] END ....................C=70, gamma=0.1, random_state=7; total time=   0.0s\n",
      "[CV] END ....................C=70, gamma=0.1, random_state=7; total time=   0.0s\n",
      "[CV] END ....................C=70, gamma=0.1, random_state=8; total time=   0.0s\n",
      "[CV] END ....................C=70, gamma=0.1, random_state=8; total time=   0.0s\n",
      "[CV] END ....................C=70, gamma=0.1, random_state=8; total time=   0.0s\n",
      "[CV] END ....................C=70, gamma=0.1, random_state=9; total time=   0.0s\n",
      "[CV] END ....................C=70, gamma=0.1, random_state=9; total time=   0.0s\n",
      "[CV] END ....................C=70, gamma=0.1, random_state=9; total time=   0.0s\n",
      "[CV] END ...................C=70, gamma=0.1, random_state=10; total time=   0.0s\n",
      "[CV] END ...................C=70, gamma=0.1, random_state=10; total time=   0.0s\n",
      "[CV] END ...................C=70, gamma=0.1, random_state=10; total time=   0.0s\n",
      "[CV] END ...................C=70, gamma=0.1, random_state=11; total time=   0.0s\n",
      "[CV] END ...................C=70, gamma=0.1, random_state=11; total time=   0.0s\n",
      "[CV] END ...................C=70, gamma=0.1, random_state=11; total time=   0.0s\n",
      "[CV] END ...................C=70, gamma=0.1, random_state=12; total time=   0.0s\n",
      "[CV] END ...................C=70, gamma=0.1, random_state=12; total time=   0.0s\n",
      "[CV] END ...................C=70, gamma=0.1, random_state=12; total time=   0.0s\n",
      "[CV] END ...................C=70, gamma=0.1, random_state=13; total time=   0.0s\n",
      "[CV] END ...................C=70, gamma=0.1, random_state=13; total time=   0.0s\n",
      "[CV] END ...................C=70, gamma=0.1, random_state=13; total time=   0.0s\n",
      "[CV] END ...................C=70, gamma=0.1, random_state=14; total time=   0.0s\n",
      "[CV] END ...................C=70, gamma=0.1, random_state=14; total time=   0.0s\n",
      "[CV] END ...................C=70, gamma=0.1, random_state=14; total time=   0.0s\n",
      "[CV] END ...................C=70, gamma=0.1, random_state=15; total time=   0.0s\n",
      "[CV] END ...................C=70, gamma=0.1, random_state=15; total time=   0.0s\n",
      "[CV] END ...................C=70, gamma=0.1, random_state=15; total time=   0.0s\n",
      "[CV] END ...................C=70, gamma=0.1, random_state=16; total time=   0.0s\n",
      "[CV] END ...................C=70, gamma=0.1, random_state=16; total time=   0.0s\n",
      "[CV] END ...................C=70, gamma=0.1, random_state=16; total time=   0.0s\n",
      "[CV] END ...................C=70, gamma=0.1, random_state=17; total time=   0.0s\n",
      "[CV] END ...................C=70, gamma=0.1, random_state=17; total time=   0.0s\n",
      "[CV] END ...................C=70, gamma=0.1, random_state=17; total time=   0.0s\n",
      "[CV] END ...................C=70, gamma=0.1, random_state=18; total time=   0.0s\n",
      "[CV] END ...................C=70, gamma=0.1, random_state=18; total time=   0.0s\n",
      "[CV] END ...................C=70, gamma=0.1, random_state=18; total time=   0.0s\n",
      "[CV] END ...................C=70, gamma=0.1, random_state=19; total time=   0.0s\n",
      "[CV] END ...................C=70, gamma=0.1, random_state=19; total time=   0.0s\n",
      "[CV] END ...................C=70, gamma=0.1, random_state=19; total time=   0.0s\n",
      "[CV] END ...................C=70, gamma=0.01, random_state=3; total time=   0.0s\n",
      "[CV] END ...................C=70, gamma=0.01, random_state=3; total time=   0.0s\n",
      "[CV] END ...................C=70, gamma=0.01, random_state=3; total time=   0.0s\n",
      "[CV] END ...................C=70, gamma=0.01, random_state=4; total time=   0.0s\n",
      "[CV] END ...................C=70, gamma=0.01, random_state=4; total time=   0.0s\n",
      "[CV] END ...................C=70, gamma=0.01, random_state=4; total time=   0.0s\n",
      "[CV] END ...................C=70, gamma=0.01, random_state=5; total time=   0.0s\n",
      "[CV] END ...................C=70, gamma=0.01, random_state=5; total time=   0.0s\n",
      "[CV] END ...................C=70, gamma=0.01, random_state=5; total time=   0.0s\n",
      "[CV] END ...................C=70, gamma=0.01, random_state=6; total time=   0.0s\n",
      "[CV] END ...................C=70, gamma=0.01, random_state=6; total time=   0.0s\n",
      "[CV] END ...................C=70, gamma=0.01, random_state=6; total time=   0.0s\n",
      "[CV] END ...................C=70, gamma=0.01, random_state=7; total time=   0.0s\n",
      "[CV] END ...................C=70, gamma=0.01, random_state=7; total time=   0.0s\n",
      "[CV] END ...................C=70, gamma=0.01, random_state=7; total time=   0.0s\n",
      "[CV] END ...................C=70, gamma=0.01, random_state=8; total time=   0.0s\n",
      "[CV] END ...................C=70, gamma=0.01, random_state=8; total time=   0.0s\n",
      "[CV] END ...................C=70, gamma=0.01, random_state=8; total time=   0.0s\n",
      "[CV] END ...................C=70, gamma=0.01, random_state=9; total time=   0.0s\n",
      "[CV] END ...................C=70, gamma=0.01, random_state=9; total time=   0.0s\n",
      "[CV] END ...................C=70, gamma=0.01, random_state=9; total time=   0.0s\n",
      "[CV] END ..................C=70, gamma=0.01, random_state=10; total time=   0.0s\n",
      "[CV] END ..................C=70, gamma=0.01, random_state=10; total time=   0.0s\n",
      "[CV] END ..................C=70, gamma=0.01, random_state=10; total time=   0.0s\n",
      "[CV] END ..................C=70, gamma=0.01, random_state=11; total time=   0.0s\n",
      "[CV] END ..................C=70, gamma=0.01, random_state=11; total time=   0.0s\n",
      "[CV] END ..................C=70, gamma=0.01, random_state=11; total time=   0.0s\n",
      "[CV] END ..................C=70, gamma=0.01, random_state=12; total time=   0.0s\n",
      "[CV] END ..................C=70, gamma=0.01, random_state=12; total time=   0.0s\n",
      "[CV] END ..................C=70, gamma=0.01, random_state=12; total time=   0.0s\n",
      "[CV] END ..................C=70, gamma=0.01, random_state=13; total time=   0.0s\n",
      "[CV] END ..................C=70, gamma=0.01, random_state=13; total time=   0.0s\n",
      "[CV] END ..................C=70, gamma=0.01, random_state=13; total time=   0.0s\n",
      "[CV] END ..................C=70, gamma=0.01, random_state=14; total time=   0.0s\n",
      "[CV] END ..................C=70, gamma=0.01, random_state=14; total time=   0.0s\n",
      "[CV] END ..................C=70, gamma=0.01, random_state=14; total time=   0.0s\n",
      "[CV] END ..................C=70, gamma=0.01, random_state=15; total time=   0.0s\n",
      "[CV] END ..................C=70, gamma=0.01, random_state=15; total time=   0.0s\n",
      "[CV] END ..................C=70, gamma=0.01, random_state=15; total time=   0.0s\n",
      "[CV] END ..................C=70, gamma=0.01, random_state=16; total time=   0.0s\n",
      "[CV] END ..................C=70, gamma=0.01, random_state=16; total time=   0.0s\n",
      "[CV] END ..................C=70, gamma=0.01, random_state=16; total time=   0.0s\n",
      "[CV] END ..................C=70, gamma=0.01, random_state=17; total time=   0.0s\n",
      "[CV] END ..................C=70, gamma=0.01, random_state=17; total time=   0.0s\n",
      "[CV] END ..................C=70, gamma=0.01, random_state=17; total time=   0.0s\n",
      "[CV] END ..................C=70, gamma=0.01, random_state=18; total time=   0.0s\n",
      "[CV] END ..................C=70, gamma=0.01, random_state=18; total time=   0.0s\n",
      "[CV] END ..................C=70, gamma=0.01, random_state=18; total time=   0.0s\n",
      "[CV] END ..................C=70, gamma=0.01, random_state=19; total time=   0.0s\n",
      "[CV] END ..................C=70, gamma=0.01, random_state=19; total time=   0.0s\n",
      "[CV] END ..................C=70, gamma=0.01, random_state=19; total time=   0.0s\n",
      "[CV] END ..................C=70, gamma=0.001, random_state=3; total time=   0.0s\n",
      "[CV] END ..................C=70, gamma=0.001, random_state=3; total time=   0.0s\n",
      "[CV] END ..................C=70, gamma=0.001, random_state=3; total time=   0.0s\n",
      "[CV] END ..................C=70, gamma=0.001, random_state=4; total time=   0.0s\n",
      "[CV] END ..................C=70, gamma=0.001, random_state=4; total time=   0.0s\n",
      "[CV] END ..................C=70, gamma=0.001, random_state=4; total time=   0.0s\n",
      "[CV] END ..................C=70, gamma=0.001, random_state=5; total time=   0.0s\n",
      "[CV] END ..................C=70, gamma=0.001, random_state=5; total time=   0.0s\n",
      "[CV] END ..................C=70, gamma=0.001, random_state=5; total time=   0.0s\n",
      "[CV] END ..................C=70, gamma=0.001, random_state=6; total time=   0.0s\n",
      "[CV] END ..................C=70, gamma=0.001, random_state=6; total time=   0.0s\n",
      "[CV] END ..................C=70, gamma=0.001, random_state=6; total time=   0.0s\n",
      "[CV] END ..................C=70, gamma=0.001, random_state=7; total time=   0.0s\n",
      "[CV] END ..................C=70, gamma=0.001, random_state=7; total time=   0.0s\n",
      "[CV] END ..................C=70, gamma=0.001, random_state=7; total time=   0.0s\n",
      "[CV] END ..................C=70, gamma=0.001, random_state=8; total time=   0.0s\n",
      "[CV] END ..................C=70, gamma=0.001, random_state=8; total time=   0.0s\n",
      "[CV] END ..................C=70, gamma=0.001, random_state=8; total time=   0.0s\n",
      "[CV] END ..................C=70, gamma=0.001, random_state=9; total time=   0.0s\n",
      "[CV] END ..................C=70, gamma=0.001, random_state=9; total time=   0.0s\n",
      "[CV] END ..................C=70, gamma=0.001, random_state=9; total time=   0.0s\n",
      "[CV] END .................C=70, gamma=0.001, random_state=10; total time=   0.0s\n",
      "[CV] END .................C=70, gamma=0.001, random_state=10; total time=   0.0s\n",
      "[CV] END .................C=70, gamma=0.001, random_state=10; total time=   0.0s\n",
      "[CV] END .................C=70, gamma=0.001, random_state=11; total time=   0.0s\n",
      "[CV] END .................C=70, gamma=0.001, random_state=11; total time=   0.0s\n",
      "[CV] END .................C=70, gamma=0.001, random_state=11; total time=   0.0s\n",
      "[CV] END .................C=70, gamma=0.001, random_state=12; total time=   0.0s\n",
      "[CV] END .................C=70, gamma=0.001, random_state=12; total time=   0.0s\n",
      "[CV] END .................C=70, gamma=0.001, random_state=12; total time=   0.0s\n",
      "[CV] END .................C=70, gamma=0.001, random_state=13; total time=   0.0s\n",
      "[CV] END .................C=70, gamma=0.001, random_state=13; total time=   0.1s\n",
      "[CV] END .................C=70, gamma=0.001, random_state=13; total time=   0.0s\n",
      "[CV] END .................C=70, gamma=0.001, random_state=14; total time=   0.0s\n",
      "[CV] END .................C=70, gamma=0.001, random_state=14; total time=   0.0s\n",
      "[CV] END .................C=70, gamma=0.001, random_state=14; total time=   0.0s\n",
      "[CV] END .................C=70, gamma=0.001, random_state=15; total time=   0.0s\n",
      "[CV] END .................C=70, gamma=0.001, random_state=15; total time=   0.0s\n",
      "[CV] END .................C=70, gamma=0.001, random_state=15; total time=   0.0s\n",
      "[CV] END .................C=70, gamma=0.001, random_state=16; total time=   0.0s\n",
      "[CV] END .................C=70, gamma=0.001, random_state=16; total time=   0.0s\n",
      "[CV] END .................C=70, gamma=0.001, random_state=16; total time=   0.0s\n",
      "[CV] END .................C=70, gamma=0.001, random_state=17; total time=   0.0s\n",
      "[CV] END .................C=70, gamma=0.001, random_state=17; total time=   0.0s\n",
      "[CV] END .................C=70, gamma=0.001, random_state=17; total time=   0.0s\n",
      "[CV] END .................C=70, gamma=0.001, random_state=18; total time=   0.0s\n",
      "[CV] END .................C=70, gamma=0.001, random_state=18; total time=   0.0s\n",
      "[CV] END .................C=70, gamma=0.001, random_state=18; total time=   0.0s\n",
      "[CV] END .................C=70, gamma=0.001, random_state=19; total time=   0.0s\n",
      "[CV] END .................C=70, gamma=0.001, random_state=19; total time=   0.0s\n",
      "[CV] END .................C=70, gamma=0.001, random_state=19; total time=   0.0s\n",
      "[CV] END .................C=70, gamma=0.0001, random_state=3; total time=   0.0s\n",
      "[CV] END .................C=70, gamma=0.0001, random_state=3; total time=   0.0s\n",
      "[CV] END .................C=70, gamma=0.0001, random_state=3; total time=   0.0s\n",
      "[CV] END .................C=70, gamma=0.0001, random_state=4; total time=   0.0s\n",
      "[CV] END .................C=70, gamma=0.0001, random_state=4; total time=   0.0s\n",
      "[CV] END .................C=70, gamma=0.0001, random_state=4; total time=   0.0s\n",
      "[CV] END .................C=70, gamma=0.0001, random_state=5; total time=   0.0s\n",
      "[CV] END .................C=70, gamma=0.0001, random_state=5; total time=   0.0s\n",
      "[CV] END .................C=70, gamma=0.0001, random_state=5; total time=   0.0s\n",
      "[CV] END .................C=70, gamma=0.0001, random_state=6; total time=   0.0s\n",
      "[CV] END .................C=70, gamma=0.0001, random_state=6; total time=   0.0s\n",
      "[CV] END .................C=70, gamma=0.0001, random_state=6; total time=   0.0s\n",
      "[CV] END .................C=70, gamma=0.0001, random_state=7; total time=   0.0s\n",
      "[CV] END .................C=70, gamma=0.0001, random_state=7; total time=   0.0s\n",
      "[CV] END .................C=70, gamma=0.0001, random_state=7; total time=   0.0s\n",
      "[CV] END .................C=70, gamma=0.0001, random_state=8; total time=   0.0s\n",
      "[CV] END .................C=70, gamma=0.0001, random_state=8; total time=   0.0s\n",
      "[CV] END .................C=70, gamma=0.0001, random_state=8; total time=   0.0s\n",
      "[CV] END .................C=70, gamma=0.0001, random_state=9; total time=   0.0s\n",
      "[CV] END .................C=70, gamma=0.0001, random_state=9; total time=   0.0s\n",
      "[CV] END .................C=70, gamma=0.0001, random_state=9; total time=   0.0s\n",
      "[CV] END ................C=70, gamma=0.0001, random_state=10; total time=   0.0s\n",
      "[CV] END ................C=70, gamma=0.0001, random_state=10; total time=   0.0s\n",
      "[CV] END ................C=70, gamma=0.0001, random_state=10; total time=   0.0s\n",
      "[CV] END ................C=70, gamma=0.0001, random_state=11; total time=   0.0s\n",
      "[CV] END ................C=70, gamma=0.0001, random_state=11; total time=   0.0s\n",
      "[CV] END ................C=70, gamma=0.0001, random_state=11; total time=   0.0s\n",
      "[CV] END ................C=70, gamma=0.0001, random_state=12; total time=   0.0s\n",
      "[CV] END ................C=70, gamma=0.0001, random_state=12; total time=   0.0s\n",
      "[CV] END ................C=70, gamma=0.0001, random_state=12; total time=   0.0s\n",
      "[CV] END ................C=70, gamma=0.0001, random_state=13; total time=   0.0s\n",
      "[CV] END ................C=70, gamma=0.0001, random_state=13; total time=   0.0s\n",
      "[CV] END ................C=70, gamma=0.0001, random_state=13; total time=   0.0s\n",
      "[CV] END ................C=70, gamma=0.0001, random_state=14; total time=   0.0s\n",
      "[CV] END ................C=70, gamma=0.0001, random_state=14; total time=   0.0s\n",
      "[CV] END ................C=70, gamma=0.0001, random_state=14; total time=   0.0s\n",
      "[CV] END ................C=70, gamma=0.0001, random_state=15; total time=   0.0s\n",
      "[CV] END ................C=70, gamma=0.0001, random_state=15; total time=   0.0s\n",
      "[CV] END ................C=70, gamma=0.0001, random_state=15; total time=   0.0s\n",
      "[CV] END ................C=70, gamma=0.0001, random_state=16; total time=   0.0s\n",
      "[CV] END ................C=70, gamma=0.0001, random_state=16; total time=   0.0s\n",
      "[CV] END ................C=70, gamma=0.0001, random_state=16; total time=   0.0s\n",
      "[CV] END ................C=70, gamma=0.0001, random_state=17; total time=   0.0s\n",
      "[CV] END ................C=70, gamma=0.0001, random_state=17; total time=   0.0s\n",
      "[CV] END ................C=70, gamma=0.0001, random_state=17; total time=   0.0s\n",
      "[CV] END ................C=70, gamma=0.0001, random_state=18; total time=   0.0s\n",
      "[CV] END ................C=70, gamma=0.0001, random_state=18; total time=   0.0s\n",
      "[CV] END ................C=70, gamma=0.0001, random_state=18; total time=   0.0s\n",
      "[CV] END ................C=70, gamma=0.0001, random_state=19; total time=   0.0s\n",
      "[CV] END ................C=70, gamma=0.0001, random_state=19; total time=   0.0s\n",
      "[CV] END ................C=70, gamma=0.0001, random_state=19; total time=   0.0s\n",
      "[CV] END ....................C=80, gamma=0.1, random_state=3; total time=   0.0s\n",
      "[CV] END ....................C=80, gamma=0.1, random_state=3; total time=   0.0s\n",
      "[CV] END ....................C=80, gamma=0.1, random_state=3; total time=   0.0s\n",
      "[CV] END ....................C=80, gamma=0.1, random_state=4; total time=   0.0s\n",
      "[CV] END ....................C=80, gamma=0.1, random_state=4; total time=   0.0s\n",
      "[CV] END ....................C=80, gamma=0.1, random_state=4; total time=   0.0s\n",
      "[CV] END ....................C=80, gamma=0.1, random_state=5; total time=   0.0s\n",
      "[CV] END ....................C=80, gamma=0.1, random_state=5; total time=   0.0s\n",
      "[CV] END ....................C=80, gamma=0.1, random_state=5; total time=   0.0s\n",
      "[CV] END ....................C=80, gamma=0.1, random_state=6; total time=   0.0s\n",
      "[CV] END ....................C=80, gamma=0.1, random_state=6; total time=   0.0s\n",
      "[CV] END ....................C=80, gamma=0.1, random_state=6; total time=   0.0s\n",
      "[CV] END ....................C=80, gamma=0.1, random_state=7; total time=   0.0s\n",
      "[CV] END ....................C=80, gamma=0.1, random_state=7; total time=   0.0s\n",
      "[CV] END ....................C=80, gamma=0.1, random_state=7; total time=   0.0s\n",
      "[CV] END ....................C=80, gamma=0.1, random_state=8; total time=   0.0s\n",
      "[CV] END ....................C=80, gamma=0.1, random_state=8; total time=   0.0s\n",
      "[CV] END ....................C=80, gamma=0.1, random_state=8; total time=   0.0s\n",
      "[CV] END ....................C=80, gamma=0.1, random_state=9; total time=   0.0s\n",
      "[CV] END ....................C=80, gamma=0.1, random_state=9; total time=   0.0s\n",
      "[CV] END ....................C=80, gamma=0.1, random_state=9; total time=   0.0s\n",
      "[CV] END ...................C=80, gamma=0.1, random_state=10; total time=   0.0s\n",
      "[CV] END ...................C=80, gamma=0.1, random_state=10; total time=   0.0s\n",
      "[CV] END ...................C=80, gamma=0.1, random_state=10; total time=   0.0s\n",
      "[CV] END ...................C=80, gamma=0.1, random_state=11; total time=   0.0s\n",
      "[CV] END ...................C=80, gamma=0.1, random_state=11; total time=   0.0s\n",
      "[CV] END ...................C=80, gamma=0.1, random_state=11; total time=   0.1s\n",
      "[CV] END ...................C=80, gamma=0.1, random_state=12; total time=   0.0s\n",
      "[CV] END ...................C=80, gamma=0.1, random_state=12; total time=   0.0s\n",
      "[CV] END ...................C=80, gamma=0.1, random_state=12; total time=   0.0s\n",
      "[CV] END ...................C=80, gamma=0.1, random_state=13; total time=   0.0s\n",
      "[CV] END ...................C=80, gamma=0.1, random_state=13; total time=   0.0s\n",
      "[CV] END ...................C=80, gamma=0.1, random_state=13; total time=   0.0s\n",
      "[CV] END ...................C=80, gamma=0.1, random_state=14; total time=   0.0s\n",
      "[CV] END ...................C=80, gamma=0.1, random_state=14; total time=   0.0s\n",
      "[CV] END ...................C=80, gamma=0.1, random_state=14; total time=   0.0s\n",
      "[CV] END ...................C=80, gamma=0.1, random_state=15; total time=   0.0s\n",
      "[CV] END ...................C=80, gamma=0.1, random_state=15; total time=   0.0s\n",
      "[CV] END ...................C=80, gamma=0.1, random_state=15; total time=   0.0s\n",
      "[CV] END ...................C=80, gamma=0.1, random_state=16; total time=   0.0s\n",
      "[CV] END ...................C=80, gamma=0.1, random_state=16; total time=   0.0s\n",
      "[CV] END ...................C=80, gamma=0.1, random_state=16; total time=   0.0s\n",
      "[CV] END ...................C=80, gamma=0.1, random_state=17; total time=   0.0s\n",
      "[CV] END ...................C=80, gamma=0.1, random_state=17; total time=   0.0s\n",
      "[CV] END ...................C=80, gamma=0.1, random_state=17; total time=   0.0s\n",
      "[CV] END ...................C=80, gamma=0.1, random_state=18; total time=   0.0s\n",
      "[CV] END ...................C=80, gamma=0.1, random_state=18; total time=   0.0s\n",
      "[CV] END ...................C=80, gamma=0.1, random_state=18; total time=   0.0s\n",
      "[CV] END ...................C=80, gamma=0.1, random_state=19; total time=   0.0s\n",
      "[CV] END ...................C=80, gamma=0.1, random_state=19; total time=   0.0s\n",
      "[CV] END ...................C=80, gamma=0.1, random_state=19; total time=   0.0s\n",
      "[CV] END ...................C=80, gamma=0.01, random_state=3; total time=   0.0s\n",
      "[CV] END ...................C=80, gamma=0.01, random_state=3; total time=   0.0s\n",
      "[CV] END ...................C=80, gamma=0.01, random_state=3; total time=   0.0s\n",
      "[CV] END ...................C=80, gamma=0.01, random_state=4; total time=   0.0s\n",
      "[CV] END ...................C=80, gamma=0.01, random_state=4; total time=   0.0s\n",
      "[CV] END ...................C=80, gamma=0.01, random_state=4; total time=   0.0s\n",
      "[CV] END ...................C=80, gamma=0.01, random_state=5; total time=   0.0s\n",
      "[CV] END ...................C=80, gamma=0.01, random_state=5; total time=   0.0s\n",
      "[CV] END ...................C=80, gamma=0.01, random_state=5; total time=   0.0s\n",
      "[CV] END ...................C=80, gamma=0.01, random_state=6; total time=   0.0s\n",
      "[CV] END ...................C=80, gamma=0.01, random_state=6; total time=   0.0s\n",
      "[CV] END ...................C=80, gamma=0.01, random_state=6; total time=   0.0s\n",
      "[CV] END ...................C=80, gamma=0.01, random_state=7; total time=   0.0s\n",
      "[CV] END ...................C=80, gamma=0.01, random_state=7; total time=   0.0s\n",
      "[CV] END ...................C=80, gamma=0.01, random_state=7; total time=   0.1s\n",
      "[CV] END ...................C=80, gamma=0.01, random_state=8; total time=   0.0s\n",
      "[CV] END ...................C=80, gamma=0.01, random_state=8; total time=   0.0s\n",
      "[CV] END ...................C=80, gamma=0.01, random_state=8; total time=   0.0s\n",
      "[CV] END ...................C=80, gamma=0.01, random_state=9; total time=   0.0s\n",
      "[CV] END ...................C=80, gamma=0.01, random_state=9; total time=   0.0s\n",
      "[CV] END ...................C=80, gamma=0.01, random_state=9; total time=   0.0s\n",
      "[CV] END ..................C=80, gamma=0.01, random_state=10; total time=   0.0s\n",
      "[CV] END ..................C=80, gamma=0.01, random_state=10; total time=   0.0s\n",
      "[CV] END ..................C=80, gamma=0.01, random_state=10; total time=   0.0s\n",
      "[CV] END ..................C=80, gamma=0.01, random_state=11; total time=   0.0s\n",
      "[CV] END ..................C=80, gamma=0.01, random_state=11; total time=   0.0s\n",
      "[CV] END ..................C=80, gamma=0.01, random_state=11; total time=   0.0s\n",
      "[CV] END ..................C=80, gamma=0.01, random_state=12; total time=   0.0s\n",
      "[CV] END ..................C=80, gamma=0.01, random_state=12; total time=   0.1s\n",
      "[CV] END ..................C=80, gamma=0.01, random_state=12; total time=   0.1s\n",
      "[CV] END ..................C=80, gamma=0.01, random_state=13; total time=   0.0s\n",
      "[CV] END ..................C=80, gamma=0.01, random_state=13; total time=   0.1s\n",
      "[CV] END ..................C=80, gamma=0.01, random_state=13; total time=   0.1s\n",
      "[CV] END ..................C=80, gamma=0.01, random_state=14; total time=   0.0s\n",
      "[CV] END ..................C=80, gamma=0.01, random_state=14; total time=   0.1s\n",
      "[CV] END ..................C=80, gamma=0.01, random_state=14; total time=   0.1s\n",
      "[CV] END ..................C=80, gamma=0.01, random_state=15; total time=   0.0s\n",
      "[CV] END ..................C=80, gamma=0.01, random_state=15; total time=   0.1s\n",
      "[CV] END ..................C=80, gamma=0.01, random_state=15; total time=   0.1s\n",
      "[CV] END ..................C=80, gamma=0.01, random_state=16; total time=   0.0s\n",
      "[CV] END ..................C=80, gamma=0.01, random_state=16; total time=   0.1s\n",
      "[CV] END ..................C=80, gamma=0.01, random_state=16; total time=   0.1s\n",
      "[CV] END ..................C=80, gamma=0.01, random_state=17; total time=   0.0s\n",
      "[CV] END ..................C=80, gamma=0.01, random_state=17; total time=   0.1s\n",
      "[CV] END ..................C=80, gamma=0.01, random_state=17; total time=   0.1s\n",
      "[CV] END ..................C=80, gamma=0.01, random_state=18; total time=   0.0s\n",
      "[CV] END ..................C=80, gamma=0.01, random_state=18; total time=   0.1s\n",
      "[CV] END ..................C=80, gamma=0.01, random_state=18; total time=   0.1s\n",
      "[CV] END ..................C=80, gamma=0.01, random_state=19; total time=   0.0s\n",
      "[CV] END ..................C=80, gamma=0.01, random_state=19; total time=   0.1s\n",
      "[CV] END ..................C=80, gamma=0.01, random_state=19; total time=   0.1s\n",
      "[CV] END ..................C=80, gamma=0.001, random_state=3; total time=   0.0s\n",
      "[CV] END ..................C=80, gamma=0.001, random_state=3; total time=   0.1s\n",
      "[CV] END ..................C=80, gamma=0.001, random_state=3; total time=   0.1s\n",
      "[CV] END ..................C=80, gamma=0.001, random_state=4; total time=   0.0s\n",
      "[CV] END ..................C=80, gamma=0.001, random_state=4; total time=   0.1s\n",
      "[CV] END ..................C=80, gamma=0.001, random_state=4; total time=   0.1s\n",
      "[CV] END ..................C=80, gamma=0.001, random_state=5; total time=   0.0s\n",
      "[CV] END ..................C=80, gamma=0.001, random_state=5; total time=   0.1s\n",
      "[CV] END ..................C=80, gamma=0.001, random_state=5; total time=   0.1s\n",
      "[CV] END ..................C=80, gamma=0.001, random_state=6; total time=   0.0s\n",
      "[CV] END ..................C=80, gamma=0.001, random_state=6; total time=   0.1s\n",
      "[CV] END ..................C=80, gamma=0.001, random_state=6; total time=   0.1s\n",
      "[CV] END ..................C=80, gamma=0.001, random_state=7; total time=   0.0s\n",
      "[CV] END ..................C=80, gamma=0.001, random_state=7; total time=   0.1s\n",
      "[CV] END ..................C=80, gamma=0.001, random_state=7; total time=   0.1s\n",
      "[CV] END ..................C=80, gamma=0.001, random_state=8; total time=   0.0s\n",
      "[CV] END ..................C=80, gamma=0.001, random_state=8; total time=   0.1s\n",
      "[CV] END ..................C=80, gamma=0.001, random_state=8; total time=   0.1s\n",
      "[CV] END ..................C=80, gamma=0.001, random_state=9; total time=   0.0s\n",
      "[CV] END ..................C=80, gamma=0.001, random_state=9; total time=   0.1s\n",
      "[CV] END ..................C=80, gamma=0.001, random_state=9; total time=   0.1s\n",
      "[CV] END .................C=80, gamma=0.001, random_state=10; total time=   0.0s\n",
      "[CV] END .................C=80, gamma=0.001, random_state=10; total time=   0.1s\n",
      "[CV] END .................C=80, gamma=0.001, random_state=10; total time=   0.1s\n",
      "[CV] END .................C=80, gamma=0.001, random_state=11; total time=   0.0s\n",
      "[CV] END .................C=80, gamma=0.001, random_state=11; total time=   0.1s\n",
      "[CV] END .................C=80, gamma=0.001, random_state=11; total time=   0.1s\n",
      "[CV] END .................C=80, gamma=0.001, random_state=12; total time=   0.0s\n",
      "[CV] END .................C=80, gamma=0.001, random_state=12; total time=   0.1s\n",
      "[CV] END .................C=80, gamma=0.001, random_state=12; total time=   0.1s\n",
      "[CV] END .................C=80, gamma=0.001, random_state=13; total time=   0.0s\n",
      "[CV] END .................C=80, gamma=0.001, random_state=13; total time=   0.1s\n",
      "[CV] END .................C=80, gamma=0.001, random_state=13; total time=   0.1s\n",
      "[CV] END .................C=80, gamma=0.001, random_state=14; total time=   0.0s\n",
      "[CV] END .................C=80, gamma=0.001, random_state=14; total time=   0.0s\n",
      "[CV] END .................C=80, gamma=0.001, random_state=14; total time=   0.0s\n",
      "[CV] END .................C=80, gamma=0.001, random_state=15; total time=   0.0s\n",
      "[CV] END .................C=80, gamma=0.001, random_state=15; total time=   0.0s\n",
      "[CV] END .................C=80, gamma=0.001, random_state=15; total time=   0.0s\n",
      "[CV] END .................C=80, gamma=0.001, random_state=16; total time=   0.0s\n",
      "[CV] END .................C=80, gamma=0.001, random_state=16; total time=   0.0s\n",
      "[CV] END .................C=80, gamma=0.001, random_state=16; total time=   0.0s\n",
      "[CV] END .................C=80, gamma=0.001, random_state=17; total time=   0.0s\n",
      "[CV] END .................C=80, gamma=0.001, random_state=17; total time=   0.0s\n",
      "[CV] END .................C=80, gamma=0.001, random_state=17; total time=   0.0s\n",
      "[CV] END .................C=80, gamma=0.001, random_state=18; total time=   0.0s\n",
      "[CV] END .................C=80, gamma=0.001, random_state=18; total time=   0.0s\n",
      "[CV] END .................C=80, gamma=0.001, random_state=18; total time=   0.0s\n",
      "[CV] END .................C=80, gamma=0.001, random_state=19; total time=   0.0s\n",
      "[CV] END .................C=80, gamma=0.001, random_state=19; total time=   0.0s\n",
      "[CV] END .................C=80, gamma=0.001, random_state=19; total time=   0.0s\n",
      "[CV] END .................C=80, gamma=0.0001, random_state=3; total time=   0.0s\n",
      "[CV] END .................C=80, gamma=0.0001, random_state=3; total time=   0.0s\n",
      "[CV] END .................C=80, gamma=0.0001, random_state=3; total time=   0.0s\n",
      "[CV] END .................C=80, gamma=0.0001, random_state=4; total time=   0.0s\n",
      "[CV] END .................C=80, gamma=0.0001, random_state=4; total time=   0.0s\n",
      "[CV] END .................C=80, gamma=0.0001, random_state=4; total time=   0.0s\n",
      "[CV] END .................C=80, gamma=0.0001, random_state=5; total time=   0.0s\n",
      "[CV] END .................C=80, gamma=0.0001, random_state=5; total time=   0.0s\n",
      "[CV] END .................C=80, gamma=0.0001, random_state=5; total time=   0.0s\n",
      "[CV] END .................C=80, gamma=0.0001, random_state=6; total time=   0.0s\n",
      "[CV] END .................C=80, gamma=0.0001, random_state=6; total time=   0.0s\n",
      "[CV] END .................C=80, gamma=0.0001, random_state=6; total time=   0.0s\n",
      "[CV] END .................C=80, gamma=0.0001, random_state=7; total time=   0.0s\n",
      "[CV] END .................C=80, gamma=0.0001, random_state=7; total time=   0.0s\n",
      "[CV] END .................C=80, gamma=0.0001, random_state=7; total time=   0.0s\n",
      "[CV] END .................C=80, gamma=0.0001, random_state=8; total time=   0.0s\n",
      "[CV] END .................C=80, gamma=0.0001, random_state=8; total time=   0.0s\n",
      "[CV] END .................C=80, gamma=0.0001, random_state=8; total time=   0.0s\n",
      "[CV] END .................C=80, gamma=0.0001, random_state=9; total time=   0.0s\n",
      "[CV] END .................C=80, gamma=0.0001, random_state=9; total time=   0.0s\n",
      "[CV] END .................C=80, gamma=0.0001, random_state=9; total time=   0.0s\n",
      "[CV] END ................C=80, gamma=0.0001, random_state=10; total time=   0.0s\n",
      "[CV] END ................C=80, gamma=0.0001, random_state=10; total time=   0.0s\n",
      "[CV] END ................C=80, gamma=0.0001, random_state=10; total time=   0.0s\n",
      "[CV] END ................C=80, gamma=0.0001, random_state=11; total time=   0.0s\n",
      "[CV] END ................C=80, gamma=0.0001, random_state=11; total time=   0.0s\n",
      "[CV] END ................C=80, gamma=0.0001, random_state=11; total time=   0.0s\n",
      "[CV] END ................C=80, gamma=0.0001, random_state=12; total time=   0.0s\n",
      "[CV] END ................C=80, gamma=0.0001, random_state=12; total time=   0.0s\n",
      "[CV] END ................C=80, gamma=0.0001, random_state=12; total time=   0.0s\n",
      "[CV] END ................C=80, gamma=0.0001, random_state=13; total time=   0.0s\n",
      "[CV] END ................C=80, gamma=0.0001, random_state=13; total time=   0.0s\n",
      "[CV] END ................C=80, gamma=0.0001, random_state=13; total time=   0.0s\n",
      "[CV] END ................C=80, gamma=0.0001, random_state=14; total time=   0.0s\n",
      "[CV] END ................C=80, gamma=0.0001, random_state=14; total time=   0.0s\n",
      "[CV] END ................C=80, gamma=0.0001, random_state=14; total time=   0.0s\n",
      "[CV] END ................C=80, gamma=0.0001, random_state=15; total time=   0.0s\n",
      "[CV] END ................C=80, gamma=0.0001, random_state=15; total time=   0.0s\n",
      "[CV] END ................C=80, gamma=0.0001, random_state=15; total time=   0.0s\n",
      "[CV] END ................C=80, gamma=0.0001, random_state=16; total time=   0.0s\n",
      "[CV] END ................C=80, gamma=0.0001, random_state=16; total time=   0.0s\n",
      "[CV] END ................C=80, gamma=0.0001, random_state=16; total time=   0.0s\n",
      "[CV] END ................C=80, gamma=0.0001, random_state=17; total time=   0.0s\n",
      "[CV] END ................C=80, gamma=0.0001, random_state=17; total time=   0.0s\n",
      "[CV] END ................C=80, gamma=0.0001, random_state=17; total time=   0.0s\n",
      "[CV] END ................C=80, gamma=0.0001, random_state=18; total time=   0.0s\n",
      "[CV] END ................C=80, gamma=0.0001, random_state=18; total time=   0.0s\n",
      "[CV] END ................C=80, gamma=0.0001, random_state=18; total time=   0.0s\n",
      "[CV] END ................C=80, gamma=0.0001, random_state=19; total time=   0.0s\n",
      "[CV] END ................C=80, gamma=0.0001, random_state=19; total time=   0.0s\n",
      "[CV] END ................C=80, gamma=0.0001, random_state=19; total time=   0.0s\n"
     ]
    },
    {
     "data": {
      "text/html": [
       "<style>#sk-container-id-5 {color: black;background-color: white;}#sk-container-id-5 pre{padding: 0;}#sk-container-id-5 div.sk-toggleable {background-color: white;}#sk-container-id-5 label.sk-toggleable__label {cursor: pointer;display: block;width: 100%;margin-bottom: 0;padding: 0.3em;box-sizing: border-box;text-align: center;}#sk-container-id-5 label.sk-toggleable__label-arrow:before {content: \"▸\";float: left;margin-right: 0.25em;color: #696969;}#sk-container-id-5 label.sk-toggleable__label-arrow:hover:before {color: black;}#sk-container-id-5 div.sk-estimator:hover label.sk-toggleable__label-arrow:before {color: black;}#sk-container-id-5 div.sk-toggleable__content {max-height: 0;max-width: 0;overflow: hidden;text-align: left;background-color: #f0f8ff;}#sk-container-id-5 div.sk-toggleable__content pre {margin: 0.2em;color: black;border-radius: 0.25em;background-color: #f0f8ff;}#sk-container-id-5 input.sk-toggleable__control:checked~div.sk-toggleable__content {max-height: 200px;max-width: 100%;overflow: auto;}#sk-container-id-5 input.sk-toggleable__control:checked~label.sk-toggleable__label-arrow:before {content: \"▾\";}#sk-container-id-5 div.sk-estimator input.sk-toggleable__control:checked~label.sk-toggleable__label {background-color: #d4ebff;}#sk-container-id-5 div.sk-label input.sk-toggleable__control:checked~label.sk-toggleable__label {background-color: #d4ebff;}#sk-container-id-5 input.sk-hidden--visually {border: 0;clip: rect(1px 1px 1px 1px);clip: rect(1px, 1px, 1px, 1px);height: 1px;margin: -1px;overflow: hidden;padding: 0;position: absolute;width: 1px;}#sk-container-id-5 div.sk-estimator {font-family: monospace;background-color: #f0f8ff;border: 1px dotted black;border-radius: 0.25em;box-sizing: border-box;margin-bottom: 0.5em;}#sk-container-id-5 div.sk-estimator:hover {background-color: #d4ebff;}#sk-container-id-5 div.sk-parallel-item::after {content: \"\";width: 100%;border-bottom: 1px solid gray;flex-grow: 1;}#sk-container-id-5 div.sk-label:hover label.sk-toggleable__label {background-color: #d4ebff;}#sk-container-id-5 div.sk-serial::before {content: \"\";position: absolute;border-left: 1px solid gray;box-sizing: border-box;top: 0;bottom: 0;left: 50%;z-index: 0;}#sk-container-id-5 div.sk-serial {display: flex;flex-direction: column;align-items: center;background-color: white;padding-right: 0.2em;padding-left: 0.2em;position: relative;}#sk-container-id-5 div.sk-item {position: relative;z-index: 1;}#sk-container-id-5 div.sk-parallel {display: flex;align-items: stretch;justify-content: center;background-color: white;position: relative;}#sk-container-id-5 div.sk-item::before, #sk-container-id-5 div.sk-parallel-item::before {content: \"\";position: absolute;border-left: 1px solid gray;box-sizing: border-box;top: 0;bottom: 0;left: 50%;z-index: -1;}#sk-container-id-5 div.sk-parallel-item {display: flex;flex-direction: column;z-index: 1;position: relative;background-color: white;}#sk-container-id-5 div.sk-parallel-item:first-child::after {align-self: flex-end;width: 50%;}#sk-container-id-5 div.sk-parallel-item:last-child::after {align-self: flex-start;width: 50%;}#sk-container-id-5 div.sk-parallel-item:only-child::after {width: 0;}#sk-container-id-5 div.sk-dashed-wrapped {border: 1px dashed gray;margin: 0 0.4em 0.5em 0.4em;box-sizing: border-box;padding-bottom: 0.4em;background-color: white;}#sk-container-id-5 div.sk-label label {font-family: monospace;font-weight: bold;display: inline-block;line-height: 1.2em;}#sk-container-id-5 div.sk-label-container {text-align: center;}#sk-container-id-5 div.sk-container {/* jupyter's `normalize.less` sets `[hidden] { display: none; }` but bootstrap.min.css set `[hidden] { display: none !important; }` so we also need the `!important` here to be able to override the default hidden behavior on the sphinx rendered scikit-learn.org. See: https://github.com/scikit-learn/scikit-learn/issues/21755 */display: inline-block !important;position: relative;}#sk-container-id-5 div.sk-text-repr-fallback {display: none;}</style><div id=\"sk-container-id-5\" class=\"sk-top-container\"><div class=\"sk-text-repr-fallback\"><pre>GridSearchCV(cv=3, estimator=SVC(),\n",
       "             param_grid={&#x27;C&#x27;: [50, 60, 70, 80],\n",
       "                         &#x27;gamma&#x27;: [0.1, 0.01, 0.001, 0.0001],\n",
       "                         &#x27;random_state&#x27;: [3, 4, 5, 6, 7, 8, 9, 10, 11, 12, 13,\n",
       "                                          14, 15, 16, 17, 18, 19]},\n",
       "             scoring=&#x27;f1&#x27;, verbose=2)</pre><b>In a Jupyter environment, please rerun this cell to show the HTML representation or trust the notebook. <br />On GitHub, the HTML representation is unable to render, please try loading this page with nbviewer.org.</b></div><div class=\"sk-container\" hidden><div class=\"sk-item sk-dashed-wrapped\"><div class=\"sk-label-container\"><div class=\"sk-label sk-toggleable\"><input class=\"sk-toggleable__control sk-hidden--visually\" id=\"sk-estimator-id-7\" type=\"checkbox\" ><label for=\"sk-estimator-id-7\" class=\"sk-toggleable__label sk-toggleable__label-arrow\">GridSearchCV</label><div class=\"sk-toggleable__content\"><pre>GridSearchCV(cv=3, estimator=SVC(),\n",
       "             param_grid={&#x27;C&#x27;: [50, 60, 70, 80],\n",
       "                         &#x27;gamma&#x27;: [0.1, 0.01, 0.001, 0.0001],\n",
       "                         &#x27;random_state&#x27;: [3, 4, 5, 6, 7, 8, 9, 10, 11, 12, 13,\n",
       "                                          14, 15, 16, 17, 18, 19]},\n",
       "             scoring=&#x27;f1&#x27;, verbose=2)</pre></div></div></div><div class=\"sk-parallel\"><div class=\"sk-parallel-item\"><div class=\"sk-item\"><div class=\"sk-label-container\"><div class=\"sk-label sk-toggleable\"><input class=\"sk-toggleable__control sk-hidden--visually\" id=\"sk-estimator-id-8\" type=\"checkbox\" ><label for=\"sk-estimator-id-8\" class=\"sk-toggleable__label sk-toggleable__label-arrow\">estimator: SVC</label><div class=\"sk-toggleable__content\"><pre>SVC()</pre></div></div></div><div class=\"sk-serial\"><div class=\"sk-item\"><div class=\"sk-estimator sk-toggleable\"><input class=\"sk-toggleable__control sk-hidden--visually\" id=\"sk-estimator-id-9\" type=\"checkbox\" ><label for=\"sk-estimator-id-9\" class=\"sk-toggleable__label sk-toggleable__label-arrow\">SVC</label><div class=\"sk-toggleable__content\"><pre>SVC()</pre></div></div></div></div></div></div></div></div></div></div>"
      ],
      "text/plain": [
       "GridSearchCV(cv=3, estimator=SVC(),\n",
       "             param_grid={'C': [50, 60, 70, 80],\n",
       "                         'gamma': [0.1, 0.01, 0.001, 0.0001],\n",
       "                         'random_state': [3, 4, 5, 6, 7, 8, 9, 10, 11, 12, 13,\n",
       "                                          14, 15, 16, 17, 18, 19]},\n",
       "             scoring='f1', verbose=2)"
      ]
     },
     "execution_count": 77,
     "metadata": {},
     "output_type": "execute_result"
    }
   ],
   "source": [
    "from sklearn.model_selection import GridSearchCV\n",
    "param_grid={'C':[50,60,70,80],'gamma':[0.1,0.01,0.001,0.0001],'random_state':list(range(3,20))}\n",
    "\n",
    "grid=GridSearchCV(svclassifier,param_grid,verbose=2,scoring='f1',cv=3)\n",
    "grid.fit(x,y)\n"
   ]
  },
  {
   "cell_type": "code",
   "execution_count": 78,
   "metadata": {
    "colab": {
     "base_uri": "https://localhost:8080/"
    },
    "id": "wlIQ10n96YkA",
    "outputId": "b775c164-c186-4c3f-aba2-ae98151ca328"
   },
   "outputs": [
    {
     "name": "stdout",
     "output_type": "stream",
     "text": [
      "{'C': 50, 'gamma': 0.01, 'random_state': 3}\n"
     ]
    }
   ],
   "source": [
    "print(grid.best_params_)"
   ]
  },
  {
   "cell_type": "code",
   "execution_count": 80,
   "metadata": {
    "id": "6rHepR1O6bu3"
   },
   "outputs": [],
   "source": [
    "svclassifier=SVC(C=50,gamma=0.01,random_state=3)\n",
    "svclassifier.fit(x_smote,y_smote)\n",
    "y_pred=svclassifier.predict(x_test)"
   ]
  },
  {
   "cell_type": "code",
   "execution_count": 81,
   "metadata": {
    "colab": {
     "base_uri": "https://localhost:8080/"
    },
    "id": "GeC1wanW7ruC",
    "outputId": "dd103551-b013-4e6c-f6d6-12431bc82406"
   },
   "outputs": [
    {
     "data": {
      "text/plain": [
       "0.8951841359773371"
      ]
     },
     "execution_count": 81,
     "metadata": {},
     "output_type": "execute_result"
    }
   ],
   "source": [
    "accuracy_score(y_test,y_pred)"
   ]
  },
  {
   "cell_type": "code",
   "execution_count": 82,
   "metadata": {
    "colab": {
     "base_uri": "https://localhost:8080/",
     "height": 143
    },
    "id": "BQ95UE5f7zWV",
    "outputId": "9c04c706-52b2-4987-c208-5c0586667a12"
   },
   "outputs": [
    {
     "data": {
      "text/html": [
       "\n",
       "  <div id=\"df-0c43a7da-b5f9-49d3-beab-cc0582eb98b3\" class=\"colab-df-container\">\n",
       "    <div>\n",
       "<style scoped>\n",
       "    .dataframe tbody tr th:only-of-type {\n",
       "        vertical-align: middle;\n",
       "    }\n",
       "\n",
       "    .dataframe tbody tr th {\n",
       "        vertical-align: top;\n",
       "    }\n",
       "\n",
       "    .dataframe thead th {\n",
       "        text-align: right;\n",
       "    }\n",
       "</style>\n",
       "<table border=\"1\" class=\"dataframe\">\n",
       "  <thead>\n",
       "    <tr style=\"text-align: right;\">\n",
       "      <th>col_0</th>\n",
       "      <th>0</th>\n",
       "      <th>1</th>\n",
       "    </tr>\n",
       "    <tr>\n",
       "      <th>prefer</th>\n",
       "      <th></th>\n",
       "      <th></th>\n",
       "    </tr>\n",
       "  </thead>\n",
       "  <tbody>\n",
       "    <tr>\n",
       "      <th>0</th>\n",
       "      <td>243</td>\n",
       "      <td>16</td>\n",
       "    </tr>\n",
       "    <tr>\n",
       "      <th>1</th>\n",
       "      <td>21</td>\n",
       "      <td>73</td>\n",
       "    </tr>\n",
       "  </tbody>\n",
       "</table>\n",
       "</div>\n",
       "    <div class=\"colab-df-buttons\">\n",
       "\n",
       "  <div class=\"colab-df-container\">\n",
       "    <button class=\"colab-df-convert\" onclick=\"convertToInteractive('df-0c43a7da-b5f9-49d3-beab-cc0582eb98b3')\"\n",
       "            title=\"Convert this dataframe to an interactive table.\"\n",
       "            style=\"display:none;\">\n",
       "\n",
       "  <svg xmlns=\"http://www.w3.org/2000/svg\" height=\"24px\" viewBox=\"0 -960 960 960\">\n",
       "    <path d=\"M120-120v-720h720v720H120Zm60-500h600v-160H180v160Zm220 220h160v-160H400v160Zm0 220h160v-160H400v160ZM180-400h160v-160H180v160Zm440 0h160v-160H620v160ZM180-180h160v-160H180v160Zm440 0h160v-160H620v160Z\"/>\n",
       "  </svg>\n",
       "    </button>\n",
       "\n",
       "  <style>\n",
       "    .colab-df-container {\n",
       "      display:flex;\n",
       "      gap: 12px;\n",
       "    }\n",
       "\n",
       "    .colab-df-convert {\n",
       "      background-color: #E8F0FE;\n",
       "      border: none;\n",
       "      border-radius: 50%;\n",
       "      cursor: pointer;\n",
       "      display: none;\n",
       "      fill: #1967D2;\n",
       "      height: 32px;\n",
       "      padding: 0 0 0 0;\n",
       "      width: 32px;\n",
       "    }\n",
       "\n",
       "    .colab-df-convert:hover {\n",
       "      background-color: #E2EBFA;\n",
       "      box-shadow: 0px 1px 2px rgba(60, 64, 67, 0.3), 0px 1px 3px 1px rgba(60, 64, 67, 0.15);\n",
       "      fill: #174EA6;\n",
       "    }\n",
       "\n",
       "    .colab-df-buttons div {\n",
       "      margin-bottom: 4px;\n",
       "    }\n",
       "\n",
       "    [theme=dark] .colab-df-convert {\n",
       "      background-color: #3B4455;\n",
       "      fill: #D2E3FC;\n",
       "    }\n",
       "\n",
       "    [theme=dark] .colab-df-convert:hover {\n",
       "      background-color: #434B5C;\n",
       "      box-shadow: 0px 1px 3px 1px rgba(0, 0, 0, 0.15);\n",
       "      filter: drop-shadow(0px 1px 2px rgba(0, 0, 0, 0.3));\n",
       "      fill: #FFFFFF;\n",
       "    }\n",
       "  </style>\n",
       "\n",
       "    <script>\n",
       "      const buttonEl =\n",
       "        document.querySelector('#df-0c43a7da-b5f9-49d3-beab-cc0582eb98b3 button.colab-df-convert');\n",
       "      buttonEl.style.display =\n",
       "        google.colab.kernel.accessAllowed ? 'block' : 'none';\n",
       "\n",
       "      async function convertToInteractive(key) {\n",
       "        const element = document.querySelector('#df-0c43a7da-b5f9-49d3-beab-cc0582eb98b3');\n",
       "        const dataTable =\n",
       "          await google.colab.kernel.invokeFunction('convertToInteractive',\n",
       "                                                    [key], {});\n",
       "        if (!dataTable) return;\n",
       "\n",
       "        const docLinkHtml = 'Like what you see? Visit the ' +\n",
       "          '<a target=\"_blank\" href=https://colab.research.google.com/notebooks/data_table.ipynb>data table notebook</a>'\n",
       "          + ' to learn more about interactive tables.';\n",
       "        element.innerHTML = '';\n",
       "        dataTable['output_type'] = 'display_data';\n",
       "        await google.colab.output.renderOutput(dataTable, element);\n",
       "        const docLink = document.createElement('div');\n",
       "        docLink.innerHTML = docLinkHtml;\n",
       "        element.appendChild(docLink);\n",
       "      }\n",
       "    </script>\n",
       "  </div>\n",
       "\n",
       "\n",
       "<div id=\"df-8c2d0554-4471-43b2-8d4a-08a4a33b5d8a\">\n",
       "  <button class=\"colab-df-quickchart\" onclick=\"quickchart('df-8c2d0554-4471-43b2-8d4a-08a4a33b5d8a')\"\n",
       "            title=\"Suggest charts.\"\n",
       "            style=\"display:none;\">\n",
       "\n",
       "<svg xmlns=\"http://www.w3.org/2000/svg\" height=\"24px\"viewBox=\"0 0 24 24\"\n",
       "     width=\"24px\">\n",
       "    <g>\n",
       "        <path d=\"M19 3H5c-1.1 0-2 .9-2 2v14c0 1.1.9 2 2 2h14c1.1 0 2-.9 2-2V5c0-1.1-.9-2-2-2zM9 17H7v-7h2v7zm4 0h-2V7h2v10zm4 0h-2v-4h2v4z\"/>\n",
       "    </g>\n",
       "</svg>\n",
       "  </button>\n",
       "\n",
       "<style>\n",
       "  .colab-df-quickchart {\n",
       "    background-color: #E8F0FE;\n",
       "    border: none;\n",
       "    border-radius: 50%;\n",
       "    cursor: pointer;\n",
       "    display: none;\n",
       "    fill: #1967D2;\n",
       "    height: 32px;\n",
       "    padding: 0 0 0 0;\n",
       "    width: 32px;\n",
       "  }\n",
       "\n",
       "  .colab-df-quickchart:hover {\n",
       "    background-color: #E2EBFA;\n",
       "    box-shadow: 0px 1px 2px rgba(60, 64, 67, 0.3), 0px 1px 3px 1px rgba(60, 64, 67, 0.15);\n",
       "    fill: #174EA6;\n",
       "  }\n",
       "\n",
       "  [theme=dark] .colab-df-quickchart {\n",
       "    background-color: #3B4455;\n",
       "    fill: #D2E3FC;\n",
       "  }\n",
       "\n",
       "  [theme=dark] .colab-df-quickchart:hover {\n",
       "    background-color: #434B5C;\n",
       "    box-shadow: 0px 1px 3px 1px rgba(0, 0, 0, 0.15);\n",
       "    filter: drop-shadow(0px 1px 2px rgba(0, 0, 0, 0.3));\n",
       "    fill: #FFFFFF;\n",
       "  }\n",
       "</style>\n",
       "\n",
       "  <script>\n",
       "    async function quickchart(key) {\n",
       "      const charts = await google.colab.kernel.invokeFunction(\n",
       "          'suggestCharts', [key], {});\n",
       "    }\n",
       "    (() => {\n",
       "      let quickchartButtonEl =\n",
       "        document.querySelector('#df-8c2d0554-4471-43b2-8d4a-08a4a33b5d8a button');\n",
       "      quickchartButtonEl.style.display =\n",
       "        google.colab.kernel.accessAllowed ? 'block' : 'none';\n",
       "    })();\n",
       "  </script>\n",
       "</div>\n",
       "    </div>\n",
       "  </div>\n"
      ],
      "text/plain": [
       "col_0     0   1\n",
       "prefer         \n",
       "0       243  16\n",
       "1        21  73"
      ]
     },
     "execution_count": 82,
     "metadata": {},
     "output_type": "execute_result"
    }
   ],
   "source": [
    "pd.crosstab(y_test,y_pred)"
   ]
  },
  {
   "cell_type": "markdown",
   "metadata": {
    "id": "FCE1P1Zd2B0d"
   },
   "source": [
    "##Decision Tree"
   ]
  },
  {
   "cell_type": "code",
   "execution_count": 63,
   "metadata": {
    "colab": {
     "base_uri": "https://localhost:8080/",
     "height": 75
    },
    "id": "b5XCQU635xzL",
    "outputId": "5677e5e0-7eeb-48c0-f0fc-1fffed0a6cf2"
   },
   "outputs": [
    {
     "data": {
      "text/html": [
       "<style>#sk-container-id-3 {color: black;background-color: white;}#sk-container-id-3 pre{padding: 0;}#sk-container-id-3 div.sk-toggleable {background-color: white;}#sk-container-id-3 label.sk-toggleable__label {cursor: pointer;display: block;width: 100%;margin-bottom: 0;padding: 0.3em;box-sizing: border-box;text-align: center;}#sk-container-id-3 label.sk-toggleable__label-arrow:before {content: \"▸\";float: left;margin-right: 0.25em;color: #696969;}#sk-container-id-3 label.sk-toggleable__label-arrow:hover:before {color: black;}#sk-container-id-3 div.sk-estimator:hover label.sk-toggleable__label-arrow:before {color: black;}#sk-container-id-3 div.sk-toggleable__content {max-height: 0;max-width: 0;overflow: hidden;text-align: left;background-color: #f0f8ff;}#sk-container-id-3 div.sk-toggleable__content pre {margin: 0.2em;color: black;border-radius: 0.25em;background-color: #f0f8ff;}#sk-container-id-3 input.sk-toggleable__control:checked~div.sk-toggleable__content {max-height: 200px;max-width: 100%;overflow: auto;}#sk-container-id-3 input.sk-toggleable__control:checked~label.sk-toggleable__label-arrow:before {content: \"▾\";}#sk-container-id-3 div.sk-estimator input.sk-toggleable__control:checked~label.sk-toggleable__label {background-color: #d4ebff;}#sk-container-id-3 div.sk-label input.sk-toggleable__control:checked~label.sk-toggleable__label {background-color: #d4ebff;}#sk-container-id-3 input.sk-hidden--visually {border: 0;clip: rect(1px 1px 1px 1px);clip: rect(1px, 1px, 1px, 1px);height: 1px;margin: -1px;overflow: hidden;padding: 0;position: absolute;width: 1px;}#sk-container-id-3 div.sk-estimator {font-family: monospace;background-color: #f0f8ff;border: 1px dotted black;border-radius: 0.25em;box-sizing: border-box;margin-bottom: 0.5em;}#sk-container-id-3 div.sk-estimator:hover {background-color: #d4ebff;}#sk-container-id-3 div.sk-parallel-item::after {content: \"\";width: 100%;border-bottom: 1px solid gray;flex-grow: 1;}#sk-container-id-3 div.sk-label:hover label.sk-toggleable__label {background-color: #d4ebff;}#sk-container-id-3 div.sk-serial::before {content: \"\";position: absolute;border-left: 1px solid gray;box-sizing: border-box;top: 0;bottom: 0;left: 50%;z-index: 0;}#sk-container-id-3 div.sk-serial {display: flex;flex-direction: column;align-items: center;background-color: white;padding-right: 0.2em;padding-left: 0.2em;position: relative;}#sk-container-id-3 div.sk-item {position: relative;z-index: 1;}#sk-container-id-3 div.sk-parallel {display: flex;align-items: stretch;justify-content: center;background-color: white;position: relative;}#sk-container-id-3 div.sk-item::before, #sk-container-id-3 div.sk-parallel-item::before {content: \"\";position: absolute;border-left: 1px solid gray;box-sizing: border-box;top: 0;bottom: 0;left: 50%;z-index: -1;}#sk-container-id-3 div.sk-parallel-item {display: flex;flex-direction: column;z-index: 1;position: relative;background-color: white;}#sk-container-id-3 div.sk-parallel-item:first-child::after {align-self: flex-end;width: 50%;}#sk-container-id-3 div.sk-parallel-item:last-child::after {align-self: flex-start;width: 50%;}#sk-container-id-3 div.sk-parallel-item:only-child::after {width: 0;}#sk-container-id-3 div.sk-dashed-wrapped {border: 1px dashed gray;margin: 0 0.4em 0.5em 0.4em;box-sizing: border-box;padding-bottom: 0.4em;background-color: white;}#sk-container-id-3 div.sk-label label {font-family: monospace;font-weight: bold;display: inline-block;line-height: 1.2em;}#sk-container-id-3 div.sk-label-container {text-align: center;}#sk-container-id-3 div.sk-container {/* jupyter's `normalize.less` sets `[hidden] { display: none; }` but bootstrap.min.css set `[hidden] { display: none !important; }` so we also need the `!important` here to be able to override the default hidden behavior on the sphinx rendered scikit-learn.org. See: https://github.com/scikit-learn/scikit-learn/issues/21755 */display: inline-block !important;position: relative;}#sk-container-id-3 div.sk-text-repr-fallback {display: none;}</style><div id=\"sk-container-id-3\" class=\"sk-top-container\"><div class=\"sk-text-repr-fallback\"><pre>DecisionTreeClassifier()</pre><b>In a Jupyter environment, please rerun this cell to show the HTML representation or trust the notebook. <br />On GitHub, the HTML representation is unable to render, please try loading this page with nbviewer.org.</b></div><div class=\"sk-container\" hidden><div class=\"sk-item\"><div class=\"sk-estimator sk-toggleable\"><input class=\"sk-toggleable__control sk-hidden--visually\" id=\"sk-estimator-id-3\" type=\"checkbox\" checked><label for=\"sk-estimator-id-3\" class=\"sk-toggleable__label sk-toggleable__label-arrow\">DecisionTreeClassifier</label><div class=\"sk-toggleable__content\"><pre>DecisionTreeClassifier()</pre></div></div></div></div></div>"
      ],
      "text/plain": [
       "DecisionTreeClassifier()"
      ]
     },
     "execution_count": 63,
     "metadata": {},
     "output_type": "execute_result"
    }
   ],
   "source": [
    "from sklearn.tree import DecisionTreeClassifier\n",
    "DTC=DecisionTreeClassifier()\n",
    "DTC.fit(x_smote,y_smote)"
   ]
  },
  {
   "cell_type": "code",
   "execution_count": 64,
   "metadata": {
    "id": "1Hp2lJn_2g-M"
   },
   "outputs": [],
   "source": [
    "y_pred=DTC.predict(x_test)"
   ]
  },
  {
   "cell_type": "code",
   "execution_count": 65,
   "metadata": {
    "colab": {
     "base_uri": "https://localhost:8080/"
    },
    "id": "OPDt5loh235H",
    "outputId": "3b6d25c0-50df-4557-d7b2-d011b3ce399a"
   },
   "outputs": [
    {
     "data": {
      "text/plain": [
       "0.9008498583569405"
      ]
     },
     "execution_count": 65,
     "metadata": {},
     "output_type": "execute_result"
    }
   ],
   "source": [
    "accuracy_score(y_test,y_pred)"
   ]
  },
  {
   "cell_type": "markdown",
   "metadata": {
    "id": "Ciuyne-78DaV"
   },
   "source": [
    "##Hyperparameter tuning"
   ]
  },
  {
   "cell_type": "code",
   "execution_count": 83,
   "metadata": {
    "id": "_RQ1UnYg28CL"
   },
   "outputs": [],
   "source": [
    "from sklearn.model_selection import GridSearchCV\n",
    "params = {\n",
    "    \"criterion\":(\"gini\", \"entropy\"),\n",
    "    \"splitter\":(\"best\", \"random\"),\n",
    "    \"max_depth\":(list(range(1, 10))),\n",
    "    \"min_samples_split\":[2, 3, 4],\n",
    "    \"min_samples_leaf\":list(range(1, 11))\n",
    "}"
   ]
  },
  {
   "cell_type": "code",
   "execution_count": 84,
   "metadata": {
    "colab": {
     "base_uri": "https://localhost:8080/"
    },
    "id": "WSNydM1y8-AB",
    "outputId": "05341236-e5f2-4301-fc91-5879b37a477b"
   },
   "outputs": [
    {
     "name": "stdout",
     "output_type": "stream",
     "text": [
      "Fitting 3 folds for each of 1080 candidates, totalling 3240 fits\n",
      "Best paramters: {'criterion': 'entropy', 'max_depth': 9, 'min_samples_leaf': 3, 'min_samples_split': 2, 'splitter': 'best'})\n"
     ]
    }
   ],
   "source": [
    "DTC=DecisionTreeClassifier(random_state=3)\n",
    "tree_cv=GridSearchCV(DTC, params, scoring=\"accuracy\", n_jobs=-1, verbose=1, cv=3)\n",
    "tree_cv.fit(x_smote,y_smote)\n",
    "best_params = tree_cv.best_params_\n",
    "print(f\"Best paramters: {best_params})\")"
   ]
  },
  {
   "cell_type": "code",
   "execution_count": 85,
   "metadata": {
    "colab": {
     "base_uri": "https://localhost:8080/"
    },
    "id": "SHJbv_MY9W1Z",
    "outputId": "2ca4ae7a-1dba-4ce6-cc24-aff38a4ba5e4"
   },
   "outputs": [
    {
     "data": {
      "text/plain": [
       "0.9350266053391053"
      ]
     },
     "execution_count": 85,
     "metadata": {},
     "output_type": "execute_result"
    }
   ],
   "source": [
    "tree_cv.best_score_"
   ]
  },
  {
   "cell_type": "code",
   "execution_count": 94,
   "metadata": {
    "id": "2MrB8KLo9gK3"
   },
   "outputs": [],
   "source": [
    "DTC=DecisionTreeClassifier(criterion= 'entropy', max_depth= 9, min_samples_leaf= 3, min_samples_split= 2, splitter= 'best')\n",
    "DTC.fit(x_smote,y_smote)\n",
    "y_predict=DTC.predict(x_test)"
   ]
  },
  {
   "cell_type": "code",
   "execution_count": 95,
   "metadata": {
    "colab": {
     "base_uri": "https://localhost:8080/"
    },
    "id": "eojdS5eF-A23",
    "outputId": "0a985ccb-f496-487a-94de-505aab83a7cf"
   },
   "outputs": [
    {
     "data": {
      "text/plain": [
       "0.9036827195467422"
      ]
     },
     "execution_count": 95,
     "metadata": {},
     "output_type": "execute_result"
    }
   ],
   "source": [
    "accuracy_score(y_test,y_predict)"
   ]
  },
  {
   "cell_type": "code",
   "execution_count": 96,
   "metadata": {
    "colab": {
     "base_uri": "https://localhost:8080/",
     "height": 143
    },
    "id": "bOWg8YAK-QdB",
    "outputId": "14764ba1-0abc-4e9d-c999-4a18456802a3"
   },
   "outputs": [
    {
     "data": {
      "text/html": [
       "\n",
       "  <div id=\"df-2fd930f3-7abe-424a-b1fa-8064d8019214\" class=\"colab-df-container\">\n",
       "    <div>\n",
       "<style scoped>\n",
       "    .dataframe tbody tr th:only-of-type {\n",
       "        vertical-align: middle;\n",
       "    }\n",
       "\n",
       "    .dataframe tbody tr th {\n",
       "        vertical-align: top;\n",
       "    }\n",
       "\n",
       "    .dataframe thead th {\n",
       "        text-align: right;\n",
       "    }\n",
       "</style>\n",
       "<table border=\"1\" class=\"dataframe\">\n",
       "  <thead>\n",
       "    <tr style=\"text-align: right;\">\n",
       "      <th>col_0</th>\n",
       "      <th>0</th>\n",
       "      <th>1</th>\n",
       "    </tr>\n",
       "    <tr>\n",
       "      <th>prefer</th>\n",
       "      <th></th>\n",
       "      <th></th>\n",
       "    </tr>\n",
       "  </thead>\n",
       "  <tbody>\n",
       "    <tr>\n",
       "      <th>0</th>\n",
       "      <td>241</td>\n",
       "      <td>18</td>\n",
       "    </tr>\n",
       "    <tr>\n",
       "      <th>1</th>\n",
       "      <td>16</td>\n",
       "      <td>78</td>\n",
       "    </tr>\n",
       "  </tbody>\n",
       "</table>\n",
       "</div>\n",
       "    <div class=\"colab-df-buttons\">\n",
       "\n",
       "  <div class=\"colab-df-container\">\n",
       "    <button class=\"colab-df-convert\" onclick=\"convertToInteractive('df-2fd930f3-7abe-424a-b1fa-8064d8019214')\"\n",
       "            title=\"Convert this dataframe to an interactive table.\"\n",
       "            style=\"display:none;\">\n",
       "\n",
       "  <svg xmlns=\"http://www.w3.org/2000/svg\" height=\"24px\" viewBox=\"0 -960 960 960\">\n",
       "    <path d=\"M120-120v-720h720v720H120Zm60-500h600v-160H180v160Zm220 220h160v-160H400v160Zm0 220h160v-160H400v160ZM180-400h160v-160H180v160Zm440 0h160v-160H620v160ZM180-180h160v-160H180v160Zm440 0h160v-160H620v160Z\"/>\n",
       "  </svg>\n",
       "    </button>\n",
       "\n",
       "  <style>\n",
       "    .colab-df-container {\n",
       "      display:flex;\n",
       "      gap: 12px;\n",
       "    }\n",
       "\n",
       "    .colab-df-convert {\n",
       "      background-color: #E8F0FE;\n",
       "      border: none;\n",
       "      border-radius: 50%;\n",
       "      cursor: pointer;\n",
       "      display: none;\n",
       "      fill: #1967D2;\n",
       "      height: 32px;\n",
       "      padding: 0 0 0 0;\n",
       "      width: 32px;\n",
       "    }\n",
       "\n",
       "    .colab-df-convert:hover {\n",
       "      background-color: #E2EBFA;\n",
       "      box-shadow: 0px 1px 2px rgba(60, 64, 67, 0.3), 0px 1px 3px 1px rgba(60, 64, 67, 0.15);\n",
       "      fill: #174EA6;\n",
       "    }\n",
       "\n",
       "    .colab-df-buttons div {\n",
       "      margin-bottom: 4px;\n",
       "    }\n",
       "\n",
       "    [theme=dark] .colab-df-convert {\n",
       "      background-color: #3B4455;\n",
       "      fill: #D2E3FC;\n",
       "    }\n",
       "\n",
       "    [theme=dark] .colab-df-convert:hover {\n",
       "      background-color: #434B5C;\n",
       "      box-shadow: 0px 1px 3px 1px rgba(0, 0, 0, 0.15);\n",
       "      filter: drop-shadow(0px 1px 2px rgba(0, 0, 0, 0.3));\n",
       "      fill: #FFFFFF;\n",
       "    }\n",
       "  </style>\n",
       "\n",
       "    <script>\n",
       "      const buttonEl =\n",
       "        document.querySelector('#df-2fd930f3-7abe-424a-b1fa-8064d8019214 button.colab-df-convert');\n",
       "      buttonEl.style.display =\n",
       "        google.colab.kernel.accessAllowed ? 'block' : 'none';\n",
       "\n",
       "      async function convertToInteractive(key) {\n",
       "        const element = document.querySelector('#df-2fd930f3-7abe-424a-b1fa-8064d8019214');\n",
       "        const dataTable =\n",
       "          await google.colab.kernel.invokeFunction('convertToInteractive',\n",
       "                                                    [key], {});\n",
       "        if (!dataTable) return;\n",
       "\n",
       "        const docLinkHtml = 'Like what you see? Visit the ' +\n",
       "          '<a target=\"_blank\" href=https://colab.research.google.com/notebooks/data_table.ipynb>data table notebook</a>'\n",
       "          + ' to learn more about interactive tables.';\n",
       "        element.innerHTML = '';\n",
       "        dataTable['output_type'] = 'display_data';\n",
       "        await google.colab.output.renderOutput(dataTable, element);\n",
       "        const docLink = document.createElement('div');\n",
       "        docLink.innerHTML = docLinkHtml;\n",
       "        element.appendChild(docLink);\n",
       "      }\n",
       "    </script>\n",
       "  </div>\n",
       "\n",
       "\n",
       "<div id=\"df-a306b69c-09ab-42f9-a4da-0412c48ff63b\">\n",
       "  <button class=\"colab-df-quickchart\" onclick=\"quickchart('df-a306b69c-09ab-42f9-a4da-0412c48ff63b')\"\n",
       "            title=\"Suggest charts.\"\n",
       "            style=\"display:none;\">\n",
       "\n",
       "<svg xmlns=\"http://www.w3.org/2000/svg\" height=\"24px\"viewBox=\"0 0 24 24\"\n",
       "     width=\"24px\">\n",
       "    <g>\n",
       "        <path d=\"M19 3H5c-1.1 0-2 .9-2 2v14c0 1.1.9 2 2 2h14c1.1 0 2-.9 2-2V5c0-1.1-.9-2-2-2zM9 17H7v-7h2v7zm4 0h-2V7h2v10zm4 0h-2v-4h2v4z\"/>\n",
       "    </g>\n",
       "</svg>\n",
       "  </button>\n",
       "\n",
       "<style>\n",
       "  .colab-df-quickchart {\n",
       "    background-color: #E8F0FE;\n",
       "    border: none;\n",
       "    border-radius: 50%;\n",
       "    cursor: pointer;\n",
       "    display: none;\n",
       "    fill: #1967D2;\n",
       "    height: 32px;\n",
       "    padding: 0 0 0 0;\n",
       "    width: 32px;\n",
       "  }\n",
       "\n",
       "  .colab-df-quickchart:hover {\n",
       "    background-color: #E2EBFA;\n",
       "    box-shadow: 0px 1px 2px rgba(60, 64, 67, 0.3), 0px 1px 3px 1px rgba(60, 64, 67, 0.15);\n",
       "    fill: #174EA6;\n",
       "  }\n",
       "\n",
       "  [theme=dark] .colab-df-quickchart {\n",
       "    background-color: #3B4455;\n",
       "    fill: #D2E3FC;\n",
       "  }\n",
       "\n",
       "  [theme=dark] .colab-df-quickchart:hover {\n",
       "    background-color: #434B5C;\n",
       "    box-shadow: 0px 1px 3px 1px rgba(0, 0, 0, 0.15);\n",
       "    filter: drop-shadow(0px 1px 2px rgba(0, 0, 0, 0.3));\n",
       "    fill: #FFFFFF;\n",
       "  }\n",
       "</style>\n",
       "\n",
       "  <script>\n",
       "    async function quickchart(key) {\n",
       "      const charts = await google.colab.kernel.invokeFunction(\n",
       "          'suggestCharts', [key], {});\n",
       "    }\n",
       "    (() => {\n",
       "      let quickchartButtonEl =\n",
       "        document.querySelector('#df-a306b69c-09ab-42f9-a4da-0412c48ff63b button');\n",
       "      quickchartButtonEl.style.display =\n",
       "        google.colab.kernel.accessAllowed ? 'block' : 'none';\n",
       "    })();\n",
       "  </script>\n",
       "</div>\n",
       "    </div>\n",
       "  </div>\n"
      ],
      "text/plain": [
       "col_0     0   1\n",
       "prefer         \n",
       "0       241  18\n",
       "1        16  78"
      ]
     },
     "execution_count": 96,
     "metadata": {},
     "output_type": "execute_result"
    }
   ],
   "source": [
    "pd.crosstab(y_test,y_predict)"
   ]
  },
  {
   "cell_type": "markdown",
   "metadata": {
    "id": "B_VI99Ma-qNh"
   },
   "source": [
    "##RandomForest Classifier"
   ]
  },
  {
   "cell_type": "code",
   "execution_count": 97,
   "metadata": {
    "id": "cYY2iO3T-UbV"
   },
   "outputs": [],
   "source": [
    "from sklearn.ensemble import RandomForestClassifier\n",
    "RFC=RandomForestClassifier()\n",
    "RFC.fit(x_smote,y_smote)\n",
    "y_pred=RFC.predict(x_test)"
   ]
  },
  {
   "cell_type": "code",
   "execution_count": 98,
   "metadata": {
    "colab": {
     "base_uri": "https://localhost:8080/"
    },
    "id": "HxOCwfag_sZi",
    "outputId": "a0a8d216-0dd0-4d32-d599-85e086eb5ab3"
   },
   "outputs": [
    {
     "data": {
      "text/plain": [
       "0.9206798866855525"
      ]
     },
     "execution_count": 98,
     "metadata": {},
     "output_type": "execute_result"
    }
   ],
   "source": [
    "accuracy_score(y_test,y_pred)"
   ]
  },
  {
   "cell_type": "markdown",
   "metadata": {
    "id": "uEIUOYbu_--d"
   },
   "source": [
    "**Hyperparameter tunning**"
   ]
  },
  {
   "cell_type": "code",
   "execution_count": 99,
   "metadata": {
    "id": "Dh3-PvtQ_v0a"
   },
   "outputs": [],
   "source": [
    "from sklearn.model_selection import RandomizedSearchCV\n",
    "n_estimators = [int(x) for x in np.linspace(start=200, stop=2000, num=10)]\n",
    "max_features = ['auto', 'sqrt']\n",
    "max_depth = [int(x) for x in np.linspace(10, 110, num=11)]\n",
    "max_depth.append(None)\n",
    "min_samples_split = [2, 5, 10]\n",
    "min_samples_leaf = [1, 2, 4]\n",
    "bootstrap = [True, False]"
   ]
  },
  {
   "cell_type": "code",
   "execution_count": 100,
   "metadata": {
    "colab": {
     "base_uri": "https://localhost:8080/"
    },
    "id": "JFu4kJ_CATU4",
    "outputId": "4c4ef829-f16e-4606-9ba5-e129b041419f"
   },
   "outputs": [
    {
     "name": "stdout",
     "output_type": "stream",
     "text": [
      "Fitting 3 folds for each of 100 candidates, totalling 300 fits\n",
      "Best paramters: {'n_estimators': 600, 'min_samples_split': 2, 'min_samples_leaf': 2, 'max_features': 'sqrt', 'max_depth': 110, 'bootstrap': False})\n"
     ]
    }
   ],
   "source": [
    "random_grid = {'n_estimators': n_estimators, 'max_features': max_features,\n",
    "               'max_depth': max_depth, 'min_samples_split': min_samples_split,\n",
    "               'min_samples_leaf': min_samples_leaf, 'bootstrap': bootstrap}\n",
    "RFC = RandomForestClassifier(random_state=42)#model\n",
    "\n",
    "rf_cv = RandomizedSearchCV(estimator=RFC, scoring='accuracy',param_distributions=random_grid, n_iter=100, cv=3,\n",
    "                               verbose=2, random_state=42, n_jobs=-1)\n",
    "rf_cv.fit(x_smote, y_smote)\n",
    "rf_best_params = rf_cv.best_params_\n",
    "print(f\"Best paramters: {rf_best_params})\")"
   ]
  },
  {
   "cell_type": "code",
   "execution_count": 101,
   "metadata": {
    "id": "qFu5Zj5aAukK"
   },
   "outputs": [],
   "source": [
    "RFC = RandomForestClassifier(n_estimators= 600, min_samples_split=2, min_samples_leaf= 2, max_features='sqrt', max_depth=110, bootstrap=False)#passing best parameter to randomforest\n",
    "RFC.fit(x_smote,y_smote)\n",
    "y_pred=RFC.predict(x_test)\n"
   ]
  },
  {
   "cell_type": "code",
   "execution_count": 102,
   "metadata": {
    "colab": {
     "base_uri": "https://localhost:8080/"
    },
    "id": "BkXZqqmBDbB6",
    "outputId": "733e91ba-5bdd-4a15-857d-4cc8d3bdb594"
   },
   "outputs": [
    {
     "data": {
      "text/plain": [
       "0.9178470254957507"
      ]
     },
     "execution_count": 102,
     "metadata": {},
     "output_type": "execute_result"
    }
   ],
   "source": [
    "accuracy_score(y_test,y_pred)"
   ]
  },
  {
   "cell_type": "code",
   "execution_count": 103,
   "metadata": {
    "colab": {
     "base_uri": "https://localhost:8080/",
     "height": 143
    },
    "id": "dPv1AC-7DflO",
    "outputId": "eaa65b08-b862-4b09-b9a7-621b5740c19d"
   },
   "outputs": [
    {
     "data": {
      "text/html": [
       "\n",
       "  <div id=\"df-c1425dd1-645b-46ca-a25e-163fff5b9229\" class=\"colab-df-container\">\n",
       "    <div>\n",
       "<style scoped>\n",
       "    .dataframe tbody tr th:only-of-type {\n",
       "        vertical-align: middle;\n",
       "    }\n",
       "\n",
       "    .dataframe tbody tr th {\n",
       "        vertical-align: top;\n",
       "    }\n",
       "\n",
       "    .dataframe thead th {\n",
       "        text-align: right;\n",
       "    }\n",
       "</style>\n",
       "<table border=\"1\" class=\"dataframe\">\n",
       "  <thead>\n",
       "    <tr style=\"text-align: right;\">\n",
       "      <th>col_0</th>\n",
       "      <th>0</th>\n",
       "      <th>1</th>\n",
       "    </tr>\n",
       "    <tr>\n",
       "      <th>prefer</th>\n",
       "      <th></th>\n",
       "      <th></th>\n",
       "    </tr>\n",
       "  </thead>\n",
       "  <tbody>\n",
       "    <tr>\n",
       "      <th>0</th>\n",
       "      <td>251</td>\n",
       "      <td>8</td>\n",
       "    </tr>\n",
       "    <tr>\n",
       "      <th>1</th>\n",
       "      <td>21</td>\n",
       "      <td>73</td>\n",
       "    </tr>\n",
       "  </tbody>\n",
       "</table>\n",
       "</div>\n",
       "    <div class=\"colab-df-buttons\">\n",
       "\n",
       "  <div class=\"colab-df-container\">\n",
       "    <button class=\"colab-df-convert\" onclick=\"convertToInteractive('df-c1425dd1-645b-46ca-a25e-163fff5b9229')\"\n",
       "            title=\"Convert this dataframe to an interactive table.\"\n",
       "            style=\"display:none;\">\n",
       "\n",
       "  <svg xmlns=\"http://www.w3.org/2000/svg\" height=\"24px\" viewBox=\"0 -960 960 960\">\n",
       "    <path d=\"M120-120v-720h720v720H120Zm60-500h600v-160H180v160Zm220 220h160v-160H400v160Zm0 220h160v-160H400v160ZM180-400h160v-160H180v160Zm440 0h160v-160H620v160ZM180-180h160v-160H180v160Zm440 0h160v-160H620v160Z\"/>\n",
       "  </svg>\n",
       "    </button>\n",
       "\n",
       "  <style>\n",
       "    .colab-df-container {\n",
       "      display:flex;\n",
       "      gap: 12px;\n",
       "    }\n",
       "\n",
       "    .colab-df-convert {\n",
       "      background-color: #E8F0FE;\n",
       "      border: none;\n",
       "      border-radius: 50%;\n",
       "      cursor: pointer;\n",
       "      display: none;\n",
       "      fill: #1967D2;\n",
       "      height: 32px;\n",
       "      padding: 0 0 0 0;\n",
       "      width: 32px;\n",
       "    }\n",
       "\n",
       "    .colab-df-convert:hover {\n",
       "      background-color: #E2EBFA;\n",
       "      box-shadow: 0px 1px 2px rgba(60, 64, 67, 0.3), 0px 1px 3px 1px rgba(60, 64, 67, 0.15);\n",
       "      fill: #174EA6;\n",
       "    }\n",
       "\n",
       "    .colab-df-buttons div {\n",
       "      margin-bottom: 4px;\n",
       "    }\n",
       "\n",
       "    [theme=dark] .colab-df-convert {\n",
       "      background-color: #3B4455;\n",
       "      fill: #D2E3FC;\n",
       "    }\n",
       "\n",
       "    [theme=dark] .colab-df-convert:hover {\n",
       "      background-color: #434B5C;\n",
       "      box-shadow: 0px 1px 3px 1px rgba(0, 0, 0, 0.15);\n",
       "      filter: drop-shadow(0px 1px 2px rgba(0, 0, 0, 0.3));\n",
       "      fill: #FFFFFF;\n",
       "    }\n",
       "  </style>\n",
       "\n",
       "    <script>\n",
       "      const buttonEl =\n",
       "        document.querySelector('#df-c1425dd1-645b-46ca-a25e-163fff5b9229 button.colab-df-convert');\n",
       "      buttonEl.style.display =\n",
       "        google.colab.kernel.accessAllowed ? 'block' : 'none';\n",
       "\n",
       "      async function convertToInteractive(key) {\n",
       "        const element = document.querySelector('#df-c1425dd1-645b-46ca-a25e-163fff5b9229');\n",
       "        const dataTable =\n",
       "          await google.colab.kernel.invokeFunction('convertToInteractive',\n",
       "                                                    [key], {});\n",
       "        if (!dataTable) return;\n",
       "\n",
       "        const docLinkHtml = 'Like what you see? Visit the ' +\n",
       "          '<a target=\"_blank\" href=https://colab.research.google.com/notebooks/data_table.ipynb>data table notebook</a>'\n",
       "          + ' to learn more about interactive tables.';\n",
       "        element.innerHTML = '';\n",
       "        dataTable['output_type'] = 'display_data';\n",
       "        await google.colab.output.renderOutput(dataTable, element);\n",
       "        const docLink = document.createElement('div');\n",
       "        docLink.innerHTML = docLinkHtml;\n",
       "        element.appendChild(docLink);\n",
       "      }\n",
       "    </script>\n",
       "  </div>\n",
       "\n",
       "\n",
       "<div id=\"df-230d55a0-5c42-4b71-b9e4-4708dee594ef\">\n",
       "  <button class=\"colab-df-quickchart\" onclick=\"quickchart('df-230d55a0-5c42-4b71-b9e4-4708dee594ef')\"\n",
       "            title=\"Suggest charts.\"\n",
       "            style=\"display:none;\">\n",
       "\n",
       "<svg xmlns=\"http://www.w3.org/2000/svg\" height=\"24px\"viewBox=\"0 0 24 24\"\n",
       "     width=\"24px\">\n",
       "    <g>\n",
       "        <path d=\"M19 3H5c-1.1 0-2 .9-2 2v14c0 1.1.9 2 2 2h14c1.1 0 2-.9 2-2V5c0-1.1-.9-2-2-2zM9 17H7v-7h2v7zm4 0h-2V7h2v10zm4 0h-2v-4h2v4z\"/>\n",
       "    </g>\n",
       "</svg>\n",
       "  </button>\n",
       "\n",
       "<style>\n",
       "  .colab-df-quickchart {\n",
       "    background-color: #E8F0FE;\n",
       "    border: none;\n",
       "    border-radius: 50%;\n",
       "    cursor: pointer;\n",
       "    display: none;\n",
       "    fill: #1967D2;\n",
       "    height: 32px;\n",
       "    padding: 0 0 0 0;\n",
       "    width: 32px;\n",
       "  }\n",
       "\n",
       "  .colab-df-quickchart:hover {\n",
       "    background-color: #E2EBFA;\n",
       "    box-shadow: 0px 1px 2px rgba(60, 64, 67, 0.3), 0px 1px 3px 1px rgba(60, 64, 67, 0.15);\n",
       "    fill: #174EA6;\n",
       "  }\n",
       "\n",
       "  [theme=dark] .colab-df-quickchart {\n",
       "    background-color: #3B4455;\n",
       "    fill: #D2E3FC;\n",
       "  }\n",
       "\n",
       "  [theme=dark] .colab-df-quickchart:hover {\n",
       "    background-color: #434B5C;\n",
       "    box-shadow: 0px 1px 3px 1px rgba(0, 0, 0, 0.15);\n",
       "    filter: drop-shadow(0px 1px 2px rgba(0, 0, 0, 0.3));\n",
       "    fill: #FFFFFF;\n",
       "  }\n",
       "</style>\n",
       "\n",
       "  <script>\n",
       "    async function quickchart(key) {\n",
       "      const charts = await google.colab.kernel.invokeFunction(\n",
       "          'suggestCharts', [key], {});\n",
       "    }\n",
       "    (() => {\n",
       "      let quickchartButtonEl =\n",
       "        document.querySelector('#df-230d55a0-5c42-4b71-b9e4-4708dee594ef button');\n",
       "      quickchartButtonEl.style.display =\n",
       "        google.colab.kernel.accessAllowed ? 'block' : 'none';\n",
       "    })();\n",
       "  </script>\n",
       "</div>\n",
       "    </div>\n",
       "  </div>\n"
      ],
      "text/plain": [
       "col_0     0   1\n",
       "prefer         \n",
       "0       251   8\n",
       "1        21  73"
      ]
     },
     "execution_count": 103,
     "metadata": {},
     "output_type": "execute_result"
    }
   ],
   "source": [
    "pd.crosstab(y_test,y_pred)"
   ]
  },
  {
   "cell_type": "markdown",
   "metadata": {
    "id": "GPrhCE0xDtFg"
   },
   "source": [
    "##Bagging"
   ]
  },
  {
   "cell_type": "code",
   "execution_count": 106,
   "metadata": {
    "id": "cDLvEz7gDqcI"
   },
   "outputs": [],
   "source": [
    "from sklearn.ensemble import BaggingClassifier\n",
    "BC=BaggingClassifier(base_estimator=KNN,n_estimators=100)\n",
    "BC.fit(x_smote,y_smote)\n",
    "y_pred=BC.predict(x_test)"
   ]
  },
  {
   "cell_type": "code",
   "execution_count": 107,
   "metadata": {
    "colab": {
     "base_uri": "https://localhost:8080/"
    },
    "id": "lR6ziVb_Ej2n",
    "outputId": "bd0a88cb-749f-452c-c370-2f92d48f06ba"
   },
   "outputs": [
    {
     "data": {
      "text/plain": [
       "0.8980169971671388"
      ]
     },
     "execution_count": 107,
     "metadata": {},
     "output_type": "execute_result"
    }
   ],
   "source": [
    "accuracy_score(y_test,y_pred)"
   ]
  },
  {
   "cell_type": "code",
   "execution_count": 108,
   "metadata": {
    "colab": {
     "base_uri": "https://localhost:8080/",
     "height": 143
    },
    "id": "-gn2EnAuErGK",
    "outputId": "b3796981-8b3d-402a-9a5d-20e662baefa1"
   },
   "outputs": [
    {
     "data": {
      "text/html": [
       "\n",
       "  <div id=\"df-1470199a-469d-4646-b343-f262801f5b2f\" class=\"colab-df-container\">\n",
       "    <div>\n",
       "<style scoped>\n",
       "    .dataframe tbody tr th:only-of-type {\n",
       "        vertical-align: middle;\n",
       "    }\n",
       "\n",
       "    .dataframe tbody tr th {\n",
       "        vertical-align: top;\n",
       "    }\n",
       "\n",
       "    .dataframe thead th {\n",
       "        text-align: right;\n",
       "    }\n",
       "</style>\n",
       "<table border=\"1\" class=\"dataframe\">\n",
       "  <thead>\n",
       "    <tr style=\"text-align: right;\">\n",
       "      <th>col_0</th>\n",
       "      <th>0</th>\n",
       "      <th>1</th>\n",
       "    </tr>\n",
       "    <tr>\n",
       "      <th>prefer</th>\n",
       "      <th></th>\n",
       "      <th></th>\n",
       "    </tr>\n",
       "  </thead>\n",
       "  <tbody>\n",
       "    <tr>\n",
       "      <th>0</th>\n",
       "      <td>242</td>\n",
       "      <td>17</td>\n",
       "    </tr>\n",
       "    <tr>\n",
       "      <th>1</th>\n",
       "      <td>19</td>\n",
       "      <td>75</td>\n",
       "    </tr>\n",
       "  </tbody>\n",
       "</table>\n",
       "</div>\n",
       "    <div class=\"colab-df-buttons\">\n",
       "\n",
       "  <div class=\"colab-df-container\">\n",
       "    <button class=\"colab-df-convert\" onclick=\"convertToInteractive('df-1470199a-469d-4646-b343-f262801f5b2f')\"\n",
       "            title=\"Convert this dataframe to an interactive table.\"\n",
       "            style=\"display:none;\">\n",
       "\n",
       "  <svg xmlns=\"http://www.w3.org/2000/svg\" height=\"24px\" viewBox=\"0 -960 960 960\">\n",
       "    <path d=\"M120-120v-720h720v720H120Zm60-500h600v-160H180v160Zm220 220h160v-160H400v160Zm0 220h160v-160H400v160ZM180-400h160v-160H180v160Zm440 0h160v-160H620v160ZM180-180h160v-160H180v160Zm440 0h160v-160H620v160Z\"/>\n",
       "  </svg>\n",
       "    </button>\n",
       "\n",
       "  <style>\n",
       "    .colab-df-container {\n",
       "      display:flex;\n",
       "      gap: 12px;\n",
       "    }\n",
       "\n",
       "    .colab-df-convert {\n",
       "      background-color: #E8F0FE;\n",
       "      border: none;\n",
       "      border-radius: 50%;\n",
       "      cursor: pointer;\n",
       "      display: none;\n",
       "      fill: #1967D2;\n",
       "      height: 32px;\n",
       "      padding: 0 0 0 0;\n",
       "      width: 32px;\n",
       "    }\n",
       "\n",
       "    .colab-df-convert:hover {\n",
       "      background-color: #E2EBFA;\n",
       "      box-shadow: 0px 1px 2px rgba(60, 64, 67, 0.3), 0px 1px 3px 1px rgba(60, 64, 67, 0.15);\n",
       "      fill: #174EA6;\n",
       "    }\n",
       "\n",
       "    .colab-df-buttons div {\n",
       "      margin-bottom: 4px;\n",
       "    }\n",
       "\n",
       "    [theme=dark] .colab-df-convert {\n",
       "      background-color: #3B4455;\n",
       "      fill: #D2E3FC;\n",
       "    }\n",
       "\n",
       "    [theme=dark] .colab-df-convert:hover {\n",
       "      background-color: #434B5C;\n",
       "      box-shadow: 0px 1px 3px 1px rgba(0, 0, 0, 0.15);\n",
       "      filter: drop-shadow(0px 1px 2px rgba(0, 0, 0, 0.3));\n",
       "      fill: #FFFFFF;\n",
       "    }\n",
       "  </style>\n",
       "\n",
       "    <script>\n",
       "      const buttonEl =\n",
       "        document.querySelector('#df-1470199a-469d-4646-b343-f262801f5b2f button.colab-df-convert');\n",
       "      buttonEl.style.display =\n",
       "        google.colab.kernel.accessAllowed ? 'block' : 'none';\n",
       "\n",
       "      async function convertToInteractive(key) {\n",
       "        const element = document.querySelector('#df-1470199a-469d-4646-b343-f262801f5b2f');\n",
       "        const dataTable =\n",
       "          await google.colab.kernel.invokeFunction('convertToInteractive',\n",
       "                                                    [key], {});\n",
       "        if (!dataTable) return;\n",
       "\n",
       "        const docLinkHtml = 'Like what you see? Visit the ' +\n",
       "          '<a target=\"_blank\" href=https://colab.research.google.com/notebooks/data_table.ipynb>data table notebook</a>'\n",
       "          + ' to learn more about interactive tables.';\n",
       "        element.innerHTML = '';\n",
       "        dataTable['output_type'] = 'display_data';\n",
       "        await google.colab.output.renderOutput(dataTable, element);\n",
       "        const docLink = document.createElement('div');\n",
       "        docLink.innerHTML = docLinkHtml;\n",
       "        element.appendChild(docLink);\n",
       "      }\n",
       "    </script>\n",
       "  </div>\n",
       "\n",
       "\n",
       "<div id=\"df-991b2fb0-368b-4ccc-a2a0-1a36cae19e14\">\n",
       "  <button class=\"colab-df-quickchart\" onclick=\"quickchart('df-991b2fb0-368b-4ccc-a2a0-1a36cae19e14')\"\n",
       "            title=\"Suggest charts.\"\n",
       "            style=\"display:none;\">\n",
       "\n",
       "<svg xmlns=\"http://www.w3.org/2000/svg\" height=\"24px\"viewBox=\"0 0 24 24\"\n",
       "     width=\"24px\">\n",
       "    <g>\n",
       "        <path d=\"M19 3H5c-1.1 0-2 .9-2 2v14c0 1.1.9 2 2 2h14c1.1 0 2-.9 2-2V5c0-1.1-.9-2-2-2zM9 17H7v-7h2v7zm4 0h-2V7h2v10zm4 0h-2v-4h2v4z\"/>\n",
       "    </g>\n",
       "</svg>\n",
       "  </button>\n",
       "\n",
       "<style>\n",
       "  .colab-df-quickchart {\n",
       "    background-color: #E8F0FE;\n",
       "    border: none;\n",
       "    border-radius: 50%;\n",
       "    cursor: pointer;\n",
       "    display: none;\n",
       "    fill: #1967D2;\n",
       "    height: 32px;\n",
       "    padding: 0 0 0 0;\n",
       "    width: 32px;\n",
       "  }\n",
       "\n",
       "  .colab-df-quickchart:hover {\n",
       "    background-color: #E2EBFA;\n",
       "    box-shadow: 0px 1px 2px rgba(60, 64, 67, 0.3), 0px 1px 3px 1px rgba(60, 64, 67, 0.15);\n",
       "    fill: #174EA6;\n",
       "  }\n",
       "\n",
       "  [theme=dark] .colab-df-quickchart {\n",
       "    background-color: #3B4455;\n",
       "    fill: #D2E3FC;\n",
       "  }\n",
       "\n",
       "  [theme=dark] .colab-df-quickchart:hover {\n",
       "    background-color: #434B5C;\n",
       "    box-shadow: 0px 1px 3px 1px rgba(0, 0, 0, 0.15);\n",
       "    filter: drop-shadow(0px 1px 2px rgba(0, 0, 0, 0.3));\n",
       "    fill: #FFFFFF;\n",
       "  }\n",
       "</style>\n",
       "\n",
       "  <script>\n",
       "    async function quickchart(key) {\n",
       "      const charts = await google.colab.kernel.invokeFunction(\n",
       "          'suggestCharts', [key], {});\n",
       "    }\n",
       "    (() => {\n",
       "      let quickchartButtonEl =\n",
       "        document.querySelector('#df-991b2fb0-368b-4ccc-a2a0-1a36cae19e14 button');\n",
       "      quickchartButtonEl.style.display =\n",
       "        google.colab.kernel.accessAllowed ? 'block' : 'none';\n",
       "    })();\n",
       "  </script>\n",
       "</div>\n",
       "    </div>\n",
       "  </div>\n"
      ],
      "text/plain": [
       "col_0     0   1\n",
       "prefer         \n",
       "0       242  17\n",
       "1        19  75"
      ]
     },
     "execution_count": 108,
     "metadata": {},
     "output_type": "execute_result"
    }
   ],
   "source": [
    "pd.crosstab(y_test,y_pred)"
   ]
  },
  {
   "cell_type": "markdown",
   "metadata": {
    "id": "l4qstNpFFFTr"
   },
   "source": [
    "##Gradient Boosting"
   ]
  },
  {
   "cell_type": "code",
   "execution_count": 110,
   "metadata": {
    "id": "elqzsf8_E_g9"
   },
   "outputs": [],
   "source": [
    "from sklearn.ensemble import GradientBoostingClassifier\n",
    "GBC=GradientBoostingClassifier(n_estimators=100)\n",
    "GBC.fit(x_smote,y_smote)\n",
    "y_pred=GBC.predict(x_test)"
   ]
  },
  {
   "cell_type": "code",
   "execution_count": 111,
   "metadata": {
    "colab": {
     "base_uri": "https://localhost:8080/"
    },
    "id": "xy6DxlUJFiT4",
    "outputId": "9667c3c4-6184-4116-c5d4-7452f59a7b9e"
   },
   "outputs": [
    {
     "data": {
      "text/plain": [
       "0.9121813031161473"
      ]
     },
     "execution_count": 111,
     "metadata": {},
     "output_type": "execute_result"
    }
   ],
   "source": [
    "accuracy_score(y_test,y_pred)"
   ]
  },
  {
   "cell_type": "code",
   "execution_count": 112,
   "metadata": {
    "colab": {
     "base_uri": "https://localhost:8080/",
     "height": 143
    },
    "id": "JF9LALJzFnv6",
    "outputId": "5a822ab1-6db6-40c3-e572-3c79e5506ad2"
   },
   "outputs": [
    {
     "data": {
      "text/html": [
       "\n",
       "  <div id=\"df-fef25ace-333d-4dd9-8bab-1cdd3f0ade1a\" class=\"colab-df-container\">\n",
       "    <div>\n",
       "<style scoped>\n",
       "    .dataframe tbody tr th:only-of-type {\n",
       "        vertical-align: middle;\n",
       "    }\n",
       "\n",
       "    .dataframe tbody tr th {\n",
       "        vertical-align: top;\n",
       "    }\n",
       "\n",
       "    .dataframe thead th {\n",
       "        text-align: right;\n",
       "    }\n",
       "</style>\n",
       "<table border=\"1\" class=\"dataframe\">\n",
       "  <thead>\n",
       "    <tr style=\"text-align: right;\">\n",
       "      <th>col_0</th>\n",
       "      <th>0</th>\n",
       "      <th>1</th>\n",
       "    </tr>\n",
       "    <tr>\n",
       "      <th>prefer</th>\n",
       "      <th></th>\n",
       "      <th></th>\n",
       "    </tr>\n",
       "  </thead>\n",
       "  <tbody>\n",
       "    <tr>\n",
       "      <th>0</th>\n",
       "      <td>242</td>\n",
       "      <td>17</td>\n",
       "    </tr>\n",
       "    <tr>\n",
       "      <th>1</th>\n",
       "      <td>14</td>\n",
       "      <td>80</td>\n",
       "    </tr>\n",
       "  </tbody>\n",
       "</table>\n",
       "</div>\n",
       "    <div class=\"colab-df-buttons\">\n",
       "\n",
       "  <div class=\"colab-df-container\">\n",
       "    <button class=\"colab-df-convert\" onclick=\"convertToInteractive('df-fef25ace-333d-4dd9-8bab-1cdd3f0ade1a')\"\n",
       "            title=\"Convert this dataframe to an interactive table.\"\n",
       "            style=\"display:none;\">\n",
       "\n",
       "  <svg xmlns=\"http://www.w3.org/2000/svg\" height=\"24px\" viewBox=\"0 -960 960 960\">\n",
       "    <path d=\"M120-120v-720h720v720H120Zm60-500h600v-160H180v160Zm220 220h160v-160H400v160Zm0 220h160v-160H400v160ZM180-400h160v-160H180v160Zm440 0h160v-160H620v160ZM180-180h160v-160H180v160Zm440 0h160v-160H620v160Z\"/>\n",
       "  </svg>\n",
       "    </button>\n",
       "\n",
       "  <style>\n",
       "    .colab-df-container {\n",
       "      display:flex;\n",
       "      gap: 12px;\n",
       "    }\n",
       "\n",
       "    .colab-df-convert {\n",
       "      background-color: #E8F0FE;\n",
       "      border: none;\n",
       "      border-radius: 50%;\n",
       "      cursor: pointer;\n",
       "      display: none;\n",
       "      fill: #1967D2;\n",
       "      height: 32px;\n",
       "      padding: 0 0 0 0;\n",
       "      width: 32px;\n",
       "    }\n",
       "\n",
       "    .colab-df-convert:hover {\n",
       "      background-color: #E2EBFA;\n",
       "      box-shadow: 0px 1px 2px rgba(60, 64, 67, 0.3), 0px 1px 3px 1px rgba(60, 64, 67, 0.15);\n",
       "      fill: #174EA6;\n",
       "    }\n",
       "\n",
       "    .colab-df-buttons div {\n",
       "      margin-bottom: 4px;\n",
       "    }\n",
       "\n",
       "    [theme=dark] .colab-df-convert {\n",
       "      background-color: #3B4455;\n",
       "      fill: #D2E3FC;\n",
       "    }\n",
       "\n",
       "    [theme=dark] .colab-df-convert:hover {\n",
       "      background-color: #434B5C;\n",
       "      box-shadow: 0px 1px 3px 1px rgba(0, 0, 0, 0.15);\n",
       "      filter: drop-shadow(0px 1px 2px rgba(0, 0, 0, 0.3));\n",
       "      fill: #FFFFFF;\n",
       "    }\n",
       "  </style>\n",
       "\n",
       "    <script>\n",
       "      const buttonEl =\n",
       "        document.querySelector('#df-fef25ace-333d-4dd9-8bab-1cdd3f0ade1a button.colab-df-convert');\n",
       "      buttonEl.style.display =\n",
       "        google.colab.kernel.accessAllowed ? 'block' : 'none';\n",
       "\n",
       "      async function convertToInteractive(key) {\n",
       "        const element = document.querySelector('#df-fef25ace-333d-4dd9-8bab-1cdd3f0ade1a');\n",
       "        const dataTable =\n",
       "          await google.colab.kernel.invokeFunction('convertToInteractive',\n",
       "                                                    [key], {});\n",
       "        if (!dataTable) return;\n",
       "\n",
       "        const docLinkHtml = 'Like what you see? Visit the ' +\n",
       "          '<a target=\"_blank\" href=https://colab.research.google.com/notebooks/data_table.ipynb>data table notebook</a>'\n",
       "          + ' to learn more about interactive tables.';\n",
       "        element.innerHTML = '';\n",
       "        dataTable['output_type'] = 'display_data';\n",
       "        await google.colab.output.renderOutput(dataTable, element);\n",
       "        const docLink = document.createElement('div');\n",
       "        docLink.innerHTML = docLinkHtml;\n",
       "        element.appendChild(docLink);\n",
       "      }\n",
       "    </script>\n",
       "  </div>\n",
       "\n",
       "\n",
       "<div id=\"df-92c37b69-11c5-4a16-9eeb-aab27851ef71\">\n",
       "  <button class=\"colab-df-quickchart\" onclick=\"quickchart('df-92c37b69-11c5-4a16-9eeb-aab27851ef71')\"\n",
       "            title=\"Suggest charts.\"\n",
       "            style=\"display:none;\">\n",
       "\n",
       "<svg xmlns=\"http://www.w3.org/2000/svg\" height=\"24px\"viewBox=\"0 0 24 24\"\n",
       "     width=\"24px\">\n",
       "    <g>\n",
       "        <path d=\"M19 3H5c-1.1 0-2 .9-2 2v14c0 1.1.9 2 2 2h14c1.1 0 2-.9 2-2V5c0-1.1-.9-2-2-2zM9 17H7v-7h2v7zm4 0h-2V7h2v10zm4 0h-2v-4h2v4z\"/>\n",
       "    </g>\n",
       "</svg>\n",
       "  </button>\n",
       "\n",
       "<style>\n",
       "  .colab-df-quickchart {\n",
       "    background-color: #E8F0FE;\n",
       "    border: none;\n",
       "    border-radius: 50%;\n",
       "    cursor: pointer;\n",
       "    display: none;\n",
       "    fill: #1967D2;\n",
       "    height: 32px;\n",
       "    padding: 0 0 0 0;\n",
       "    width: 32px;\n",
       "  }\n",
       "\n",
       "  .colab-df-quickchart:hover {\n",
       "    background-color: #E2EBFA;\n",
       "    box-shadow: 0px 1px 2px rgba(60, 64, 67, 0.3), 0px 1px 3px 1px rgba(60, 64, 67, 0.15);\n",
       "    fill: #174EA6;\n",
       "  }\n",
       "\n",
       "  [theme=dark] .colab-df-quickchart {\n",
       "    background-color: #3B4455;\n",
       "    fill: #D2E3FC;\n",
       "  }\n",
       "\n",
       "  [theme=dark] .colab-df-quickchart:hover {\n",
       "    background-color: #434B5C;\n",
       "    box-shadow: 0px 1px 3px 1px rgba(0, 0, 0, 0.15);\n",
       "    filter: drop-shadow(0px 1px 2px rgba(0, 0, 0, 0.3));\n",
       "    fill: #FFFFFF;\n",
       "  }\n",
       "</style>\n",
       "\n",
       "  <script>\n",
       "    async function quickchart(key) {\n",
       "      const charts = await google.colab.kernel.invokeFunction(\n",
       "          'suggestCharts', [key], {});\n",
       "    }\n",
       "    (() => {\n",
       "      let quickchartButtonEl =\n",
       "        document.querySelector('#df-92c37b69-11c5-4a16-9eeb-aab27851ef71 button');\n",
       "      quickchartButtonEl.style.display =\n",
       "        google.colab.kernel.accessAllowed ? 'block' : 'none';\n",
       "    })();\n",
       "  </script>\n",
       "</div>\n",
       "    </div>\n",
       "  </div>\n"
      ],
      "text/plain": [
       "col_0     0   1\n",
       "prefer         \n",
       "0       242  17\n",
       "1        14  80"
      ]
     },
     "execution_count": 112,
     "metadata": {},
     "output_type": "execute_result"
    }
   ],
   "source": [
    "pd.crosstab(y_test,y_pred)"
   ]
  },
  {
   "cell_type": "markdown",
   "metadata": {
    "id": "JT3hbmYKGHIH"
   },
   "source": [
    "##XGBoosting"
   ]
  },
  {
   "cell_type": "code",
   "execution_count": 113,
   "metadata": {
    "id": "IhmObZZSFuxt"
   },
   "outputs": [],
   "source": [
    "from xgboost import XGBClassifier\n",
    "XGBC=XGBClassifier()\n",
    "XGBC.fit(x_smote,y_smote)\n",
    "y_pred=XGBC.predict(x_test)"
   ]
  },
  {
   "cell_type": "code",
   "execution_count": 114,
   "metadata": {
    "colab": {
     "base_uri": "https://localhost:8080/"
    },
    "id": "cvxrsLDlGvKn",
    "outputId": "14dbd77e-a33e-4b8e-fa50-e3032637ecda"
   },
   "outputs": [
    {
     "data": {
      "text/plain": [
       "0.9178470254957507"
      ]
     },
     "execution_count": 114,
     "metadata": {},
     "output_type": "execute_result"
    }
   ],
   "source": [
    "accuracy_score(y_test,y_pred)"
   ]
  },
  {
   "cell_type": "markdown",
   "metadata": {
    "id": "5KX__iNiG4LC"
   },
   "source": [
    "##Hyperparameter"
   ]
  },
  {
   "cell_type": "code",
   "execution_count": 115,
   "metadata": {
    "id": "SwIuZ-jNG04g"
   },
   "outputs": [],
   "source": [
    "from sklearn.model_selection import RandomizedSearchCV\n",
    "param_grid = {'gamma': [0,0.1,0.2,0.4,0.8,1.6,3.2,6.4,12.8,25.6,51.2,102.4, 200],\n",
    "              'learning_rate': [0.01, 0.03, 0.06, 0.1, 0.15, 0.2, 0.25, 0.300000012, 0.4, 0.5, 0.6, 0.7],\n",
    "              'max_depth': [5,6,7,8,9,10,11,12,13,14],\n",
    "              'n_estimators': [50,65,80,100,115,130,150],\n",
    "              'reg_alpha': [0,0.1,0.2,0.4,0.8,1.6,3.2,6.4,12.8,25.6,51.2,102.4,200],\n",
    "              'reg_lambda': [0,0.1,0.2,0.4,0.8,1.6,3.2,6.4,12.8,25.6,51.2,102.4,200]}\n",
    "\n",
    "XGBR=XGBClassifier(random_state=42,verbosity=0)\n",
    "rcv= RandomizedSearchCV(estimator=XGBC, scoring='accuracy',param_distributions=param_grid, n_iter=100, cv=3,\n",
    "                               verbose=2, random_state=42, n_jobs=-1)"
   ]
  },
  {
   "cell_type": "code",
   "execution_count": 116,
   "metadata": {
    "colab": {
     "base_uri": "https://localhost:8080/"
    },
    "id": "tw-afhidHTl3",
    "outputId": "3505646e-685a-4ab1-821c-921515591e7b"
   },
   "outputs": [
    {
     "name": "stdout",
     "output_type": "stream",
     "text": [
      "Fitting 3 folds for each of 100 candidates, totalling 300 fits\n",
      "Best parameters: {'reg_lambda': 0.2, 'reg_alpha': 0.8, 'n_estimators': 100, 'max_depth': 11, 'learning_rate': 0.1, 'gamma': 0.2})\n"
     ]
    }
   ],
   "source": [
    "rcv.fit(x_smote,y_smote)# training data on randomsearch cv\n",
    "cv_best_params=rcv.best_params_# it will give you best parameters\n",
    "print(f'Best parameters: {cv_best_params})')"
   ]
  },
  {
   "cell_type": "code",
   "execution_count": 117,
   "metadata": {
    "id": "CNocdzRNHcsC"
   },
   "outputs": [],
   "source": [
    "XGBC=XGBClassifier(reg_lambda= 0.2, reg_alpha= 0.8, n_estimators=100, max_depth=11,\n",
    "                   learning_rate=0.1, gamma=0.2)\n",
    "XGBC.fit(x_smote, y_smote)#training\n",
    "y_predict=XGBC.predict(x_test)#testing"
   ]
  },
  {
   "cell_type": "code",
   "execution_count": 118,
   "metadata": {
    "colab": {
     "base_uri": "https://localhost:8080/"
    },
    "id": "dxCqQxUJH65G",
    "outputId": "4705e9b8-bb2d-4f50-d1fe-b87f58ec4658"
   },
   "outputs": [
    {
     "data": {
      "text/plain": [
       "0.9150141643059491"
      ]
     },
     "execution_count": 118,
     "metadata": {},
     "output_type": "execute_result"
    }
   ],
   "source": [
    "accuracy_score(y_test,y_predict)"
   ]
  },
  {
   "cell_type": "code",
   "execution_count": 119,
   "metadata": {
    "colab": {
     "base_uri": "https://localhost:8080/",
     "height": 143
    },
    "id": "C31bQUYDIDMo",
    "outputId": "ac8b4811-ad24-4eaf-bc32-34264baf641b"
   },
   "outputs": [
    {
     "data": {
      "text/html": [
       "\n",
       "  <div id=\"df-63092067-a730-436a-bd03-00d06c553d88\" class=\"colab-df-container\">\n",
       "    <div>\n",
       "<style scoped>\n",
       "    .dataframe tbody tr th:only-of-type {\n",
       "        vertical-align: middle;\n",
       "    }\n",
       "\n",
       "    .dataframe tbody tr th {\n",
       "        vertical-align: top;\n",
       "    }\n",
       "\n",
       "    .dataframe thead th {\n",
       "        text-align: right;\n",
       "    }\n",
       "</style>\n",
       "<table border=\"1\" class=\"dataframe\">\n",
       "  <thead>\n",
       "    <tr style=\"text-align: right;\">\n",
       "      <th>col_0</th>\n",
       "      <th>0</th>\n",
       "      <th>1</th>\n",
       "    </tr>\n",
       "    <tr>\n",
       "      <th>prefer</th>\n",
       "      <th></th>\n",
       "      <th></th>\n",
       "    </tr>\n",
       "  </thead>\n",
       "  <tbody>\n",
       "    <tr>\n",
       "      <th>0</th>\n",
       "      <td>247</td>\n",
       "      <td>12</td>\n",
       "    </tr>\n",
       "    <tr>\n",
       "      <th>1</th>\n",
       "      <td>17</td>\n",
       "      <td>77</td>\n",
       "    </tr>\n",
       "  </tbody>\n",
       "</table>\n",
       "</div>\n",
       "    <div class=\"colab-df-buttons\">\n",
       "\n",
       "  <div class=\"colab-df-container\">\n",
       "    <button class=\"colab-df-convert\" onclick=\"convertToInteractive('df-63092067-a730-436a-bd03-00d06c553d88')\"\n",
       "            title=\"Convert this dataframe to an interactive table.\"\n",
       "            style=\"display:none;\">\n",
       "\n",
       "  <svg xmlns=\"http://www.w3.org/2000/svg\" height=\"24px\" viewBox=\"0 -960 960 960\">\n",
       "    <path d=\"M120-120v-720h720v720H120Zm60-500h600v-160H180v160Zm220 220h160v-160H400v160Zm0 220h160v-160H400v160ZM180-400h160v-160H180v160Zm440 0h160v-160H620v160ZM180-180h160v-160H180v160Zm440 0h160v-160H620v160Z\"/>\n",
       "  </svg>\n",
       "    </button>\n",
       "\n",
       "  <style>\n",
       "    .colab-df-container {\n",
       "      display:flex;\n",
       "      gap: 12px;\n",
       "    }\n",
       "\n",
       "    .colab-df-convert {\n",
       "      background-color: #E8F0FE;\n",
       "      border: none;\n",
       "      border-radius: 50%;\n",
       "      cursor: pointer;\n",
       "      display: none;\n",
       "      fill: #1967D2;\n",
       "      height: 32px;\n",
       "      padding: 0 0 0 0;\n",
       "      width: 32px;\n",
       "    }\n",
       "\n",
       "    .colab-df-convert:hover {\n",
       "      background-color: #E2EBFA;\n",
       "      box-shadow: 0px 1px 2px rgba(60, 64, 67, 0.3), 0px 1px 3px 1px rgba(60, 64, 67, 0.15);\n",
       "      fill: #174EA6;\n",
       "    }\n",
       "\n",
       "    .colab-df-buttons div {\n",
       "      margin-bottom: 4px;\n",
       "    }\n",
       "\n",
       "    [theme=dark] .colab-df-convert {\n",
       "      background-color: #3B4455;\n",
       "      fill: #D2E3FC;\n",
       "    }\n",
       "\n",
       "    [theme=dark] .colab-df-convert:hover {\n",
       "      background-color: #434B5C;\n",
       "      box-shadow: 0px 1px 3px 1px rgba(0, 0, 0, 0.15);\n",
       "      filter: drop-shadow(0px 1px 2px rgba(0, 0, 0, 0.3));\n",
       "      fill: #FFFFFF;\n",
       "    }\n",
       "  </style>\n",
       "\n",
       "    <script>\n",
       "      const buttonEl =\n",
       "        document.querySelector('#df-63092067-a730-436a-bd03-00d06c553d88 button.colab-df-convert');\n",
       "      buttonEl.style.display =\n",
       "        google.colab.kernel.accessAllowed ? 'block' : 'none';\n",
       "\n",
       "      async function convertToInteractive(key) {\n",
       "        const element = document.querySelector('#df-63092067-a730-436a-bd03-00d06c553d88');\n",
       "        const dataTable =\n",
       "          await google.colab.kernel.invokeFunction('convertToInteractive',\n",
       "                                                    [key], {});\n",
       "        if (!dataTable) return;\n",
       "\n",
       "        const docLinkHtml = 'Like what you see? Visit the ' +\n",
       "          '<a target=\"_blank\" href=https://colab.research.google.com/notebooks/data_table.ipynb>data table notebook</a>'\n",
       "          + ' to learn more about interactive tables.';\n",
       "        element.innerHTML = '';\n",
       "        dataTable['output_type'] = 'display_data';\n",
       "        await google.colab.output.renderOutput(dataTable, element);\n",
       "        const docLink = document.createElement('div');\n",
       "        docLink.innerHTML = docLinkHtml;\n",
       "        element.appendChild(docLink);\n",
       "      }\n",
       "    </script>\n",
       "  </div>\n",
       "\n",
       "\n",
       "<div id=\"df-8eb01946-b9ac-470d-8994-b06c391d7d82\">\n",
       "  <button class=\"colab-df-quickchart\" onclick=\"quickchart('df-8eb01946-b9ac-470d-8994-b06c391d7d82')\"\n",
       "            title=\"Suggest charts.\"\n",
       "            style=\"display:none;\">\n",
       "\n",
       "<svg xmlns=\"http://www.w3.org/2000/svg\" height=\"24px\"viewBox=\"0 0 24 24\"\n",
       "     width=\"24px\">\n",
       "    <g>\n",
       "        <path d=\"M19 3H5c-1.1 0-2 .9-2 2v14c0 1.1.9 2 2 2h14c1.1 0 2-.9 2-2V5c0-1.1-.9-2-2-2zM9 17H7v-7h2v7zm4 0h-2V7h2v10zm4 0h-2v-4h2v4z\"/>\n",
       "    </g>\n",
       "</svg>\n",
       "  </button>\n",
       "\n",
       "<style>\n",
       "  .colab-df-quickchart {\n",
       "    background-color: #E8F0FE;\n",
       "    border: none;\n",
       "    border-radius: 50%;\n",
       "    cursor: pointer;\n",
       "    display: none;\n",
       "    fill: #1967D2;\n",
       "    height: 32px;\n",
       "    padding: 0 0 0 0;\n",
       "    width: 32px;\n",
       "  }\n",
       "\n",
       "  .colab-df-quickchart:hover {\n",
       "    background-color: #E2EBFA;\n",
       "    box-shadow: 0px 1px 2px rgba(60, 64, 67, 0.3), 0px 1px 3px 1px rgba(60, 64, 67, 0.15);\n",
       "    fill: #174EA6;\n",
       "  }\n",
       "\n",
       "  [theme=dark] .colab-df-quickchart {\n",
       "    background-color: #3B4455;\n",
       "    fill: #D2E3FC;\n",
       "  }\n",
       "\n",
       "  [theme=dark] .colab-df-quickchart:hover {\n",
       "    background-color: #434B5C;\n",
       "    box-shadow: 0px 1px 3px 1px rgba(0, 0, 0, 0.15);\n",
       "    filter: drop-shadow(0px 1px 2px rgba(0, 0, 0, 0.3));\n",
       "    fill: #FFFFFF;\n",
       "  }\n",
       "</style>\n",
       "\n",
       "  <script>\n",
       "    async function quickchart(key) {\n",
       "      const charts = await google.colab.kernel.invokeFunction(\n",
       "          'suggestCharts', [key], {});\n",
       "    }\n",
       "    (() => {\n",
       "      let quickchartButtonEl =\n",
       "        document.querySelector('#df-8eb01946-b9ac-470d-8994-b06c391d7d82 button');\n",
       "      quickchartButtonEl.style.display =\n",
       "        google.colab.kernel.accessAllowed ? 'block' : 'none';\n",
       "    })();\n",
       "  </script>\n",
       "</div>\n",
       "    </div>\n",
       "  </div>\n"
      ],
      "text/plain": [
       "col_0     0   1\n",
       "prefer         \n",
       "0       247  12\n",
       "1        17  77"
      ]
     },
     "execution_count": 119,
     "metadata": {},
     "output_type": "execute_result"
    }
   ],
   "source": [
    "pd.crosstab(y_test,y_pred)"
   ]
  },
  {
   "cell_type": "markdown",
   "metadata": {
    "id": "KmocosehIPav"
   },
   "source": [
    "##Recommendation"
   ]
  },
  {
   "cell_type": "code",
   "execution_count": 121,
   "metadata": {
    "colab": {
     "base_uri": "https://localhost:8080/",
     "height": 300
    },
    "id": "TpPiIzfUIJR1",
    "outputId": "06962a71-f12d-4f19-a9dc-830a3f5e6a60"
   },
   "outputs": [
    {
     "data": {
      "text/html": [
       "\n",
       "  <div id=\"df-35365cb4-cc21-42df-9fe0-a12508eb9684\" class=\"colab-df-container\">\n",
       "    <div>\n",
       "<style scoped>\n",
       "    .dataframe tbody tr th:only-of-type {\n",
       "        vertical-align: middle;\n",
       "    }\n",
       "\n",
       "    .dataframe tbody tr th {\n",
       "        vertical-align: top;\n",
       "    }\n",
       "\n",
       "    .dataframe thead th {\n",
       "        text-align: right;\n",
       "    }\n",
       "</style>\n",
       "<table border=\"1\" class=\"dataframe\">\n",
       "  <thead>\n",
       "    <tr style=\"text-align: right;\">\n",
       "      <th></th>\n",
       "      <th>accuracy_score</th>\n",
       "    </tr>\n",
       "  </thead>\n",
       "  <tbody>\n",
       "    <tr>\n",
       "      <th>LogisticRegression</th>\n",
       "      <td>0.830028</td>\n",
       "    </tr>\n",
       "    <tr>\n",
       "      <th>KNNClassifier</th>\n",
       "      <td>0.912181</td>\n",
       "    </tr>\n",
       "    <tr>\n",
       "      <th>SupportVectorClassifier</th>\n",
       "      <td>0.895184</td>\n",
       "    </tr>\n",
       "    <tr>\n",
       "      <th>DecisionTreeClassifier</th>\n",
       "      <td>0.903683</td>\n",
       "    </tr>\n",
       "    <tr>\n",
       "      <th>RandomForestClassifier</th>\n",
       "      <td>0.917847</td>\n",
       "    </tr>\n",
       "    <tr>\n",
       "      <th>Bagging</th>\n",
       "      <td>0.898017</td>\n",
       "    </tr>\n",
       "    <tr>\n",
       "      <th>GradientBoosting</th>\n",
       "      <td>0.912181</td>\n",
       "    </tr>\n",
       "    <tr>\n",
       "      <th>XGBoosting</th>\n",
       "      <td>0.915014</td>\n",
       "    </tr>\n",
       "  </tbody>\n",
       "</table>\n",
       "</div>\n",
       "    <div class=\"colab-df-buttons\">\n",
       "\n",
       "  <div class=\"colab-df-container\">\n",
       "    <button class=\"colab-df-convert\" onclick=\"convertToInteractive('df-35365cb4-cc21-42df-9fe0-a12508eb9684')\"\n",
       "            title=\"Convert this dataframe to an interactive table.\"\n",
       "            style=\"display:none;\">\n",
       "\n",
       "  <svg xmlns=\"http://www.w3.org/2000/svg\" height=\"24px\" viewBox=\"0 -960 960 960\">\n",
       "    <path d=\"M120-120v-720h720v720H120Zm60-500h600v-160H180v160Zm220 220h160v-160H400v160Zm0 220h160v-160H400v160ZM180-400h160v-160H180v160Zm440 0h160v-160H620v160ZM180-180h160v-160H180v160Zm440 0h160v-160H620v160Z\"/>\n",
       "  </svg>\n",
       "    </button>\n",
       "\n",
       "  <style>\n",
       "    .colab-df-container {\n",
       "      display:flex;\n",
       "      gap: 12px;\n",
       "    }\n",
       "\n",
       "    .colab-df-convert {\n",
       "      background-color: #E8F0FE;\n",
       "      border: none;\n",
       "      border-radius: 50%;\n",
       "      cursor: pointer;\n",
       "      display: none;\n",
       "      fill: #1967D2;\n",
       "      height: 32px;\n",
       "      padding: 0 0 0 0;\n",
       "      width: 32px;\n",
       "    }\n",
       "\n",
       "    .colab-df-convert:hover {\n",
       "      background-color: #E2EBFA;\n",
       "      box-shadow: 0px 1px 2px rgba(60, 64, 67, 0.3), 0px 1px 3px 1px rgba(60, 64, 67, 0.15);\n",
       "      fill: #174EA6;\n",
       "    }\n",
       "\n",
       "    .colab-df-buttons div {\n",
       "      margin-bottom: 4px;\n",
       "    }\n",
       "\n",
       "    [theme=dark] .colab-df-convert {\n",
       "      background-color: #3B4455;\n",
       "      fill: #D2E3FC;\n",
       "    }\n",
       "\n",
       "    [theme=dark] .colab-df-convert:hover {\n",
       "      background-color: #434B5C;\n",
       "      box-shadow: 0px 1px 3px 1px rgba(0, 0, 0, 0.15);\n",
       "      filter: drop-shadow(0px 1px 2px rgba(0, 0, 0, 0.3));\n",
       "      fill: #FFFFFF;\n",
       "    }\n",
       "  </style>\n",
       "\n",
       "    <script>\n",
       "      const buttonEl =\n",
       "        document.querySelector('#df-35365cb4-cc21-42df-9fe0-a12508eb9684 button.colab-df-convert');\n",
       "      buttonEl.style.display =\n",
       "        google.colab.kernel.accessAllowed ? 'block' : 'none';\n",
       "\n",
       "      async function convertToInteractive(key) {\n",
       "        const element = document.querySelector('#df-35365cb4-cc21-42df-9fe0-a12508eb9684');\n",
       "        const dataTable =\n",
       "          await google.colab.kernel.invokeFunction('convertToInteractive',\n",
       "                                                    [key], {});\n",
       "        if (!dataTable) return;\n",
       "\n",
       "        const docLinkHtml = 'Like what you see? Visit the ' +\n",
       "          '<a target=\"_blank\" href=https://colab.research.google.com/notebooks/data_table.ipynb>data table notebook</a>'\n",
       "          + ' to learn more about interactive tables.';\n",
       "        element.innerHTML = '';\n",
       "        dataTable['output_type'] = 'display_data';\n",
       "        await google.colab.output.renderOutput(dataTable, element);\n",
       "        const docLink = document.createElement('div');\n",
       "        docLink.innerHTML = docLinkHtml;\n",
       "        element.appendChild(docLink);\n",
       "      }\n",
       "    </script>\n",
       "  </div>\n",
       "\n",
       "\n",
       "<div id=\"df-c7d2b20b-7dc1-4600-9b3a-d1d9bf579552\">\n",
       "  <button class=\"colab-df-quickchart\" onclick=\"quickchart('df-c7d2b20b-7dc1-4600-9b3a-d1d9bf579552')\"\n",
       "            title=\"Suggest charts.\"\n",
       "            style=\"display:none;\">\n",
       "\n",
       "<svg xmlns=\"http://www.w3.org/2000/svg\" height=\"24px\"viewBox=\"0 0 24 24\"\n",
       "     width=\"24px\">\n",
       "    <g>\n",
       "        <path d=\"M19 3H5c-1.1 0-2 .9-2 2v14c0 1.1.9 2 2 2h14c1.1 0 2-.9 2-2V5c0-1.1-.9-2-2-2zM9 17H7v-7h2v7zm4 0h-2V7h2v10zm4 0h-2v-4h2v4z\"/>\n",
       "    </g>\n",
       "</svg>\n",
       "  </button>\n",
       "\n",
       "<style>\n",
       "  .colab-df-quickchart {\n",
       "    background-color: #E8F0FE;\n",
       "    border: none;\n",
       "    border-radius: 50%;\n",
       "    cursor: pointer;\n",
       "    display: none;\n",
       "    fill: #1967D2;\n",
       "    height: 32px;\n",
       "    padding: 0 0 0 0;\n",
       "    width: 32px;\n",
       "  }\n",
       "\n",
       "  .colab-df-quickchart:hover {\n",
       "    background-color: #E2EBFA;\n",
       "    box-shadow: 0px 1px 2px rgba(60, 64, 67, 0.3), 0px 1px 3px 1px rgba(60, 64, 67, 0.15);\n",
       "    fill: #174EA6;\n",
       "  }\n",
       "\n",
       "  [theme=dark] .colab-df-quickchart {\n",
       "    background-color: #3B4455;\n",
       "    fill: #D2E3FC;\n",
       "  }\n",
       "\n",
       "  [theme=dark] .colab-df-quickchart:hover {\n",
       "    background-color: #434B5C;\n",
       "    box-shadow: 0px 1px 3px 1px rgba(0, 0, 0, 0.15);\n",
       "    filter: drop-shadow(0px 1px 2px rgba(0, 0, 0, 0.3));\n",
       "    fill: #FFFFFF;\n",
       "  }\n",
       "</style>\n",
       "\n",
       "  <script>\n",
       "    async function quickchart(key) {\n",
       "      const charts = await google.colab.kernel.invokeFunction(\n",
       "          'suggestCharts', [key], {});\n",
       "    }\n",
       "    (() => {\n",
       "      let quickchartButtonEl =\n",
       "        document.querySelector('#df-c7d2b20b-7dc1-4600-9b3a-d1d9bf579552 button');\n",
       "      quickchartButtonEl.style.display =\n",
       "        google.colab.kernel.accessAllowed ? 'block' : 'none';\n",
       "    })();\n",
       "  </script>\n",
       "</div>\n",
       "    </div>\n",
       "  </div>\n"
      ],
      "text/plain": [
       "                         accuracy_score\n",
       "LogisticRegression             0.830028\n",
       "KNNClassifier                  0.912181\n",
       "SupportVectorClassifier        0.895184\n",
       "DecisionTreeClassifier         0.903683\n",
       "RandomForestClassifier         0.917847\n",
       "Bagging                        0.898017\n",
       "GradientBoosting               0.912181\n",
       "XGBoosting                     0.915014"
      ]
     },
     "execution_count": 121,
     "metadata": {},
     "output_type": "execute_result"
    }
   ],
   "source": [
    "accuracy=[0.830028328611898,0.9121813031161473,0.8951841359773371,0.9036827195467422,0.9178470254957507,0.8980169971671388,0.9121813031161473,0.9150141643059491]\n",
    "Accuracy_table=pd.DataFrame(accuracy,columns=['accuracy_score'],index=['LogisticRegression','KNNClassifier','SupportVectorClassifier','DecisionTreeClassifier','RandomForestClassifier','Bagging','GradientBoosting','XGBoosting'])\n",
    "Accuracy_table"
   ]
  },
  {
   "cell_type": "markdown",
   "metadata": {
    "id": "BDoCFoSyK_Iy"
   },
   "source": [
    "**From above accuracy scores, i'm reccomend RandomForest Classifier model,since its accuracy score is high**"
   ]
  },
  {
   "cell_type": "code",
   "execution_count": null,
   "metadata": {
    "id": "atPws9tIKF-R"
   },
   "outputs": [],
   "source": []
  }
 ],
 "metadata": {
  "colab": {
   "provenance": []
  },
  "kernelspec": {
   "display_name": "Python 3 (ipykernel)",
   "language": "python",
   "name": "python3"
  },
  "language_info": {
   "codemirror_mode": {
    "name": "ipython",
    "version": 3
   },
   "file_extension": ".py",
   "mimetype": "text/x-python",
   "name": "python",
   "nbconvert_exporter": "python",
   "pygments_lexer": "ipython3",
   "version": "3.10.9"
  }
 },
 "nbformat": 4,
 "nbformat_minor": 1
}
